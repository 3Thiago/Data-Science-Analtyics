{
 "cells": [
  {
   "cell_type": "markdown",
   "metadata": {},
   "source": [
    "<h1><center> Boston Housing Prices Prediction"
   ]
  },
  {
   "cell_type": "markdown",
   "metadata": {},
   "source": [
    "\n",
    "This data frame contains the following columns:\n",
    "\n",
    "**crim**: per capita crime rate by town.\n",
    "**zn**: proportion of residential land zoned for lots over 25,000 sq.ft.\n",
    "**indus**: proportion of non-retail business acres per town.\n",
    "**chas**: Charles River dummy variable (= 1 if tract bounds river; 0 otherwise).\n",
    "**nox**: nitrogen oxides concentration (parts per 10 million).\n",
    "**rm**: average number of rooms per dwelling.\n",
    "**age**: proportion of owner-occupied units built prior to 1940.\n",
    "**dis**: weighted mean of distances to five Boston employment centres.\n",
    "**rad**: index of accessibility to radial highways.\n",
    "**tax**: full-value property-tax rate per 10,000.\n",
    "**ptratio**: pupil-teacher ratio by town.\n",
    "**black**: 1000(Bk - 0.63)^2 where Bk is the proportion of blacks by town.\n",
    "**lstat**: lower status of the population (percent).\n",
    "**medv**: median value of owner-occupied homes in $1000s."
   ]
  },
  {
   "cell_type": "markdown",
   "metadata": {},
   "source": [
    "## Problem Statement:\n",
    "This is just a template"
   ]
  },
  {
   "cell_type": "markdown",
   "metadata": {},
   "source": [
    "## Hypothesis:\n",
    "1. Lower crime rates means safer neighbourhoods thus would mean higher housing prices as area will be more appealing. (**crim**)\n",
    "2. The higher number of rooms per dwelling increases the housing value thus leads to higher prices. (**rm**)\n",
    "3. Higer concentration nitrogen oxides are undesirable due to associate health problems therefore would lead to lower housing prices. (**nox**)\n",
    "4. Lower pupil-teacher ratio will result in higher prices due to more personalize attention for student. (**ptratio**)\n",
    "5. Blacks in the US live in lower valued communities so this would mean that prices would be lower. (**black**)\n",
    "6. The more land zoned for residental purposes means would deem an increased home prices as agricultural lands are cheaply priced. (**crim**)\n",
    "7. Living near a river is not desirable as urbanized areas do not have that rural feature thus decreasing the housing prices.(**chas**)\n",
    "8. Higher taxes will lead to higher prices so as to compensation of taxes. (**tax**)\n",
    "9. Accessibility to highway will increase the housing prices as it shows more urbanized infrastructure for all uses. (**rad**)\n",
    "10. The closer the distance to place of employment will increase prices as it will make homes more appealing to buyers (**dis**)\n",
    "11. Older homes are more run-down and less appealing to buyers as it may with lots of unlaying issues thus decrease home prices. (**age**)\n",
    "12. Unsure of what Istat means or how to interpret this feature variable. (**Istat**)"
   ]
  },
  {
   "cell_type": "code",
   "execution_count": 1,
   "metadata": {
    "collapsed": true
   },
   "outputs": [],
   "source": [
    "#Libraries\n",
    "import numpy as np \n",
    "import pandas as pd\n",
    "import sklearn as sk\n",
    "import seaborn as sb\n",
    "%matplotlib inline "
   ]
  },
  {
   "cell_type": "markdown",
   "metadata": {},
   "source": [
    "## Data Acquisition"
   ]
  },
  {
   "cell_type": "code",
   "execution_count": 2,
   "metadata": {},
   "outputs": [
    {
     "data": {
      "text/html": [
       "<div>\n",
       "<style>\n",
       "    .dataframe thead tr:only-child th {\n",
       "        text-align: right;\n",
       "    }\n",
       "\n",
       "    .dataframe thead th {\n",
       "        text-align: left;\n",
       "    }\n",
       "\n",
       "    .dataframe tbody tr th {\n",
       "        vertical-align: top;\n",
       "    }\n",
       "</style>\n",
       "<table border=\"1\" class=\"dataframe\">\n",
       "  <thead>\n",
       "    <tr style=\"text-align: right;\">\n",
       "      <th></th>\n",
       "      <th>ID</th>\n",
       "      <th>crim</th>\n",
       "      <th>zn</th>\n",
       "      <th>indus</th>\n",
       "      <th>chas</th>\n",
       "      <th>nox</th>\n",
       "      <th>rm</th>\n",
       "      <th>age</th>\n",
       "      <th>dis</th>\n",
       "      <th>rad</th>\n",
       "      <th>tax</th>\n",
       "      <th>ptratio</th>\n",
       "      <th>black</th>\n",
       "      <th>lstat</th>\n",
       "      <th>medv</th>\n",
       "    </tr>\n",
       "  </thead>\n",
       "  <tbody>\n",
       "    <tr>\n",
       "      <th>0</th>\n",
       "      <td>1</td>\n",
       "      <td>0.00632</td>\n",
       "      <td>18.0</td>\n",
       "      <td>2.31</td>\n",
       "      <td>0</td>\n",
       "      <td>0.538</td>\n",
       "      <td>6.575</td>\n",
       "      <td>65.2</td>\n",
       "      <td>4.0900</td>\n",
       "      <td>1</td>\n",
       "      <td>296</td>\n",
       "      <td>15.3</td>\n",
       "      <td>396.90</td>\n",
       "      <td>4.98</td>\n",
       "      <td>24.0</td>\n",
       "    </tr>\n",
       "    <tr>\n",
       "      <th>1</th>\n",
       "      <td>2</td>\n",
       "      <td>0.02731</td>\n",
       "      <td>0.0</td>\n",
       "      <td>7.07</td>\n",
       "      <td>0</td>\n",
       "      <td>0.469</td>\n",
       "      <td>6.421</td>\n",
       "      <td>78.9</td>\n",
       "      <td>4.9671</td>\n",
       "      <td>2</td>\n",
       "      <td>242</td>\n",
       "      <td>17.8</td>\n",
       "      <td>396.90</td>\n",
       "      <td>9.14</td>\n",
       "      <td>21.6</td>\n",
       "    </tr>\n",
       "    <tr>\n",
       "      <th>2</th>\n",
       "      <td>4</td>\n",
       "      <td>0.03237</td>\n",
       "      <td>0.0</td>\n",
       "      <td>2.18</td>\n",
       "      <td>0</td>\n",
       "      <td>0.458</td>\n",
       "      <td>6.998</td>\n",
       "      <td>45.8</td>\n",
       "      <td>6.0622</td>\n",
       "      <td>3</td>\n",
       "      <td>222</td>\n",
       "      <td>18.7</td>\n",
       "      <td>394.63</td>\n",
       "      <td>2.94</td>\n",
       "      <td>33.4</td>\n",
       "    </tr>\n",
       "    <tr>\n",
       "      <th>3</th>\n",
       "      <td>5</td>\n",
       "      <td>0.06905</td>\n",
       "      <td>0.0</td>\n",
       "      <td>2.18</td>\n",
       "      <td>0</td>\n",
       "      <td>0.458</td>\n",
       "      <td>7.147</td>\n",
       "      <td>54.2</td>\n",
       "      <td>6.0622</td>\n",
       "      <td>3</td>\n",
       "      <td>222</td>\n",
       "      <td>18.7</td>\n",
       "      <td>396.90</td>\n",
       "      <td>5.33</td>\n",
       "      <td>36.2</td>\n",
       "    </tr>\n",
       "    <tr>\n",
       "      <th>4</th>\n",
       "      <td>7</td>\n",
       "      <td>0.08829</td>\n",
       "      <td>12.5</td>\n",
       "      <td>7.87</td>\n",
       "      <td>0</td>\n",
       "      <td>0.524</td>\n",
       "      <td>6.012</td>\n",
       "      <td>66.6</td>\n",
       "      <td>5.5605</td>\n",
       "      <td>5</td>\n",
       "      <td>311</td>\n",
       "      <td>15.2</td>\n",
       "      <td>395.60</td>\n",
       "      <td>12.43</td>\n",
       "      <td>22.9</td>\n",
       "    </tr>\n",
       "  </tbody>\n",
       "</table>\n",
       "</div>"
      ],
      "text/plain": [
       "   ID     crim    zn  indus  chas    nox     rm   age     dis  rad  tax  \\\n",
       "0   1  0.00632  18.0   2.31     0  0.538  6.575  65.2  4.0900    1  296   \n",
       "1   2  0.02731   0.0   7.07     0  0.469  6.421  78.9  4.9671    2  242   \n",
       "2   4  0.03237   0.0   2.18     0  0.458  6.998  45.8  6.0622    3  222   \n",
       "3   5  0.06905   0.0   2.18     0  0.458  7.147  54.2  6.0622    3  222   \n",
       "4   7  0.08829  12.5   7.87     0  0.524  6.012  66.6  5.5605    5  311   \n",
       "\n",
       "   ptratio   black  lstat  medv  \n",
       "0     15.3  396.90   4.98  24.0  \n",
       "1     17.8  396.90   9.14  21.6  \n",
       "2     18.7  394.63   2.94  33.4  \n",
       "3     18.7  396.90   5.33  36.2  \n",
       "4     15.2  395.60  12.43  22.9  "
      ]
     },
     "execution_count": 2,
     "metadata": {},
     "output_type": "execute_result"
    }
   ],
   "source": [
    "# importing the dataset\n",
    "location = r\"C:\\Users\\Latoya Clarke\\Desktop\\Data for Analysis\\Bouston Housing Data\\train.csv\"\n",
    "boston = pd.read_csv(location)\n",
    "boston.head()\n"
   ]
  },
  {
   "cell_type": "markdown",
   "metadata": {},
   "source": [
    "##  Data Exploration"
   ]
  },
  {
   "cell_type": "markdown",
   "metadata": {},
   "source": [
    "### Variable Identification"
   ]
  },
  {
   "cell_type": "markdown",
   "metadata": {},
   "source": [
    "1. Target Variable: **medv**\n",
    "2. Predictor Variables: **crim, indus, nox, chas, rm, dis, rad, tax, ptratio**     "
   ]
  },
  {
   "cell_type": "markdown",
   "metadata": {},
   "source": [
    "### Univariate Analysis"
   ]
  },
  {
   "cell_type": "markdown",
   "metadata": {},
   "source": [
    "At this stage, we explore variables one by one. Method to perform uni-variate analysis will depend on whether the variable type is categorical or continuous.\n",
    "\n",
    "Continuous Variables:- In case of continuous variables, we need to understand the central tendency and spread of the variable. These are measured using various statistical metrics visualization methods.\n",
    "\n",
    "Categorical Variables:- For categorical variables, we’ll use frequency table to understand distribution of each category. We can also read as percentage of values under each category. It can be be measured using two metrics, Count and Count% against each category. Bar chart can be used as visualization."
   ]
  },
  {
   "cell_type": "code",
   "execution_count": 3,
   "metadata": {},
   "outputs": [
    {
     "name": "stdout",
     "output_type": "stream",
     "text": [
      "<class 'pandas.core.frame.DataFrame'>\n",
      "RangeIndex: 333 entries, 0 to 332\n",
      "Data columns (total 15 columns):\n",
      "ID         333 non-null int64\n",
      "crim       333 non-null float64\n",
      "zn         333 non-null float64\n",
      "indus      333 non-null float64\n",
      "chas       333 non-null int64\n",
      "nox        333 non-null float64\n",
      "rm         333 non-null float64\n",
      "age        333 non-null float64\n",
      "dis        333 non-null float64\n",
      "rad        333 non-null int64\n",
      "tax        333 non-null int64\n",
      "ptratio    333 non-null float64\n",
      "black      333 non-null float64\n",
      "lstat      333 non-null float64\n",
      "medv       333 non-null float64\n",
      "dtypes: float64(11), int64(4)\n",
      "memory usage: 39.1 KB\n"
     ]
    }
   ],
   "source": [
    "#Taking a general look on the dataset\n",
    "boston.info()\n",
    "\n",
    "#No values missing, All fields are numeric fields\n",
    "#number of entries is 333 with 15 columns"
   ]
  },
  {
   "cell_type": "code",
   "execution_count": 4,
   "metadata": {
    "scrolled": true
   },
   "outputs": [
    {
     "data": {
      "text/html": [
       "<div>\n",
       "<style>\n",
       "    .dataframe thead tr:only-child th {\n",
       "        text-align: right;\n",
       "    }\n",
       "\n",
       "    .dataframe thead th {\n",
       "        text-align: left;\n",
       "    }\n",
       "\n",
       "    .dataframe tbody tr th {\n",
       "        vertical-align: top;\n",
       "    }\n",
       "</style>\n",
       "<table border=\"1\" class=\"dataframe\">\n",
       "  <thead>\n",
       "    <tr style=\"text-align: right;\">\n",
       "      <th></th>\n",
       "      <th>ID</th>\n",
       "      <th>crim</th>\n",
       "      <th>zn</th>\n",
       "      <th>indus</th>\n",
       "      <th>chas</th>\n",
       "      <th>nox</th>\n",
       "      <th>rm</th>\n",
       "      <th>age</th>\n",
       "      <th>dis</th>\n",
       "      <th>rad</th>\n",
       "      <th>tax</th>\n",
       "      <th>ptratio</th>\n",
       "      <th>black</th>\n",
       "      <th>lstat</th>\n",
       "      <th>medv</th>\n",
       "    </tr>\n",
       "  </thead>\n",
       "  <tbody>\n",
       "    <tr>\n",
       "      <th>count</th>\n",
       "      <td>333.000000</td>\n",
       "      <td>333.000000</td>\n",
       "      <td>333.000000</td>\n",
       "      <td>333.000000</td>\n",
       "      <td>333.000000</td>\n",
       "      <td>333.000000</td>\n",
       "      <td>333.000000</td>\n",
       "      <td>333.000000</td>\n",
       "      <td>333.000000</td>\n",
       "      <td>333.000000</td>\n",
       "      <td>333.000000</td>\n",
       "      <td>333.000000</td>\n",
       "      <td>333.000000</td>\n",
       "      <td>333.000000</td>\n",
       "      <td>333.000000</td>\n",
       "    </tr>\n",
       "    <tr>\n",
       "      <th>mean</th>\n",
       "      <td>250.951952</td>\n",
       "      <td>3.360341</td>\n",
       "      <td>10.689189</td>\n",
       "      <td>11.293483</td>\n",
       "      <td>0.060060</td>\n",
       "      <td>0.557144</td>\n",
       "      <td>6.265619</td>\n",
       "      <td>68.226426</td>\n",
       "      <td>3.709934</td>\n",
       "      <td>9.633634</td>\n",
       "      <td>409.279279</td>\n",
       "      <td>18.448048</td>\n",
       "      <td>359.466096</td>\n",
       "      <td>12.515435</td>\n",
       "      <td>22.768769</td>\n",
       "    </tr>\n",
       "    <tr>\n",
       "      <th>std</th>\n",
       "      <td>147.859438</td>\n",
       "      <td>7.352272</td>\n",
       "      <td>22.674762</td>\n",
       "      <td>6.998123</td>\n",
       "      <td>0.237956</td>\n",
       "      <td>0.114955</td>\n",
       "      <td>0.703952</td>\n",
       "      <td>28.133344</td>\n",
       "      <td>1.981123</td>\n",
       "      <td>8.742174</td>\n",
       "      <td>170.841988</td>\n",
       "      <td>2.151821</td>\n",
       "      <td>86.584567</td>\n",
       "      <td>7.067781</td>\n",
       "      <td>9.173468</td>\n",
       "    </tr>\n",
       "    <tr>\n",
       "      <th>min</th>\n",
       "      <td>1.000000</td>\n",
       "      <td>0.006320</td>\n",
       "      <td>0.000000</td>\n",
       "      <td>0.740000</td>\n",
       "      <td>0.000000</td>\n",
       "      <td>0.385000</td>\n",
       "      <td>3.561000</td>\n",
       "      <td>6.000000</td>\n",
       "      <td>1.129600</td>\n",
       "      <td>1.000000</td>\n",
       "      <td>188.000000</td>\n",
       "      <td>12.600000</td>\n",
       "      <td>3.500000</td>\n",
       "      <td>1.730000</td>\n",
       "      <td>5.000000</td>\n",
       "    </tr>\n",
       "    <tr>\n",
       "      <th>25%</th>\n",
       "      <td>123.000000</td>\n",
       "      <td>0.078960</td>\n",
       "      <td>0.000000</td>\n",
       "      <td>5.130000</td>\n",
       "      <td>0.000000</td>\n",
       "      <td>0.453000</td>\n",
       "      <td>5.884000</td>\n",
       "      <td>45.400000</td>\n",
       "      <td>2.122400</td>\n",
       "      <td>4.000000</td>\n",
       "      <td>279.000000</td>\n",
       "      <td>17.400000</td>\n",
       "      <td>376.730000</td>\n",
       "      <td>7.180000</td>\n",
       "      <td>17.400000</td>\n",
       "    </tr>\n",
       "    <tr>\n",
       "      <th>50%</th>\n",
       "      <td>244.000000</td>\n",
       "      <td>0.261690</td>\n",
       "      <td>0.000000</td>\n",
       "      <td>9.900000</td>\n",
       "      <td>0.000000</td>\n",
       "      <td>0.538000</td>\n",
       "      <td>6.202000</td>\n",
       "      <td>76.700000</td>\n",
       "      <td>3.092300</td>\n",
       "      <td>5.000000</td>\n",
       "      <td>330.000000</td>\n",
       "      <td>19.000000</td>\n",
       "      <td>392.050000</td>\n",
       "      <td>10.970000</td>\n",
       "      <td>21.600000</td>\n",
       "    </tr>\n",
       "    <tr>\n",
       "      <th>75%</th>\n",
       "      <td>377.000000</td>\n",
       "      <td>3.678220</td>\n",
       "      <td>12.500000</td>\n",
       "      <td>18.100000</td>\n",
       "      <td>0.000000</td>\n",
       "      <td>0.631000</td>\n",
       "      <td>6.595000</td>\n",
       "      <td>93.800000</td>\n",
       "      <td>5.116700</td>\n",
       "      <td>24.000000</td>\n",
       "      <td>666.000000</td>\n",
       "      <td>20.200000</td>\n",
       "      <td>396.240000</td>\n",
       "      <td>16.420000</td>\n",
       "      <td>25.000000</td>\n",
       "    </tr>\n",
       "    <tr>\n",
       "      <th>max</th>\n",
       "      <td>506.000000</td>\n",
       "      <td>73.534100</td>\n",
       "      <td>100.000000</td>\n",
       "      <td>27.740000</td>\n",
       "      <td>1.000000</td>\n",
       "      <td>0.871000</td>\n",
       "      <td>8.725000</td>\n",
       "      <td>100.000000</td>\n",
       "      <td>10.710300</td>\n",
       "      <td>24.000000</td>\n",
       "      <td>711.000000</td>\n",
       "      <td>21.200000</td>\n",
       "      <td>396.900000</td>\n",
       "      <td>37.970000</td>\n",
       "      <td>50.000000</td>\n",
       "    </tr>\n",
       "  </tbody>\n",
       "</table>\n",
       "</div>"
      ],
      "text/plain": [
       "               ID        crim          zn       indus        chas         nox  \\\n",
       "count  333.000000  333.000000  333.000000  333.000000  333.000000  333.000000   \n",
       "mean   250.951952    3.360341   10.689189   11.293483    0.060060    0.557144   \n",
       "std    147.859438    7.352272   22.674762    6.998123    0.237956    0.114955   \n",
       "min      1.000000    0.006320    0.000000    0.740000    0.000000    0.385000   \n",
       "25%    123.000000    0.078960    0.000000    5.130000    0.000000    0.453000   \n",
       "50%    244.000000    0.261690    0.000000    9.900000    0.000000    0.538000   \n",
       "75%    377.000000    3.678220   12.500000   18.100000    0.000000    0.631000   \n",
       "max    506.000000   73.534100  100.000000   27.740000    1.000000    0.871000   \n",
       "\n",
       "               rm         age         dis         rad         tax     ptratio  \\\n",
       "count  333.000000  333.000000  333.000000  333.000000  333.000000  333.000000   \n",
       "mean     6.265619   68.226426    3.709934    9.633634  409.279279   18.448048   \n",
       "std      0.703952   28.133344    1.981123    8.742174  170.841988    2.151821   \n",
       "min      3.561000    6.000000    1.129600    1.000000  188.000000   12.600000   \n",
       "25%      5.884000   45.400000    2.122400    4.000000  279.000000   17.400000   \n",
       "50%      6.202000   76.700000    3.092300    5.000000  330.000000   19.000000   \n",
       "75%      6.595000   93.800000    5.116700   24.000000  666.000000   20.200000   \n",
       "max      8.725000  100.000000   10.710300   24.000000  711.000000   21.200000   \n",
       "\n",
       "            black       lstat        medv  \n",
       "count  333.000000  333.000000  333.000000  \n",
       "mean   359.466096   12.515435   22.768769  \n",
       "std     86.584567    7.067781    9.173468  \n",
       "min      3.500000    1.730000    5.000000  \n",
       "25%    376.730000    7.180000   17.400000  \n",
       "50%    392.050000   10.970000   21.600000  \n",
       "75%    396.240000   16.420000   25.000000  \n",
       "max    396.900000   37.970000   50.000000  "
      ]
     },
     "execution_count": 4,
     "metadata": {},
     "output_type": "execute_result"
    }
   ],
   "source": [
    "boston.describe()\n",
    "\n",
    "#most field have wide ranges "
   ]
  },
  {
   "cell_type": "markdown",
   "metadata": {},
   "source": [
    "### Bivariate Analysis"
   ]
  },
  {
   "cell_type": "markdown",
   "metadata": {},
   "source": [
    "Bi-variate Analysis finds out the relationship between two variables. Here, we look for association and disassociation between variables at a pre-defined significance level. We can perform bi-variate analysis for any combination of categorical and continuous variables."
   ]
  },
  {
   "cell_type": "code",
   "execution_count": 5,
   "metadata": {},
   "outputs": [
    {
     "data": {
      "text/html": [
       "<div>\n",
       "<style>\n",
       "    .dataframe thead tr:only-child th {\n",
       "        text-align: right;\n",
       "    }\n",
       "\n",
       "    .dataframe thead th {\n",
       "        text-align: left;\n",
       "    }\n",
       "\n",
       "    .dataframe tbody tr th {\n",
       "        vertical-align: top;\n",
       "    }\n",
       "</style>\n",
       "<table border=\"1\" class=\"dataframe\">\n",
       "  <thead>\n",
       "    <tr style=\"text-align: right;\">\n",
       "      <th></th>\n",
       "      <th>ID</th>\n",
       "      <th>crim</th>\n",
       "      <th>zn</th>\n",
       "      <th>indus</th>\n",
       "      <th>chas</th>\n",
       "      <th>nox</th>\n",
       "      <th>rm</th>\n",
       "      <th>age</th>\n",
       "      <th>dis</th>\n",
       "      <th>rad</th>\n",
       "      <th>tax</th>\n",
       "      <th>ptratio</th>\n",
       "      <th>black</th>\n",
       "      <th>lstat</th>\n",
       "      <th>medv</th>\n",
       "    </tr>\n",
       "  </thead>\n",
       "  <tbody>\n",
       "    <tr>\n",
       "      <th>ID</th>\n",
       "      <td>1.000000</td>\n",
       "      <td>0.456312</td>\n",
       "      <td>-0.155639</td>\n",
       "      <td>0.421978</td>\n",
       "      <td>0.007958</td>\n",
       "      <td>0.440185</td>\n",
       "      <td>-0.112790</td>\n",
       "      <td>0.257300</td>\n",
       "      <td>-0.356461</td>\n",
       "      <td>0.707526</td>\n",
       "      <td>0.686246</td>\n",
       "      <td>0.309838</td>\n",
       "      <td>-0.271619</td>\n",
       "      <td>0.281953</td>\n",
       "      <td>-0.221694</td>\n",
       "    </tr>\n",
       "    <tr>\n",
       "      <th>crim</th>\n",
       "      <td>0.456312</td>\n",
       "      <td>1.000000</td>\n",
       "      <td>-0.210913</td>\n",
       "      <td>0.422228</td>\n",
       "      <td>-0.041195</td>\n",
       "      <td>0.463001</td>\n",
       "      <td>-0.310180</td>\n",
       "      <td>0.379034</td>\n",
       "      <td>-0.397067</td>\n",
       "      <td>0.666636</td>\n",
       "      <td>0.617081</td>\n",
       "      <td>0.313409</td>\n",
       "      <td>-0.475796</td>\n",
       "      <td>0.532077</td>\n",
       "      <td>-0.407454</td>\n",
       "    </tr>\n",
       "    <tr>\n",
       "      <th>zn</th>\n",
       "      <td>-0.155639</td>\n",
       "      <td>-0.210913</td>\n",
       "      <td>1.000000</td>\n",
       "      <td>-0.518679</td>\n",
       "      <td>-0.024442</td>\n",
       "      <td>-0.501990</td>\n",
       "      <td>0.328197</td>\n",
       "      <td>-0.544513</td>\n",
       "      <td>0.637142</td>\n",
       "      <td>-0.303663</td>\n",
       "      <td>-0.311180</td>\n",
       "      <td>-0.380449</td>\n",
       "      <td>0.168130</td>\n",
       "      <td>-0.388112</td>\n",
       "      <td>0.344842</td>\n",
       "    </tr>\n",
       "    <tr>\n",
       "      <th>indus</th>\n",
       "      <td>0.421978</td>\n",
       "      <td>0.422228</td>\n",
       "      <td>-0.518679</td>\n",
       "      <td>1.000000</td>\n",
       "      <td>0.037496</td>\n",
       "      <td>0.750087</td>\n",
       "      <td>-0.440365</td>\n",
       "      <td>0.638378</td>\n",
       "      <td>-0.702327</td>\n",
       "      <td>0.569779</td>\n",
       "      <td>0.708313</td>\n",
       "      <td>0.391087</td>\n",
       "      <td>-0.335049</td>\n",
       "      <td>0.614155</td>\n",
       "      <td>-0.473932</td>\n",
       "    </tr>\n",
       "    <tr>\n",
       "      <th>chas</th>\n",
       "      <td>0.007958</td>\n",
       "      <td>-0.041195</td>\n",
       "      <td>-0.024442</td>\n",
       "      <td>0.037496</td>\n",
       "      <td>1.000000</td>\n",
       "      <td>0.080275</td>\n",
       "      <td>0.112251</td>\n",
       "      <td>0.068286</td>\n",
       "      <td>-0.081834</td>\n",
       "      <td>0.007714</td>\n",
       "      <td>-0.021826</td>\n",
       "      <td>-0.125067</td>\n",
       "      <td>0.062029</td>\n",
       "      <td>-0.050055</td>\n",
       "      <td>0.204390</td>\n",
       "    </tr>\n",
       "    <tr>\n",
       "      <th>nox</th>\n",
       "      <td>0.440185</td>\n",
       "      <td>0.463001</td>\n",
       "      <td>-0.501990</td>\n",
       "      <td>0.750087</td>\n",
       "      <td>0.080275</td>\n",
       "      <td>1.000000</td>\n",
       "      <td>-0.338515</td>\n",
       "      <td>0.736000</td>\n",
       "      <td>-0.769364</td>\n",
       "      <td>0.612180</td>\n",
       "      <td>0.670722</td>\n",
       "      <td>0.192513</td>\n",
       "      <td>-0.369416</td>\n",
       "      <td>0.598874</td>\n",
       "      <td>-0.413054</td>\n",
       "    </tr>\n",
       "    <tr>\n",
       "      <th>rm</th>\n",
       "      <td>-0.112790</td>\n",
       "      <td>-0.310180</td>\n",
       "      <td>0.328197</td>\n",
       "      <td>-0.440365</td>\n",
       "      <td>0.112251</td>\n",
       "      <td>-0.338515</td>\n",
       "      <td>1.000000</td>\n",
       "      <td>-0.248573</td>\n",
       "      <td>0.269191</td>\n",
       "      <td>-0.272783</td>\n",
       "      <td>-0.356987</td>\n",
       "      <td>-0.366927</td>\n",
       "      <td>0.155202</td>\n",
       "      <td>-0.615747</td>\n",
       "      <td>0.689598</td>\n",
       "    </tr>\n",
       "    <tr>\n",
       "      <th>age</th>\n",
       "      <td>0.257300</td>\n",
       "      <td>0.379034</td>\n",
       "      <td>-0.544513</td>\n",
       "      <td>0.638378</td>\n",
       "      <td>0.068286</td>\n",
       "      <td>0.736000</td>\n",
       "      <td>-0.248573</td>\n",
       "      <td>1.000000</td>\n",
       "      <td>-0.764208</td>\n",
       "      <td>0.447380</td>\n",
       "      <td>0.511893</td>\n",
       "      <td>0.259293</td>\n",
       "      <td>-0.268054</td>\n",
       "      <td>0.588834</td>\n",
       "      <td>-0.358888</td>\n",
       "    </tr>\n",
       "    <tr>\n",
       "      <th>dis</th>\n",
       "      <td>-0.356461</td>\n",
       "      <td>-0.397067</td>\n",
       "      <td>0.637142</td>\n",
       "      <td>-0.702327</td>\n",
       "      <td>-0.081834</td>\n",
       "      <td>-0.769364</td>\n",
       "      <td>0.269191</td>\n",
       "      <td>-0.764208</td>\n",
       "      <td>1.000000</td>\n",
       "      <td>-0.477610</td>\n",
       "      <td>-0.529539</td>\n",
       "      <td>-0.231101</td>\n",
       "      <td>0.284374</td>\n",
       "      <td>-0.505939</td>\n",
       "      <td>0.249422</td>\n",
       "    </tr>\n",
       "    <tr>\n",
       "      <th>rad</th>\n",
       "      <td>0.707526</td>\n",
       "      <td>0.666636</td>\n",
       "      <td>-0.303663</td>\n",
       "      <td>0.569779</td>\n",
       "      <td>0.007714</td>\n",
       "      <td>0.612180</td>\n",
       "      <td>-0.272783</td>\n",
       "      <td>0.447380</td>\n",
       "      <td>-0.477610</td>\n",
       "      <td>1.000000</td>\n",
       "      <td>0.903562</td>\n",
       "      <td>0.470849</td>\n",
       "      <td>-0.406405</td>\n",
       "      <td>0.484568</td>\n",
       "      <td>-0.352251</td>\n",
       "    </tr>\n",
       "    <tr>\n",
       "      <th>tax</th>\n",
       "      <td>0.686246</td>\n",
       "      <td>0.617081</td>\n",
       "      <td>-0.311180</td>\n",
       "      <td>0.708313</td>\n",
       "      <td>-0.021826</td>\n",
       "      <td>0.670722</td>\n",
       "      <td>-0.356987</td>\n",
       "      <td>0.511893</td>\n",
       "      <td>-0.529539</td>\n",
       "      <td>0.903562</td>\n",
       "      <td>1.000000</td>\n",
       "      <td>0.467437</td>\n",
       "      <td>-0.406477</td>\n",
       "      <td>0.544485</td>\n",
       "      <td>-0.448078</td>\n",
       "    </tr>\n",
       "    <tr>\n",
       "      <th>ptratio</th>\n",
       "      <td>0.309838</td>\n",
       "      <td>0.313409</td>\n",
       "      <td>-0.380449</td>\n",
       "      <td>0.391087</td>\n",
       "      <td>-0.125067</td>\n",
       "      <td>0.192513</td>\n",
       "      <td>-0.366927</td>\n",
       "      <td>0.259293</td>\n",
       "      <td>-0.231101</td>\n",
       "      <td>0.470849</td>\n",
       "      <td>0.467437</td>\n",
       "      <td>1.000000</td>\n",
       "      <td>-0.164614</td>\n",
       "      <td>0.374802</td>\n",
       "      <td>-0.481376</td>\n",
       "    </tr>\n",
       "    <tr>\n",
       "      <th>black</th>\n",
       "      <td>-0.271619</td>\n",
       "      <td>-0.475796</td>\n",
       "      <td>0.168130</td>\n",
       "      <td>-0.335049</td>\n",
       "      <td>0.062029</td>\n",
       "      <td>-0.369416</td>\n",
       "      <td>0.155202</td>\n",
       "      <td>-0.268054</td>\n",
       "      <td>0.284374</td>\n",
       "      <td>-0.406405</td>\n",
       "      <td>-0.406477</td>\n",
       "      <td>-0.164614</td>\n",
       "      <td>1.000000</td>\n",
       "      <td>-0.356693</td>\n",
       "      <td>0.336660</td>\n",
       "    </tr>\n",
       "    <tr>\n",
       "      <th>lstat</th>\n",
       "      <td>0.281953</td>\n",
       "      <td>0.532077</td>\n",
       "      <td>-0.388112</td>\n",
       "      <td>0.614155</td>\n",
       "      <td>-0.050055</td>\n",
       "      <td>0.598874</td>\n",
       "      <td>-0.615747</td>\n",
       "      <td>0.588834</td>\n",
       "      <td>-0.505939</td>\n",
       "      <td>0.484568</td>\n",
       "      <td>0.544485</td>\n",
       "      <td>0.374802</td>\n",
       "      <td>-0.356693</td>\n",
       "      <td>1.000000</td>\n",
       "      <td>-0.738600</td>\n",
       "    </tr>\n",
       "    <tr>\n",
       "      <th>medv</th>\n",
       "      <td>-0.221694</td>\n",
       "      <td>-0.407454</td>\n",
       "      <td>0.344842</td>\n",
       "      <td>-0.473932</td>\n",
       "      <td>0.204390</td>\n",
       "      <td>-0.413054</td>\n",
       "      <td>0.689598</td>\n",
       "      <td>-0.358888</td>\n",
       "      <td>0.249422</td>\n",
       "      <td>-0.352251</td>\n",
       "      <td>-0.448078</td>\n",
       "      <td>-0.481376</td>\n",
       "      <td>0.336660</td>\n",
       "      <td>-0.738600</td>\n",
       "      <td>1.000000</td>\n",
       "    </tr>\n",
       "  </tbody>\n",
       "</table>\n",
       "</div>"
      ],
      "text/plain": [
       "               ID      crim        zn     indus      chas       nox        rm  \\\n",
       "ID       1.000000  0.456312 -0.155639  0.421978  0.007958  0.440185 -0.112790   \n",
       "crim     0.456312  1.000000 -0.210913  0.422228 -0.041195  0.463001 -0.310180   \n",
       "zn      -0.155639 -0.210913  1.000000 -0.518679 -0.024442 -0.501990  0.328197   \n",
       "indus    0.421978  0.422228 -0.518679  1.000000  0.037496  0.750087 -0.440365   \n",
       "chas     0.007958 -0.041195 -0.024442  0.037496  1.000000  0.080275  0.112251   \n",
       "nox      0.440185  0.463001 -0.501990  0.750087  0.080275  1.000000 -0.338515   \n",
       "rm      -0.112790 -0.310180  0.328197 -0.440365  0.112251 -0.338515  1.000000   \n",
       "age      0.257300  0.379034 -0.544513  0.638378  0.068286  0.736000 -0.248573   \n",
       "dis     -0.356461 -0.397067  0.637142 -0.702327 -0.081834 -0.769364  0.269191   \n",
       "rad      0.707526  0.666636 -0.303663  0.569779  0.007714  0.612180 -0.272783   \n",
       "tax      0.686246  0.617081 -0.311180  0.708313 -0.021826  0.670722 -0.356987   \n",
       "ptratio  0.309838  0.313409 -0.380449  0.391087 -0.125067  0.192513 -0.366927   \n",
       "black   -0.271619 -0.475796  0.168130 -0.335049  0.062029 -0.369416  0.155202   \n",
       "lstat    0.281953  0.532077 -0.388112  0.614155 -0.050055  0.598874 -0.615747   \n",
       "medv    -0.221694 -0.407454  0.344842 -0.473932  0.204390 -0.413054  0.689598   \n",
       "\n",
       "              age       dis       rad       tax   ptratio     black     lstat  \\\n",
       "ID       0.257300 -0.356461  0.707526  0.686246  0.309838 -0.271619  0.281953   \n",
       "crim     0.379034 -0.397067  0.666636  0.617081  0.313409 -0.475796  0.532077   \n",
       "zn      -0.544513  0.637142 -0.303663 -0.311180 -0.380449  0.168130 -0.388112   \n",
       "indus    0.638378 -0.702327  0.569779  0.708313  0.391087 -0.335049  0.614155   \n",
       "chas     0.068286 -0.081834  0.007714 -0.021826 -0.125067  0.062029 -0.050055   \n",
       "nox      0.736000 -0.769364  0.612180  0.670722  0.192513 -0.369416  0.598874   \n",
       "rm      -0.248573  0.269191 -0.272783 -0.356987 -0.366927  0.155202 -0.615747   \n",
       "age      1.000000 -0.764208  0.447380  0.511893  0.259293 -0.268054  0.588834   \n",
       "dis     -0.764208  1.000000 -0.477610 -0.529539 -0.231101  0.284374 -0.505939   \n",
       "rad      0.447380 -0.477610  1.000000  0.903562  0.470849 -0.406405  0.484568   \n",
       "tax      0.511893 -0.529539  0.903562  1.000000  0.467437 -0.406477  0.544485   \n",
       "ptratio  0.259293 -0.231101  0.470849  0.467437  1.000000 -0.164614  0.374802   \n",
       "black   -0.268054  0.284374 -0.406405 -0.406477 -0.164614  1.000000 -0.356693   \n",
       "lstat    0.588834 -0.505939  0.484568  0.544485  0.374802 -0.356693  1.000000   \n",
       "medv    -0.358888  0.249422 -0.352251 -0.448078 -0.481376  0.336660 -0.738600   \n",
       "\n",
       "             medv  \n",
       "ID      -0.221694  \n",
       "crim    -0.407454  \n",
       "zn       0.344842  \n",
       "indus   -0.473932  \n",
       "chas     0.204390  \n",
       "nox     -0.413054  \n",
       "rm       0.689598  \n",
       "age     -0.358888  \n",
       "dis      0.249422  \n",
       "rad     -0.352251  \n",
       "tax     -0.448078  \n",
       "ptratio -0.481376  \n",
       "black    0.336660  \n",
       "lstat   -0.738600  \n",
       "medv     1.000000  "
      ]
     },
     "execution_count": 5,
     "metadata": {},
     "output_type": "execute_result"
    }
   ],
   "source": [
    "# Seeing the values correlate with the predictor variables.\n",
    "boston.corr()\n",
    "\n",
    "# medv shows a relatively strong positive correlation to the rm and a moderately positive correlation to zn\n",
    "# Also shows a negatively, moderately correlation to crim, indus, nox, tax, ptratio\n",
    "# and shows a strong negative correlation to Istat \n",
    "# These variables will be used for the analysis: rm, Lstat, crim, zn, indus, nox, tax, ptratio"
   ]
  },
  {
   "cell_type": "code",
   "execution_count": 6,
   "metadata": {},
   "outputs": [
    {
     "data": {
      "text/plain": [
       "<seaborn.axisgrid.FacetGrid at 0x159a55d65f8>"
      ]
     },
     "execution_count": 6,
     "metadata": {},
     "output_type": "execute_result"
    },
    {
     "data": {
      "image/png": "[encoded data removed]",
      "text/plain": [
       "<matplotlib.figure.Figure at 0x159a55d67b8>"
      ]
     },
     "metadata": {},
     "output_type": "display_data"
    }
   ],
   "source": [
    "sb.set(color_codes=True)\n",
    "sb.lmplot(x=\"crim\", y=\"tax\", data=boston)"
   ]
  },
  {
   "cell_type": "code",
   "execution_count": 7,
   "metadata": {},
   "outputs": [
    {
     "data": {
      "text/plain": [
       "<seaborn.axisgrid.FacetGrid at 0x159a563d588>"
      ]
     },
     "execution_count": 7,
     "metadata": {},
     "output_type": "execute_result"
    },
    {
     "data": {
      "image/png": "[encoded data removed]",
      "text/plain": [
       "<matplotlib.figure.Figure at 0x159a563dba8>"
      ]
     },
     "metadata": {},
     "output_type": "display_data"
    }
   ],
   "source": [
    "sb.lmplot(x=\"nox\", y=\"indus\", data=boston)"
   ]
  },
  {
   "cell_type": "code",
   "execution_count": 8,
   "metadata": {},
   "outputs": [
    {
     "data": {
      "text/plain": [
       "<seaborn.axisgrid.FacetGrid at 0x159a59d2fd0>"
      ]
     },
     "execution_count": 8,
     "metadata": {},
     "output_type": "execute_result"
    },
    {
     "data": {
      "image/png": "[encoded data removed]",
      "text/plain": [
       "<matplotlib.figure.Figure at 0x159a59d2e10>"
      ]
     },
     "metadata": {},
     "output_type": "display_data"
    }
   ],
   "source": [
    "sb.lmplot(x=\"rm\", y=\"lstat\", data=boston)"
   ]
  },
  {
   "cell_type": "code",
   "execution_count": 9,
   "metadata": {},
   "outputs": [
    {
     "data": {
      "text/plain": [
       "<seaborn.axisgrid.FacetGrid at 0x159a5d5fba8>"
      ]
     },
     "execution_count": 9,
     "metadata": {},
     "output_type": "execute_result"
    },
    {
     "data": {
      "image/png": "[encoded data removed]",
      "text/plain": [
       "<matplotlib.figure.Figure at 0x159a5d5f7b8>"
      ]
     },
     "metadata": {},
     "output_type": "display_data"
    }
   ],
   "source": [
    "sb.lmplot(x=\"indus\", y=\"tax\", data=boston)"
   ]
  },
  {
   "cell_type": "markdown",
   "metadata": {},
   "source": [
    "### Missing Value Treatment"
   ]
  },
  {
   "cell_type": "markdown",
   "metadata": {},
   "source": [
    "Missing data in the training data set can reduce the power / fit of a model or can lead to a biased model because we have not analysed the behavior and relationship with other variables correctly. It can lead to wrong prediction or classification."
   ]
  },
  {
   "cell_type": "markdown",
   "metadata": {},
   "source": [
    "### Outlier Detection and Treatment"
   ]
  },
  {
   "cell_type": "markdown",
   "metadata": {},
   "source": [
    "Outlier can be of two types: Univariate and Multivariate. Above, we have discussed the example of univariate outlier. These outliers can be found when we look at distribution of a single variable. Multi-variate outliers are outliers in an n-dimensional space.\n",
    "Outliers can drastically change the results of the data analysis and statistical modeling.\n",
    "Most commonly used method to detect outliers is visualization. We use various visualization methods, like Box-plot, Histogram, Scatter Plots."
   ]
  },
  {
   "cell_type": "markdown",
   "metadata": {},
   "source": [
    "## Feature Engineering"
   ]
  },
  {
   "cell_type": "markdown",
   "metadata": {},
   "source": [
    "Feature engineering is the science (and art) of extracting more information from existing data. You are actually making the data you already have more useful. Feature engineering itself can be divided in 2 steps:\n",
    "Variable transformation and\n",
    "Variable / Feature creation."
   ]
  },
  {
   "cell_type": "markdown",
   "metadata": {},
   "source": [
    "### Variable Transformation"
   ]
  },
  {
   "cell_type": "markdown",
   "metadata": {},
   "source": [
    "In data modelling, transformation refers to the replacement of a variable by a function. In other words, transformation is a process that changes the distribution or relationship of a variable with others."
   ]
  },
  {
   "cell_type": "markdown",
   "metadata": {},
   "source": [
    "### Variable Creation"
   ]
  },
  {
   "cell_type": "markdown",
   "metadata": {},
   "source": [
    "Feature / Variable creation is a process to generate a new variables / features based on existing variable(s)."
   ]
  },
  {
   "cell_type": "markdown",
   "metadata": {},
   "source": [
    "## Model Building"
   ]
  },
  {
   "cell_type": "markdown",
   "metadata": {},
   "source": [
    "This is making predictive models on the data"
   ]
  },
  {
   "cell_type": "code",
   "execution_count": 13,
   "metadata": {},
   "outputs": [],
   "source": [
    "y = np.array(boston.medv)\n",
    "\n",
    "boston_selected = boston.drop(['black','rad','medv','chas','ID','dis','age','ptratio'], axis = 1)\n",
    "X= boston_selected.to_dict(orient='records')\n",
    "\n",
    "from sklearn.feature_extraction import DictVectorizer\n",
    "vec = DictVectorizer()\n",
    "X = vec.fit_transform(X).toarray()"
   ]
  },
  {
   "cell_type": "code",
   "execution_count": 14,
   "metadata": {
    "collapsed": true
   },
   "outputs": [],
   "source": [
    "#Splitting the data for training and testing\n",
    "from sklearn.model_selection import train_test_split\n",
    "X_train, X_test, y_train, y_test = train_test_split(X, y, test_size = 0.2, random_state = 1234)"
   ]
  },
  {
   "cell_type": "code",
   "execution_count": 15,
   "metadata": {},
   "outputs": [
    {
     "name": "stdout",
     "output_type": "stream",
     "text": [
      "Coefficient: \n",
      " [ -7.36397471e-02   1.00663486e-01  -7.45602882e-01   4.13681662e+00\n",
      "   4.41093028e+00  -1.99986569e-03   2.00314075e-02]\n",
      "Intercept: \n",
      " 1.53472393832\n"
     ]
    }
   ],
   "source": [
    "from sklearn import linear_model\n",
    "model = linear_model.LinearRegression()\n",
    "\n",
    "model.fit(X_train, y_train)\n",
    "model.score(X_train, y_train)\n",
    "#Equation coefficient and Intercept\n",
    "print('Coefficient: \\n', model.coef_)\n",
    "print('Intercept: \\n', model.intercept_)"
   ]
  },
  {
   "cell_type": "code",
   "execution_count": 16,
   "metadata": {},
   "outputs": [],
   "source": [
    "#Predict Output\n",
    "predicted= model.predict(X_test)"
   ]
  },
  {
   "attachments": {
    "image.png": {
     "image/png": "[encoded data removed]"
    }
   },
   "cell_type": "markdown",
   "metadata": {},
   "source": [
    "#### Using the Root Mean Squared Error (RMSE) to test Accuracy of Regression Model\n",
    "\n",
    "![image.png](attachment:image.png)"
   ]
  },
  {
   "cell_type": "code",
   "execution_count": 17,
   "metadata": {},
   "outputs": [
    {
     "data": {
      "text/plain": [
       "5.4105271455898"
      ]
     },
     "execution_count": 17,
     "metadata": {},
     "output_type": "execute_result"
    }
   ],
   "source": [
    "from sklearn.metrics import mean_squared_error\n",
    "from math import sqrt\n",
    "\n",
    "rms = sqrt(mean_squared_error(y_test, predicted))\n",
    "rms"
   ]
  },
  {
   "cell_type": "markdown",
   "metadata": {},
   "source": [
    "##  Data Visualization"
   ]
  },
  {
   "cell_type": "markdown",
   "metadata": {},
   "source": [
    "Create visualizations for presentation"
   ]
  },
  {
   "cell_type": "markdown",
   "metadata": {},
   "source": [
    "<center>Shamar Morgan (B.Eng)<center>\n",
    "<center>Electrical Engineering<center>\n",
    "<center>*Data Scientist*<center>"
   ]
  }
 ],
 "metadata": {
  "kernelspec": {
   "display_name": "Python 3",
   "language": "python",
   "name": "python3"
  },
  "language_info": {
   "codemirror_mode": {
    "name": "ipython",
    "version": 3
   },
   "file_extension": ".py",
   "mimetype": "text/x-python",
   "name": "python",
   "nbconvert_exporter": "python",
   "pygments_lexer": "ipython3",
   "version": "3.6.3"
  }
 },
 "nbformat": 4,
 "nbformat_minor": 2
}
