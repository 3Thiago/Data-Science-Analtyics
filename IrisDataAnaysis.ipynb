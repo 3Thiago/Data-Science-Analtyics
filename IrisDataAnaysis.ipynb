{
 "cells": [
  {
   "cell_type": "markdown",
   "metadata": {},
   "source": [
    "<h1><center>Analysis Of the Iris Flowering Plant Dataset</center></h1> "
   ]
  },
  {
   "cell_type": "markdown",
   "metadata": {},
   "source": [
    "![Iris](https://www.watersidenursery.co.uk/shop/media/catalog/product/cache/1/image/9df78eab33525d08d6e5fb8d27136e95/i/r/irisversicolormysteriousmon-lge_1.jpg)"
   ]
  },
  {
   "cell_type": "code",
   "execution_count": 1,
   "metadata": {
    "collapsed": true
   },
   "outputs": [],
   "source": [
    "## Import Possibly needed Libraries\n",
    "import numpy as np # use for varray operations\n",
    "import pandas as pd # Use for Ddtaframe operations\n",
    "import seaborn as sb # Use for visualization\n",
    "%matplotlib inline \n",
    "#allow plots to be made inside notebooks"
   ]
  },
  {
   "cell_type": "code",
   "execution_count": 2,
   "metadata": {
    "scrolled": true
   },
   "outputs": [
    {
     "data": {
      "text/html": [
       "<div>\n",
       "<style>\n",
       "    .dataframe thead tr:only-child th {\n",
       "        text-align: right;\n",
       "    }\n",
       "\n",
       "    .dataframe thead th {\n",
       "        text-align: left;\n",
       "    }\n",
       "\n",
       "    .dataframe tbody tr th {\n",
       "        vertical-align: top;\n",
       "    }\n",
       "</style>\n",
       "<table border=\"1\" class=\"dataframe\">\n",
       "  <thead>\n",
       "    <tr style=\"text-align: right;\">\n",
       "      <th></th>\n",
       "      <th>sepal_length</th>\n",
       "      <th>sepal_width</th>\n",
       "      <th>petal_length</th>\n",
       "      <th>petal_width</th>\n",
       "      <th>species</th>\n",
       "    </tr>\n",
       "  </thead>\n",
       "  <tbody>\n",
       "    <tr>\n",
       "      <th>0</th>\n",
       "      <td>5.1</td>\n",
       "      <td>3.5</td>\n",
       "      <td>1.4</td>\n",
       "      <td>0.2</td>\n",
       "      <td>Iris-setosa</td>\n",
       "    </tr>\n",
       "    <tr>\n",
       "      <th>1</th>\n",
       "      <td>4.9</td>\n",
       "      <td>3.0</td>\n",
       "      <td>1.4</td>\n",
       "      <td>0.2</td>\n",
       "      <td>Iris-setosa</td>\n",
       "    </tr>\n",
       "    <tr>\n",
       "      <th>2</th>\n",
       "      <td>4.7</td>\n",
       "      <td>3.2</td>\n",
       "      <td>1.3</td>\n",
       "      <td>0.2</td>\n",
       "      <td>Iris-setosa</td>\n",
       "    </tr>\n",
       "    <tr>\n",
       "      <th>3</th>\n",
       "      <td>4.6</td>\n",
       "      <td>3.1</td>\n",
       "      <td>1.5</td>\n",
       "      <td>0.2</td>\n",
       "      <td>Iris-setosa</td>\n",
       "    </tr>\n",
       "    <tr>\n",
       "      <th>4</th>\n",
       "      <td>5.0</td>\n",
       "      <td>3.6</td>\n",
       "      <td>1.4</td>\n",
       "      <td>0.2</td>\n",
       "      <td>Iris-setosa</td>\n",
       "    </tr>\n",
       "  </tbody>\n",
       "</table>\n",
       "</div>"
      ],
      "text/plain": [
       "   sepal_length  sepal_width  petal_length  petal_width      species\n",
       "0           5.1          3.5           1.4          0.2  Iris-setosa\n",
       "1           4.9          3.0           1.4          0.2  Iris-setosa\n",
       "2           4.7          3.2           1.3          0.2  Iris-setosa\n",
       "3           4.6          3.1           1.5          0.2  Iris-setosa\n",
       "4           5.0          3.6           1.4          0.2  Iris-setosa"
      ]
     },
     "execution_count": 2,
     "metadata": {},
     "output_type": "execute_result"
    }
   ],
   "source": [
    "#Importing data into Jupyter Notebook\n",
    "location = r\"C:\\Users\\Latoya Clarke\\Desktop\\Data for Analysis\\iris.data.txt\"\n",
    "iris = pd.read_csv(location, sep=\",\", names = [\"sepal_length\",\"sepal_width\", \"petal_length\", \"petal_width\",\"species\"])\n",
    "iris.head()"
   ]
  },
  {
   "cell_type": "code",
   "execution_count": 3,
   "metadata": {},
   "outputs": [
    {
     "name": "stdout",
     "output_type": "stream",
     "text": [
      "<class 'pandas.core.frame.DataFrame'>\n",
      "RangeIndex: 150 entries, 0 to 149\n",
      "Data columns (total 5 columns):\n",
      "sepal_length    150 non-null float64\n",
      "sepal_width     150 non-null float64\n",
      "petal_length    150 non-null float64\n",
      "petal_width     150 non-null float64\n",
      "species         150 non-null object\n",
      "dtypes: float64(4), object(1)\n",
      "memory usage: 5.9+ KB\n"
     ]
    }
   ],
   "source": [
    "#Viewing general information on dataset\n",
    "iris.info()\n",
    "\n",
    "#This shows in total 5 columns, 150 entries/rows and datatypes of each columns\n",
    "#This are no data values missing since all attribute of the iris (eg. sepal_width) are equal"
   ]
  },
  {
   "cell_type": "code",
   "execution_count": 4,
   "metadata": {
    "scrolled": false
   },
   "outputs": [
    {
     "data": {
      "text/html": [
       "<div>\n",
       "<style>\n",
       "    .dataframe thead tr:only-child th {\n",
       "        text-align: right;\n",
       "    }\n",
       "\n",
       "    .dataframe thead th {\n",
       "        text-align: left;\n",
       "    }\n",
       "\n",
       "    .dataframe tbody tr th {\n",
       "        vertical-align: top;\n",
       "    }\n",
       "</style>\n",
       "<table border=\"1\" class=\"dataframe\">\n",
       "  <thead>\n",
       "    <tr style=\"text-align: right;\">\n",
       "      <th></th>\n",
       "      <th>sepal_length</th>\n",
       "      <th>sepal_width</th>\n",
       "      <th>petal_length</th>\n",
       "      <th>petal_width</th>\n",
       "    </tr>\n",
       "  </thead>\n",
       "  <tbody>\n",
       "    <tr>\n",
       "      <th>count</th>\n",
       "      <td>150.000000</td>\n",
       "      <td>150.000000</td>\n",
       "      <td>150.000000</td>\n",
       "      <td>150.000000</td>\n",
       "    </tr>\n",
       "    <tr>\n",
       "      <th>mean</th>\n",
       "      <td>5.843333</td>\n",
       "      <td>3.054000</td>\n",
       "      <td>3.758667</td>\n",
       "      <td>1.198667</td>\n",
       "    </tr>\n",
       "    <tr>\n",
       "      <th>std</th>\n",
       "      <td>0.828066</td>\n",
       "      <td>0.433594</td>\n",
       "      <td>1.764420</td>\n",
       "      <td>0.763161</td>\n",
       "    </tr>\n",
       "    <tr>\n",
       "      <th>min</th>\n",
       "      <td>4.300000</td>\n",
       "      <td>2.000000</td>\n",
       "      <td>1.000000</td>\n",
       "      <td>0.100000</td>\n",
       "    </tr>\n",
       "    <tr>\n",
       "      <th>25%</th>\n",
       "      <td>5.100000</td>\n",
       "      <td>2.800000</td>\n",
       "      <td>1.600000</td>\n",
       "      <td>0.300000</td>\n",
       "    </tr>\n",
       "    <tr>\n",
       "      <th>50%</th>\n",
       "      <td>5.800000</td>\n",
       "      <td>3.000000</td>\n",
       "      <td>4.350000</td>\n",
       "      <td>1.300000</td>\n",
       "    </tr>\n",
       "    <tr>\n",
       "      <th>75%</th>\n",
       "      <td>6.400000</td>\n",
       "      <td>3.300000</td>\n",
       "      <td>5.100000</td>\n",
       "      <td>1.800000</td>\n",
       "    </tr>\n",
       "    <tr>\n",
       "      <th>max</th>\n",
       "      <td>7.900000</td>\n",
       "      <td>4.400000</td>\n",
       "      <td>6.900000</td>\n",
       "      <td>2.500000</td>\n",
       "    </tr>\n",
       "  </tbody>\n",
       "</table>\n",
       "</div>"
      ],
      "text/plain": [
       "       sepal_length  sepal_width  petal_length  petal_width\n",
       "count    150.000000   150.000000    150.000000   150.000000\n",
       "mean       5.843333     3.054000      3.758667     1.198667\n",
       "std        0.828066     0.433594      1.764420     0.763161\n",
       "min        4.300000     2.000000      1.000000     0.100000\n",
       "25%        5.100000     2.800000      1.600000     0.300000\n",
       "50%        5.800000     3.000000      4.350000     1.300000\n",
       "75%        6.400000     3.300000      5.100000     1.800000\n",
       "max        7.900000     4.400000      6.900000     2.500000"
      ]
     },
     "execution_count": 4,
     "metadata": {},
     "output_type": "execute_result"
    }
   ],
   "source": [
    "# Show the statistics of all numeric fields\n",
    "iris.describe()\n",
    "\n",
    "# The Standard Deviations showed a very small excepting the petal lengths which can vary in a range 5.9\n",
    "#This also shows that the average sepal_width is similar to the average petal length in cm\n",
    "#sepal width shows similar mean and medians so this is seemly a symmetrical distribution"
   ]
  },
  {
   "cell_type": "code",
   "execution_count": 15,
   "metadata": {},
   "outputs": [
    {
     "data": {
      "text/html": [
       "<div>\n",
       "<style>\n",
       "    .dataframe thead tr:only-child th {\n",
       "        text-align: right;\n",
       "    }\n",
       "\n",
       "    .dataframe thead th {\n",
       "        text-align: left;\n",
       "    }\n",
       "\n",
       "    .dataframe tbody tr th {\n",
       "        vertical-align: top;\n",
       "    }\n",
       "</style>\n",
       "<table border=\"1\" class=\"dataframe\">\n",
       "  <thead>\n",
       "    <tr style=\"text-align: right;\">\n",
       "      <th></th>\n",
       "      <th>sepal_length</th>\n",
       "      <th>sepal_width</th>\n",
       "      <th>petal_length</th>\n",
       "      <th>petal_width</th>\n",
       "    </tr>\n",
       "  </thead>\n",
       "  <tbody>\n",
       "    <tr>\n",
       "      <th>0</th>\n",
       "      <td>5.0</td>\n",
       "      <td>3.0</td>\n",
       "      <td>1.5</td>\n",
       "      <td>0.2</td>\n",
       "    </tr>\n",
       "  </tbody>\n",
       "</table>\n",
       "</div>"
      ],
      "text/plain": [
       "   sepal_length  sepal_width  petal_length  petal_width\n",
       "0           5.0          3.0           1.5          0.2"
      ]
     },
     "execution_count": 15,
     "metadata": {},
     "output_type": "execute_result"
    }
   ],
   "source": [
    "#Finding the mode for each field\n",
    "iris_mode = iris.set_index('species') # Use species as index\n",
    "iris_mode.mode()\n",
    "\n",
    "#The sepal_width shows that the mode is also 3, similar to the mean and median above, so this distribution will be symmetrical\n",
    "#For Sepal length, the mode, mean and median are similar as well thus should show a somewhat symmetrical distribution\n",
    "#The most recurrent petal length is 1.5cm however 25% of the petal lengths are >=1.6cm  "
   ]
  },
  {
   "cell_type": "code",
   "execution_count": 19,
   "metadata": {},
   "outputs": [
    {
     "data": {
      "image/png": "[encoded data removed]",
      "text/plain": [
       "<matplotlib.figure.Figure at 0x1ec0b79ec18>"
      ]
     },
     "metadata": {},
     "output_type": "display_data"
    }
   ],
   "source": [
    "#Visualize the data via box plot\n",
    "with sb.axes_style('whitegrid'):\n",
    "    sb.boxplot(data=iris, orient=\"h\");\n",
    "#the distribution of the petal length & width showed by the plot is skewed to the right has \n",
    "#The sepal length & width are a almost symmetrical in dstribution\n",
    "#Sepal width shows that there are outliers in the data that are greater than 4cm and less than 2.2cm"
   ]
  },
  {
   "cell_type": "code",
   "execution_count": 7,
   "metadata": {
    "scrolled": true
   },
   "outputs": [
    {
     "data": {
      "image/png": "[encoded data removed]",
      "text/plain": [
       "<matplotlib.figure.Figure at 0x1ec075a37b8>"
      ]
     },
     "metadata": {},
     "output_type": "display_data"
    }
   ],
   "source": [
    "# Showing the average width of each species via barplot\n",
    "with sb.axes_style('whitegrid'):\n",
    "    sb.barplot(data=iris, y = 'species', x= 'petal_width', estimator = np.mean)\n",
    "    \n",
    "#On average virginicas have the widest petals of the three with the average length being 2cm"
   ]
  },
  {
   "cell_type": "code",
   "execution_count": 8,
   "metadata": {
    "scrolled": true
   },
   "outputs": [
    {
     "data": {
      "image/png": "[encoded data removed]",
      "text/plain": [
       "<matplotlib.figure.Figure at 0x1ec0b057e10>"
      ]
     },
     "metadata": {},
     "output_type": "display_data"
    }
   ],
   "source": [
    "# Showing the Average length of each species via barplot\n",
    "with sb.axes_style('darkgrid'):\n",
    "    sb.barplot(data=iris, y = 'species', x= 'petal_length', estimator = np.mean)\n",
    "    \n",
    "#On average Virginicas have the longest petals of the three having a value of 5.5cm\n",
    "#Iris-Setosa has the lowest visa 1.5cm"
   ]
  },
  {
   "cell_type": "code",
   "execution_count": 9,
   "metadata": {},
   "outputs": [
    {
     "data": {
      "image/png": "[encoded data removed]",
      "text/plain": [
       "<matplotlib.figure.Figure at 0x1ec0b76aa58>"
      ]
     },
     "metadata": {},
     "output_type": "display_data"
    }
   ],
   "source": [
    "#Showing by different flowers by sepal width on average\n",
    "with sb.axes_style('darkgrid'):\n",
    "    sb.violinplot(data= iris, x='species', y='sepal_length');\n",
    "#On average, Virginicas have the longest sepals of 6.5cm"
   ]
  },
  {
   "cell_type": "code",
   "execution_count": 10,
   "metadata": {
    "scrolled": true
   },
   "outputs": [
    {
     "data": {
      "image/png": "[encoded data removed]",
      "text/plain": [
       "<matplotlib.figure.Figure at 0x1ec0b77a828>"
      ]
     },
     "metadata": {},
     "output_type": "display_data"
    }
   ],
   "source": [
    "#Showing by different flowers by sepal width on average\n",
    "with sb.axes_style('whitegrid'):\n",
    "    sb.violinplot(data= iris, x='species', y='sepal_width');\n",
    "\n",
    "#On average, Setosas have the widest sepals "
   ]
  },
  {
   "cell_type": "markdown",
   "metadata": {},
   "source": [
    "<h2>Findings<h2/>\n",
    "This anals\n"
   ]
  },
  {
   "cell_type": "code",
   "execution_count": 11,
   "metadata": {},
   "outputs": [],
   "source": [
    "# Construction of Function to replicate the functionalities of the pandas function \"describe\"\n",
    "\n",
    "def my_describe(iris):\n",
    "    iris = iris.set_index('species')\n",
    "    names = ['Iris-setosa','Iris-versicolor', 'Iris-virginica']\n",
    "    for name in names:\n",
    "        print(name)\n",
    "        print(\"Number of Sepal Length: \", iris.sepal_length[name].count())\n",
    "        print(\"Average Sepal Length: \", round(iris.sepal_length[name].mean(), 1))\n",
    "        print(\"Standard Deviation of Sepal Length: \", round(iris.sepal_length[name].std(), 1))\n",
    "        print(\"25% Quantile of Sepal Length: \", round(iris.sepal_length[name].quantile(0.25), 1))\n",
    "        print(\"50% Quantile of Sepal Length: \", round(iris.sepal_length[name].quantile(0.5), 1))\n",
    "        print(\"75% Quantile of Sepal Length: \", round(iris.sepal_length[name].quantile(0.75), 1))\n",
    "        print(\"Maximum Sepal Lengths: \", iris.sepal_length[name].max())\n",
    "        print(\"Minimum Sepal Lengths: \", iris.sepal_length[name].min())\n",
    "        print(\"\\n\")\n",
    "        \n",
    "        print(\"Number of Sepal Width: \", iris.sepal_width[name].count())\n",
    "        print(\"Average Sepal Width: \", round(iris.sepal_width[name].mean(), 1))\n",
    "        print(\"Standard Deviation of Sepal Width: \", round(iris.sepal_width[name].std(), 1))\n",
    "        print(\"25% Quantile of Sepal Width: \", round(iris.sepal_width[name].quantile(0.25), 1))\n",
    "        print(\"50% Quantile of Sepal Width: \", round(iris.sepal_width[name].quantile(0.5), 1))\n",
    "        print(\"75% Quantile of Sepal Width: \", round(iris.sepal_width[name].quantile(0.75), 1))\n",
    "        print(\"Maximum Sepal Width: \", iris.sepal_width[name].max())\n",
    "        print(\"Minimum Sepal Width: \", iris.sepal_width[name].min())\n",
    "        print(\"\\n\")\n",
    "        \n",
    "        print(\"Number of Petal Length: \", iris.petal_length[name].count())\n",
    "        print(\"Average Petal Length: \", round(iris.petal_length[name].mean(), 1))\n",
    "        print(\"Standard Deviation of Petal Length: \", round(iris.petal_length[name].std(), 1))\n",
    "        print(\"25% Quantile of Petal Length: \", round(iris.petal_length[name].quantile(0.25), 1))\n",
    "        print(\"50% Quantile of Petal Length: \", round(iris.petal_length[name].quantile(0.5), 1))\n",
    "        print(\"75% Quantile of Petal Length: \", round(iris.petal_length[name].quantile(0.75), 1))\n",
    "        print(\"Maximum Sepal Lengths: \", iris.petal_length[name].max())\n",
    "        print(\"Minimum Sepal Lengths: \", iris.petal_length[name].min())\n",
    "        print(\"\\n\")\n",
    "        \n",
    "        print(\"Number of Petal Width: \", iris.petal_width[name].count())\n",
    "        print(\"Average Petal Width: \", round(iris.petal_width[name].mean(), 1))\n",
    "        print(\"Standard Deviation of Petal Width: \", round(iris.petal_width[name].std(), 1))\n",
    "        print(\"25% Quantile of Petal Width: \", round(iris.petal_width[name].quantile(0.25), 1))\n",
    "        print(\"50% Quantile of Petal Width: \", round(iris.petal_width[name].quantile(0.5), 1))\n",
    "        print(\"75% Quantile of Petal Width: \", round(iris.petal_width[name].quantile(0.75), 1))\n",
    "        print(\"Maximum Petal Width: \", iris.petal_width[name].max())\n",
    "        print(\"Minimum Peatl Width: \", iris.petal_width[name].min())\n",
    "        print(\"\\n\")\n",
    "        "
   ]
  },
  {
   "cell_type": "code",
   "execution_count": 12,
   "metadata": {},
   "outputs": [
    {
     "name": "stdout",
     "output_type": "stream",
     "text": [
      "Iris-setosa\n",
      "Number of Sepal Length:  50\n",
      "Average Sepal Length:  5.0\n",
      "Standard Deviation of Sepal Length:  0.4\n",
      "25% Quantile of Sepal Length:  4.8\n",
      "50% Quantile of Sepal Length:  5.0\n",
      "75% Quantile of Sepal Length:  5.2\n",
      "Maximum Sepal Lengths:  5.8\n",
      "Minimum Sepal Lengths:  4.3\n",
      "\n",
      "\n",
      "Number of Sepal Width:  50\n",
      "Average Sepal Width:  3.4\n",
      "Standard Deviation of Sepal Width:  0.4\n",
      "25% Quantile of Sepal Width:  3.1\n",
      "50% Quantile of Sepal Width:  3.4\n",
      "75% Quantile of Sepal Width:  3.7\n",
      "Maximum Sepal Width:  4.4\n",
      "Minimum Sepal Width:  2.3\n",
      "\n",
      "\n",
      "Number of Petal Length:  50\n",
      "Average Petal Length:  1.5\n",
      "Standard Deviation of Petal Length:  0.2\n",
      "25% Quantile of Petal Length:  1.4\n",
      "50% Quantile of Petal Length:  1.5\n",
      "75% Quantile of Petal Length:  1.6\n",
      "Maximum Sepal Lengths:  1.9\n",
      "Minimum Sepal Lengths:  1.0\n",
      "\n",
      "\n",
      "Number of Petal Width:  50\n",
      "Average Petal Width:  0.2\n",
      "Standard Deviation of Petal Width:  0.1\n",
      "25% Quantile of Petal Width:  0.2\n",
      "50% Quantile of Petal Width:  0.2\n",
      "75% Quantile of Petal Width:  0.3\n",
      "Maximum Petal Width:  0.6\n",
      "Minimum Peatl Width:  0.1\n",
      "\n",
      "\n",
      "Iris-versicolor\n",
      "Number of Sepal Length:  50\n",
      "Average Sepal Length:  5.9\n",
      "Standard Deviation of Sepal Length:  0.5\n",
      "25% Quantile of Sepal Length:  5.6\n",
      "50% Quantile of Sepal Length:  5.9\n",
      "75% Quantile of Sepal Length:  6.3\n",
      "Maximum Sepal Lengths:  7.0\n",
      "Minimum Sepal Lengths:  4.9\n",
      "\n",
      "\n",
      "Number of Sepal Width:  50\n",
      "Average Sepal Width:  2.8\n",
      "Standard Deviation of Sepal Width:  0.3\n",
      "25% Quantile of Sepal Width:  2.5\n",
      "50% Quantile of Sepal Width:  2.8\n",
      "75% Quantile of Sepal Width:  3.0\n",
      "Maximum Sepal Width:  3.4\n",
      "Minimum Sepal Width:  2.0\n",
      "\n",
      "\n",
      "Number of Petal Length:  50\n",
      "Average Petal Length:  4.3\n",
      "Standard Deviation of Petal Length:  0.5\n",
      "25% Quantile of Petal Length:  4.0\n",
      "50% Quantile of Petal Length:  4.3\n",
      "75% Quantile of Petal Length:  4.6\n",
      "Maximum Sepal Lengths:  5.1\n",
      "Minimum Sepal Lengths:  3.0\n",
      "\n",
      "\n",
      "Number of Petal Width:  50\n",
      "Average Petal Width:  1.3\n",
      "Standard Deviation of Petal Width:  0.2\n",
      "25% Quantile of Petal Width:  1.2\n",
      "50% Quantile of Petal Width:  1.3\n",
      "75% Quantile of Petal Width:  1.5\n",
      "Maximum Petal Width:  1.8\n",
      "Minimum Peatl Width:  1.0\n",
      "\n",
      "\n",
      "Iris-virginica\n",
      "Number of Sepal Length:  50\n",
      "Average Sepal Length:  6.6\n",
      "Standard Deviation of Sepal Length:  0.6\n",
      "25% Quantile of Sepal Length:  6.2\n",
      "50% Quantile of Sepal Length:  6.5\n",
      "75% Quantile of Sepal Length:  6.9\n",
      "Maximum Sepal Lengths:  7.9\n",
      "Minimum Sepal Lengths:  4.9\n",
      "\n",
      "\n",
      "Number of Sepal Width:  50\n",
      "Average Sepal Width:  3.0\n",
      "Standard Deviation of Sepal Width:  0.3\n",
      "25% Quantile of Sepal Width:  2.8\n",
      "50% Quantile of Sepal Width:  3.0\n",
      "75% Quantile of Sepal Width:  3.2\n",
      "Maximum Sepal Width:  3.8\n",
      "Minimum Sepal Width:  2.2\n",
      "\n",
      "\n",
      "Number of Petal Length:  50\n",
      "Average Petal Length:  5.6\n",
      "Standard Deviation of Petal Length:  0.6\n",
      "25% Quantile of Petal Length:  5.1\n",
      "50% Quantile of Petal Length:  5.5\n",
      "75% Quantile of Petal Length:  5.9\n",
      "Maximum Sepal Lengths:  6.9\n",
      "Minimum Sepal Lengths:  4.5\n",
      "\n",
      "\n",
      "Number of Petal Width:  50\n",
      "Average Petal Width:  2.0\n",
      "Standard Deviation of Petal Width:  0.3\n",
      "25% Quantile of Petal Width:  1.8\n",
      "50% Quantile of Petal Width:  2.0\n",
      "75% Quantile of Petal Width:  2.3\n",
      "Maximum Petal Width:  2.5\n",
      "Minimum Peatl Width:  1.4\n",
      "\n",
      "\n"
     ]
    }
   ],
   "source": [
    "#Function Execution \n",
    "my_describe(iris)"
   ]
  },
  {
   "cell_type": "code",
   "execution_count": 13,
   "metadata": {
    "scrolled": true
   },
   "outputs": [
    {
     "data": {
      "text/html": [
       "<div>\n",
       "<style>\n",
       "    .dataframe thead tr:only-child th {\n",
       "        text-align: right;\n",
       "    }\n",
       "\n",
       "    .dataframe thead th {\n",
       "        text-align: left;\n",
       "    }\n",
       "\n",
       "    .dataframe tbody tr th {\n",
       "        vertical-align: top;\n",
       "    }\n",
       "</style>\n",
       "<table border=\"1\" class=\"dataframe\">\n",
       "  <thead>\n",
       "    <tr style=\"text-align: right;\">\n",
       "      <th></th>\n",
       "      <th></th>\n",
       "      <th>count</th>\n",
       "      <th>mean</th>\n",
       "      <th>min</th>\n",
       "      <th>max</th>\n",
       "      <th>25%</th>\n",
       "      <th>50%</th>\n",
       "      <th>75%</th>\n",
       "    </tr>\n",
       "    <tr>\n",
       "      <th></th>\n",
       "      <th>species</th>\n",
       "      <th></th>\n",
       "      <th></th>\n",
       "      <th></th>\n",
       "      <th></th>\n",
       "      <th></th>\n",
       "      <th></th>\n",
       "      <th></th>\n",
       "    </tr>\n",
       "  </thead>\n",
       "  <tbody>\n",
       "    <tr>\n",
       "      <th rowspan=\"3\" valign=\"top\">sepal_length</th>\n",
       "      <th>Iris-setosa</th>\n",
       "      <td>50</td>\n",
       "      <td>5.006</td>\n",
       "      <td>4.3</td>\n",
       "      <td>5.8</td>\n",
       "      <td>4.800</td>\n",
       "      <td>5.00</td>\n",
       "      <td>5.200</td>\n",
       "    </tr>\n",
       "    <tr>\n",
       "      <th>Iris-versicolor</th>\n",
       "      <td>50</td>\n",
       "      <td>5.936</td>\n",
       "      <td>4.9</td>\n",
       "      <td>7.0</td>\n",
       "      <td>5.600</td>\n",
       "      <td>5.90</td>\n",
       "      <td>6.300</td>\n",
       "    </tr>\n",
       "    <tr>\n",
       "      <th>Iris-virginica</th>\n",
       "      <td>50</td>\n",
       "      <td>6.588</td>\n",
       "      <td>4.9</td>\n",
       "      <td>7.9</td>\n",
       "      <td>6.225</td>\n",
       "      <td>6.50</td>\n",
       "      <td>6.900</td>\n",
       "    </tr>\n",
       "    <tr>\n",
       "      <th rowspan=\"3\" valign=\"top\">sepal_width</th>\n",
       "      <th>Iris-setosa</th>\n",
       "      <td>50</td>\n",
       "      <td>3.418</td>\n",
       "      <td>2.3</td>\n",
       "      <td>4.4</td>\n",
       "      <td>3.125</td>\n",
       "      <td>3.40</td>\n",
       "      <td>3.675</td>\n",
       "    </tr>\n",
       "    <tr>\n",
       "      <th>Iris-versicolor</th>\n",
       "      <td>50</td>\n",
       "      <td>2.770</td>\n",
       "      <td>2.0</td>\n",
       "      <td>3.4</td>\n",
       "      <td>2.525</td>\n",
       "      <td>2.80</td>\n",
       "      <td>3.000</td>\n",
       "    </tr>\n",
       "    <tr>\n",
       "      <th>Iris-virginica</th>\n",
       "      <td>50</td>\n",
       "      <td>2.974</td>\n",
       "      <td>2.2</td>\n",
       "      <td>3.8</td>\n",
       "      <td>2.800</td>\n",
       "      <td>3.00</td>\n",
       "      <td>3.175</td>\n",
       "    </tr>\n",
       "    <tr>\n",
       "      <th rowspan=\"3\" valign=\"top\">petal_length</th>\n",
       "      <th>Iris-setosa</th>\n",
       "      <td>50</td>\n",
       "      <td>1.464</td>\n",
       "      <td>1.0</td>\n",
       "      <td>1.9</td>\n",
       "      <td>1.400</td>\n",
       "      <td>1.50</td>\n",
       "      <td>1.575</td>\n",
       "    </tr>\n",
       "    <tr>\n",
       "      <th>Iris-versicolor</th>\n",
       "      <td>50</td>\n",
       "      <td>4.260</td>\n",
       "      <td>3.0</td>\n",
       "      <td>5.1</td>\n",
       "      <td>4.000</td>\n",
       "      <td>4.35</td>\n",
       "      <td>4.600</td>\n",
       "    </tr>\n",
       "    <tr>\n",
       "      <th>Iris-virginica</th>\n",
       "      <td>50</td>\n",
       "      <td>5.552</td>\n",
       "      <td>4.5</td>\n",
       "      <td>6.9</td>\n",
       "      <td>5.100</td>\n",
       "      <td>5.55</td>\n",
       "      <td>5.875</td>\n",
       "    </tr>\n",
       "    <tr>\n",
       "      <th rowspan=\"3\" valign=\"top\">petal_width</th>\n",
       "      <th>Iris-setosa</th>\n",
       "      <td>50</td>\n",
       "      <td>0.244</td>\n",
       "      <td>0.1</td>\n",
       "      <td>0.6</td>\n",
       "      <td>0.200</td>\n",
       "      <td>0.20</td>\n",
       "      <td>0.300</td>\n",
       "    </tr>\n",
       "    <tr>\n",
       "      <th>Iris-versicolor</th>\n",
       "      <td>50</td>\n",
       "      <td>1.326</td>\n",
       "      <td>1.0</td>\n",
       "      <td>1.8</td>\n",
       "      <td>1.200</td>\n",
       "      <td>1.30</td>\n",
       "      <td>1.500</td>\n",
       "    </tr>\n",
       "    <tr>\n",
       "      <th>Iris-virginica</th>\n",
       "      <td>50</td>\n",
       "      <td>2.026</td>\n",
       "      <td>1.4</td>\n",
       "      <td>2.5</td>\n",
       "      <td>1.800</td>\n",
       "      <td>2.00</td>\n",
       "      <td>2.300</td>\n",
       "    </tr>\n",
       "  </tbody>\n",
       "</table>\n",
       "</div>"
      ],
      "text/plain": [
       "                              count   mean  min  max    25%   50%    75%\n",
       "             species                                                    \n",
       "sepal_length Iris-setosa         50  5.006  4.3  5.8  4.800  5.00  5.200\n",
       "             Iris-versicolor     50  5.936  4.9  7.0  5.600  5.90  6.300\n",
       "             Iris-virginica      50  6.588  4.9  7.9  6.225  6.50  6.900\n",
       "sepal_width  Iris-setosa         50  3.418  2.3  4.4  3.125  3.40  3.675\n",
       "             Iris-versicolor     50  2.770  2.0  3.4  2.525  2.80  3.000\n",
       "             Iris-virginica      50  2.974  2.2  3.8  2.800  3.00  3.175\n",
       "petal_length Iris-setosa         50  1.464  1.0  1.9  1.400  1.50  1.575\n",
       "             Iris-versicolor     50  4.260  3.0  5.1  4.000  4.35  4.600\n",
       "             Iris-virginica      50  5.552  4.5  6.9  5.100  5.55  5.875\n",
       "petal_width  Iris-setosa         50  0.244  0.1  0.6  0.200  0.20  0.300\n",
       "             Iris-versicolor     50  1.326  1.0  1.8  1.200  1.30  1.500\n",
       "             Iris-virginica      50  2.026  1.4  2.5  1.800  2.00  2.300"
      ]
     },
     "execution_count": 13,
     "metadata": {},
     "output_type": "execute_result"
    }
   ],
   "source": [
    "#This is an alternative solution\n",
    "iris_new = [iris.pivot( columns =\"species\").count(),iris.pivot(columns =\"species\").mean(),iris.pivot(columns =\"species\").min(),iris.pivot(columns =\"species\").max(),iris.pivot(columns =\"species\").quantile(0.25),iris.pivot(columns =\"species\").quantile(0.5),iris.pivot(columns =\"species\").quantile(0.75)]\n",
    "result = pd.concat(iris_new,axis =1,)\n",
    "result.columns = ['count', 'mean','min','max','25%','50%', '75%']\n",
    "result"
   ]
  }
 ],
 "metadata": {
  "kernelspec": {
   "display_name": "Python 3",
   "language": "python",
   "name": "python3"
  },
  "language_info": {
   "codemirror_mode": {
    "name": "ipython",
    "version": 3
   },
   "file_extension": ".py",
   "mimetype": "text/x-python",
   "name": "python",
   "nbconvert_exporter": "python",
   "pygments_lexer": "ipython3",
   "version": "3.6.3"
  }
 },
 "nbformat": 4,
 "nbformat_minor": 2
}
