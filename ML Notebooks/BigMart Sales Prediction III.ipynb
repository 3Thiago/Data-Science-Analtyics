{
 "cells": [
  {
   "cell_type": "markdown",
   "metadata": {},
   "source": [
    "# Big Mart Sales III Analysis"
   ]
  },
  {
   "cell_type": "markdown",
   "metadata": {
    "ExecuteTime": {
     "end_time": "2018-04-02T22:02:18.753607Z",
     "start_time": "2018-04-02T22:02:18.734199Z"
    }
   },
   "source": [
    "Predictions from this analysis is at 220th (out of 1488) Position:\n",
    "    [Big Mart Sales Leaderboard](https://datahack.analyticsvidhya.com/contest/practice-problem-big-mart-sales-iii/lb?page=1)\n",
    "    - Gradient Boosting Regression Algorithm: n_estimator = 50 \n",
    "    - Modelling Accuracy: 1028.3367303992259\n",
    "    - Competition Testing Accuracy: 1149.68038303739\n",
    "    - Train_Test_Split: test_size= 0.04, random_state = 247 "
   ]
  },
  {
   "cell_type": "markdown",
   "metadata": {},
   "source": [
    "#### List of Researchers\n",
    "\n",
    "Shamar Morgan (B.Eng)<br>\n",
    "Email: bromantkd@gmail.com <br>\n",
    "Github: [shamar1234](https://github.com/shamar1234) <br>\n",
    "Kaggle: [smorgan](https://www.kaggle.com/broman) <br>\n",
    "Twitter: [@sham_morgan](https://twitter.com/Sham_Morgan) <br>"
   ]
  },
  {
   "cell_type": "markdown",
   "metadata": {},
   "source": [
    "## Introduction\n",
    "Big Mart is a chain of stores in several different locations in the United States where they sell a variety of products. They desire to increase sales of these products using predictive analysis. \n",
    "\n",
    "Big Mart wants to try to figure out the properties of the items and Outlets that allow for successful sales. They have provided some datasets containing the attributes of each product and store that have been defined. Their aim is to build a predictive model and find out the the sales of each product at a particular store."
   ]
  },
  {
   "cell_type": "markdown",
   "metadata": {},
   "source": [
    "#### Data Features: \n",
    "__Item_Identifier__: Unique product ID<br>\n",
    "__Item_Weight__: Weight of product<br>\n",
    "__Item_Fat_Content__: Whether the product is low fat or not<br>\n",
    "__Item_Visibility__: \t\n",
    "The % of total display area of all products in a store allocated to the particular product<br>\n",
    "__Item_Type__: \t\n",
    "The category to which the product belongs<br>\n",
    "__Item_MRP__: Maximum Retail Price (list price) of the product<br>\n",
    "__Outlet_Identifier__: Unique store ID<br>\n",
    "__Outlet_Establishment_Year__: The year in which store was established<br>\n",
    "__Outlet_Size__: The size of the store in terms of ground area covered<br>\n",
    "__Outlet_Location_Type__: The type of city in which the store is located<br>\n",
    "__Outlet_Type__: Whether the outlet is just a grocery store or some sort of supermarket<br>\n",
    "__Item_Outlet_Sales__: Sales of the product in the particulat store. This is the outcome variable to be predicted.<br>"
   ]
  },
  {
   "cell_type": "markdown",
   "metadata": {},
   "source": [
    "## Hypothesis\n",
    "__Outlet Theory__:\n",
    "Large Outlets in more densely populated areas will have greater sales of all items.<br>\n",
    "Outlets that have existed for a longer time have greater customer loyal and retention. \n",
    "The Supermarkets will attract more customers as opposed to grocery stores due to a wider variety of produtcs and usually cheaper bulk products. \n",
    "\n",
    "__Item Theory__: Products that are basic necessities and needs constant replenishing will have a higher sales. Products will greater visibility also show be purchased more as retail chains usually place products with higher sales in more visible areas. Most customers tend to be weight centric and will opt for low fat products once presented the opportunity. Product weight has no bearings on the purchase of products and sales due to pricing this highly subjective therefore should have little effect of sales of items. "
   ]
  },
  {
   "cell_type": "markdown",
   "metadata": {},
   "source": [
    "## Libraries\n",
    "The libraries used in this research is as follows:"
   ]
  },
  {
   "cell_type": "code",
   "execution_count": 1,
   "metadata": {
    "ExecuteTime": {
     "end_time": "2018-04-03T04:31:23.234491Z",
     "start_time": "2018-04-03T04:31:21.966491Z"
    },
    "scrolled": false
   },
   "outputs": [
    {
     "name": "stdout",
     "output_type": "stream",
     "text": [
      "Python version 3.6.3 |Anaconda custom (64-bit)| (default, Oct 15 2017, 03:27:45) [MSC v.1900 64 bit (AMD64)]\n",
      "IPython version:  6.1.0\n",
      "Numpy version:    1.14.2\n",
      "Scipy version:  0.19.1\n",
      "Pandas version:   0.20.3\n",
      "Sklearn version:  0.19.1\n",
      "Seaborn version:   0.8.0\n",
      "Maplotlib version:  2.1.0\n"
     ]
    }
   ],
   "source": [
    "# Import important libraries\n",
    "\n",
    "# Looking at Python Version\n",
    "import sys \n",
    "print('Python version ' + sys.version)\n",
    "\n",
    "# IPython is what you are using now to run the notebook\n",
    "import IPython\n",
    "print(\"IPython version: %6.6s\" % IPython.__version__)\n",
    "\n",
    "# Numpy is a library for working with Arrays\n",
    "import numpy as np\n",
    "print( \"Numpy version:    %6.6s\" % np.__version__)\n",
    "\n",
    "# SciPy implements many different numerical algorithms\n",
    "import scipy as sp\n",
    "print( \"Scipy version:  %6.6s\" % sp.__version__)\n",
    "\n",
    "# Pandas makes working with data frames easier\n",
    "import pandas as pd\n",
    "print( \"Pandas version:   %6.6s\" % pd.__version__)\n",
    "\n",
    "#sklearn is a library for machine learning algorithms\n",
    "import sklearn\n",
    "print( \"Sklearn version:  %6.6s\" % sklearn.__version__)\n",
    "\n",
    "#Seaborn is used for create beautiful static plots\n",
    "import seaborn as sb\n",
    "print( \"Seaborn version:  %6.6s\" % sb.__version__)\n",
    "\n",
    "# Matplotlib is used for creating quick plots\n",
    "import matplotlib\n",
    "import matplotlib.pyplot as plt\n",
    "\n",
    "#urllib allows API calls to websites\n",
    "import urllib\n",
    "\n",
    "# time used for timing run times of algorithms\n",
    "import time\n",
    "%lsmagic;\n",
    "\n",
    "# Matplotlib inline is used to contain graphs inside workbook\n",
    "%matplotlib inline \n",
    "print( \"Maplotlib version: %6.6s\" % matplotlib.__version__)"
   ]
  },
  {
   "cell_type": "markdown",
   "metadata": {},
   "source": [
    "## External Dependencies"
   ]
  },
  {
   "cell_type": "markdown",
   "metadata": {},
   "source": [
    "Data set for analysis can be found at : [Big Mart Sales Prediction](https://datahack.analyticsvidhya.com/contest/practice-problem-big-mart-sales-iii/)"
   ]
  },
  {
   "cell_type": "markdown",
   "metadata": {},
   "source": [
    "## Data Acquisition"
   ]
  },
  {
   "cell_type": "markdown",
   "metadata": {},
   "source": [
    "Loading training dataset into workspace"
   ]
  },
  {
   "cell_type": "code",
   "execution_count": 2,
   "metadata": {
    "ExecuteTime": {
     "end_time": "2018-04-03T04:31:23.328627Z",
     "start_time": "2018-04-03T04:31:23.236501Z"
    },
    "scrolled": true
   },
   "outputs": [
    {
     "name": "stdout",
     "output_type": "stream",
     "text": [
      "{'encoding': 'ascii', 'confidence': 1.0, 'language': ''}\n",
      "\n",
      "Training Sample:\n"
     ]
    },
    {
     "data": {
      "text/html": [
       "<div>\n",
       "<style>\n",
       "    .dataframe thead tr:only-child th {\n",
       "        text-align: right;\n",
       "    }\n",
       "\n",
       "    .dataframe thead th {\n",
       "        text-align: left;\n",
       "    }\n",
       "\n",
       "    .dataframe tbody tr th {\n",
       "        vertical-align: top;\n",
       "    }\n",
       "</style>\n",
       "<table border=\"1\" class=\"dataframe\">\n",
       "  <thead>\n",
       "    <tr style=\"text-align: right;\">\n",
       "      <th></th>\n",
       "      <th>Item_Identifier</th>\n",
       "      <th>Item_Weight</th>\n",
       "      <th>Item_Fat_Content</th>\n",
       "      <th>Item_Visibility</th>\n",
       "      <th>Item_Type</th>\n",
       "      <th>Item_MRP</th>\n",
       "      <th>Outlet_Identifier</th>\n",
       "      <th>Outlet_Establishment_Year</th>\n",
       "      <th>Outlet_Size</th>\n",
       "      <th>Outlet_Location_Type</th>\n",
       "      <th>Outlet_Type</th>\n",
       "      <th>Item_Outlet_Sales</th>\n",
       "    </tr>\n",
       "  </thead>\n",
       "  <tbody>\n",
       "    <tr>\n",
       "      <th>46</th>\n",
       "      <td>NCP05</td>\n",
       "      <td>19.60</td>\n",
       "      <td>Low Fat</td>\n",
       "      <td>0.000000</td>\n",
       "      <td>Health and Hygiene</td>\n",
       "      <td>153.3024</td>\n",
       "      <td>OUT045</td>\n",
       "      <td>2002</td>\n",
       "      <td>NaN</td>\n",
       "      <td>Tier 2</td>\n",
       "      <td>Supermarket Type1</td>\n",
       "      <td>2428.8384</td>\n",
       "    </tr>\n",
       "    <tr>\n",
       "      <th>6133</th>\n",
       "      <td>FDV26</td>\n",
       "      <td>20.25</td>\n",
       "      <td>Regular</td>\n",
       "      <td>0.076315</td>\n",
       "      <td>Dairy</td>\n",
       "      <td>196.7794</td>\n",
       "      <td>OUT045</td>\n",
       "      <td>2002</td>\n",
       "      <td>NaN</td>\n",
       "      <td>Tier 2</td>\n",
       "      <td>Supermarket Type1</td>\n",
       "      <td>2731.1116</td>\n",
       "    </tr>\n",
       "    <tr>\n",
       "      <th>6976</th>\n",
       "      <td>FDZ25</td>\n",
       "      <td>NaN</td>\n",
       "      <td>Regular</td>\n",
       "      <td>0.000000</td>\n",
       "      <td>Canned</td>\n",
       "      <td>169.8790</td>\n",
       "      <td>OUT019</td>\n",
       "      <td>1985</td>\n",
       "      <td>Small</td>\n",
       "      <td>Tier 1</td>\n",
       "      <td>Grocery Store</td>\n",
       "      <td>339.5580</td>\n",
       "    </tr>\n",
       "    <tr>\n",
       "      <th>666</th>\n",
       "      <td>FDS19</td>\n",
       "      <td>13.80</td>\n",
       "      <td>Regular</td>\n",
       "      <td>0.064154</td>\n",
       "      <td>Fruits and Vegetables</td>\n",
       "      <td>76.9012</td>\n",
       "      <td>OUT013</td>\n",
       "      <td>1987</td>\n",
       "      <td>High</td>\n",
       "      <td>Tier 3</td>\n",
       "      <td>Supermarket Type1</td>\n",
       "      <td>607.2096</td>\n",
       "    </tr>\n",
       "    <tr>\n",
       "      <th>5907</th>\n",
       "      <td>FDR14</td>\n",
       "      <td>11.65</td>\n",
       "      <td>Low Fat</td>\n",
       "      <td>0.174049</td>\n",
       "      <td>Dairy</td>\n",
       "      <td>52.9298</td>\n",
       "      <td>OUT046</td>\n",
       "      <td>1997</td>\n",
       "      <td>Small</td>\n",
       "      <td>Tier 1</td>\n",
       "      <td>Supermarket Type1</td>\n",
       "      <td>647.1576</td>\n",
       "    </tr>\n",
       "    <tr>\n",
       "      <th>6252</th>\n",
       "      <td>FDT48</td>\n",
       "      <td>4.92</td>\n",
       "      <td>LF</td>\n",
       "      <td>0.045917</td>\n",
       "      <td>Baking Goods</td>\n",
       "      <td>198.8084</td>\n",
       "      <td>OUT013</td>\n",
       "      <td>1987</td>\n",
       "      <td>High</td>\n",
       "      <td>Tier 3</td>\n",
       "      <td>Supermarket Type1</td>\n",
       "      <td>2976.1260</td>\n",
       "    </tr>\n",
       "    <tr>\n",
       "      <th>2037</th>\n",
       "      <td>FDZ57</td>\n",
       "      <td>10.00</td>\n",
       "      <td>Regular</td>\n",
       "      <td>0.037764</td>\n",
       "      <td>Snack Foods</td>\n",
       "      <td>127.2994</td>\n",
       "      <td>OUT046</td>\n",
       "      <td>1997</td>\n",
       "      <td>Small</td>\n",
       "      <td>Tier 1</td>\n",
       "      <td>Supermarket Type1</td>\n",
       "      <td>642.4970</td>\n",
       "    </tr>\n",
       "    <tr>\n",
       "      <th>6805</th>\n",
       "      <td>FDR21</td>\n",
       "      <td>19.70</td>\n",
       "      <td>Low Fat</td>\n",
       "      <td>0.112036</td>\n",
       "      <td>Snack Foods</td>\n",
       "      <td>174.9370</td>\n",
       "      <td>OUT010</td>\n",
       "      <td>1998</td>\n",
       "      <td>NaN</td>\n",
       "      <td>Tier 3</td>\n",
       "      <td>Grocery Store</td>\n",
       "      <td>882.1850</td>\n",
       "    </tr>\n",
       "  </tbody>\n",
       "</table>\n",
       "</div>"
      ],
      "text/plain": [
       "     Item_Identifier  Item_Weight Item_Fat_Content  Item_Visibility  \\\n",
       "46             NCP05        19.60          Low Fat         0.000000   \n",
       "6133           FDV26        20.25          Regular         0.076315   \n",
       "6976           FDZ25          NaN          Regular         0.000000   \n",
       "666            FDS19        13.80          Regular         0.064154   \n",
       "5907           FDR14        11.65          Low Fat         0.174049   \n",
       "6252           FDT48         4.92               LF         0.045917   \n",
       "2037           FDZ57        10.00          Regular         0.037764   \n",
       "6805           FDR21        19.70          Low Fat         0.112036   \n",
       "\n",
       "                  Item_Type  Item_MRP Outlet_Identifier  \\\n",
       "46       Health and Hygiene  153.3024            OUT045   \n",
       "6133                  Dairy  196.7794            OUT045   \n",
       "6976                 Canned  169.8790            OUT019   \n",
       "666   Fruits and Vegetables   76.9012            OUT013   \n",
       "5907                  Dairy   52.9298            OUT046   \n",
       "6252           Baking Goods  198.8084            OUT013   \n",
       "2037            Snack Foods  127.2994            OUT046   \n",
       "6805            Snack Foods  174.9370            OUT010   \n",
       "\n",
       "      Outlet_Establishment_Year Outlet_Size Outlet_Location_Type  \\\n",
       "46                         2002         NaN               Tier 2   \n",
       "6133                       2002         NaN               Tier 2   \n",
       "6976                       1985       Small               Tier 1   \n",
       "666                        1987        High               Tier 3   \n",
       "5907                       1997       Small               Tier 1   \n",
       "6252                       1987        High               Tier 3   \n",
       "2037                       1997       Small               Tier 1   \n",
       "6805                       1998         NaN               Tier 3   \n",
       "\n",
       "            Outlet_Type  Item_Outlet_Sales  \n",
       "46    Supermarket Type1          2428.8384  \n",
       "6133  Supermarket Type1          2731.1116  \n",
       "6976      Grocery Store           339.5580  \n",
       "666   Supermarket Type1           607.2096  \n",
       "5907  Supermarket Type1           647.1576  \n",
       "6252  Supermarket Type1          2976.1260  \n",
       "2037  Supermarket Type1           642.4970  \n",
       "6805      Grocery Store           882.1850  "
      ]
     },
     "execution_count": 2,
     "metadata": {},
     "output_type": "execute_result"
    }
   ],
   "source": [
    "\n",
    "# Acquring dataset from URL\n",
    "#from urllib.request import urlretrieve\n",
    "#url = \"https://stuff.com\"\n",
    "#urlretrieve(url,\"file_name.csv\")\n",
    "#some_data = pd.read_csv(\"file_name.csv\")\n",
    "\n",
    "\n",
    "# Acquiring dataset from local machine\n",
    "location = r\"C:\\Users\\Latoya Clarke\\Desktop\\Data for Analysis\\Sales Data\\train.csv\"\n",
    "location_test =r\"C:\\Users\\Latoya Clarke\\Desktop\\Data for Analysis\\Sales Data\\test.csv\"\n",
    "# checks encoding of dataset\n",
    "%run char_encode.py\n",
    "encoder = char_encode(location)\n",
    "\n",
    "#loading training & testing data\n",
    "train = pd.read_csv(location,encoding=encoder)\n",
    "test = pd.read_csv(location_test, encoding=encoder)\n",
    "\n",
    "print (\"\\nTraining Sample:\")\n",
    "train.sample(8)"
   ]
  },
  {
   "cell_type": "markdown",
   "metadata": {},
   "source": [
    "##  Data Exploration"
   ]
  },
  {
   "cell_type": "markdown",
   "metadata": {},
   "source": [
    "### Univariate Analysis"
   ]
  },
  {
   "cell_type": "markdown",
   "metadata": {
    "ExecuteTime": {
     "end_time": "2018-04-01T05:46:06.006701Z",
     "start_time": "2018-04-01T05:46:06.002909Z"
    }
   },
   "source": [
    "Looking through the general information on the dataset:"
   ]
  },
  {
   "cell_type": "code",
   "execution_count": 3,
   "metadata": {
    "ExecuteTime": {
     "end_time": "2018-04-03T04:31:23.357184Z",
     "start_time": "2018-04-03T04:31:23.330867Z"
    }
   },
   "outputs": [
    {
     "name": "stdout",
     "output_type": "stream",
     "text": [
      "General Train information: \n",
      "<class 'pandas.core.frame.DataFrame'>\n",
      "RangeIndex: 8523 entries, 0 to 8522\n",
      "Data columns (total 12 columns):\n",
      "Item_Identifier              8523 non-null object\n",
      "Item_Weight                  7060 non-null float64\n",
      "Item_Fat_Content             8523 non-null object\n",
      "Item_Visibility              8523 non-null float64\n",
      "Item_Type                    8523 non-null object\n",
      "Item_MRP                     8523 non-null float64\n",
      "Outlet_Identifier            8523 non-null object\n",
      "Outlet_Establishment_Year    8523 non-null int64\n",
      "Outlet_Size                  6113 non-null object\n",
      "Outlet_Location_Type         8523 non-null object\n",
      "Outlet_Type                  8523 non-null object\n",
      "Item_Outlet_Sales            8523 non-null float64\n",
      "dtypes: float64(4), int64(1), object(7)\n",
      "memory usage: 799.1+ KB\n",
      "\n",
      "General Test information: \n",
      "<class 'pandas.core.frame.DataFrame'>\n",
      "RangeIndex: 5681 entries, 0 to 5680\n",
      "Data columns (total 11 columns):\n",
      "Item_Identifier              5681 non-null object\n",
      "Item_Weight                  4705 non-null float64\n",
      "Item_Fat_Content             5681 non-null object\n",
      "Item_Visibility              5681 non-null float64\n",
      "Item_Type                    5681 non-null object\n",
      "Item_MRP                     5681 non-null float64\n",
      "Outlet_Identifier            5681 non-null object\n",
      "Outlet_Establishment_Year    5681 non-null int64\n",
      "Outlet_Size                  4075 non-null object\n",
      "Outlet_Location_Type         5681 non-null object\n",
      "Outlet_Type                  5681 non-null object\n",
      "dtypes: float64(3), int64(1), object(7)\n",
      "memory usage: 488.3+ KB\n"
     ]
    }
   ],
   "source": [
    "# Get the basic info on the data\n",
    "print(\"General Train information: \")\n",
    "train.info()\n",
    "print(\"\\nGeneral Test information: \")\n",
    "test.info()"
   ]
  },
  {
   "cell_type": "markdown",
   "metadata": {},
   "source": [
    "Findings:\n",
    "    - There are missing values in both the train and test dataset in the Item_Weight column and the Outlet_Size columns\n",
    "\n",
    "__Cleaning up the data for analysis__"
   ]
  },
  {
   "cell_type": "code",
   "execution_count": 4,
   "metadata": {
    "ExecuteTime": {
     "end_time": "2018-04-03T04:31:23.402987Z",
     "start_time": "2018-04-03T04:31:23.359189Z"
    }
   },
   "outputs": [
    {
     "name": "stdout",
     "output_type": "stream",
     "text": [
      "Outlet Size Missing:  False\n",
      "Item Weight Missing:  False\n"
     ]
    }
   ],
   "source": [
    "# Clean Outlet Size\n",
    "# Use the mode Outlet Size for missing values\n",
    "train_mode = train.Outlet_Size.mode()\n",
    "test_mode = test.Outlet_Size.mode()\n",
    "\n",
    "train.Outlet_Size = train.Outlet_Size.fillna(train_mode[0])\n",
    "test.Outlet_Size = test.Outlet_Size.fillna(test_mode[0])\n",
    "print(\"Outlet Size Missing: \", train.Outlet_Size.isnull().any())\n",
    "\n",
    "# Clean Item Weight\n",
    "# Use the median weight for missing values\n",
    "train.Item_Weight = train.Item_Weight.fillna(np.nanmedian(train.Item_Weight))\n",
    "test.Item_Weight = test.Item_Weight.fillna(np.nanmedian(test.Item_Weight))\n",
    "print(\"Item Weight Missing: \", train.Item_Weight.isnull().any())\n",
    "\n",
    "# Fix Fat Content variables\n",
    "train.Item_Fat_Content = train.Item_Fat_Content.replace('LF','Low Fat')\n",
    "train.Item_Fat_Content = train.Item_Fat_Content.replace('low fat','Low Fat')\n",
    "train.Item_Fat_Content = train.Item_Fat_Content.replace('reg','Regular')\n",
    "\n",
    "test.Item_Fat_Content = test.Item_Fat_Content.replace('LF','Low Fat')\n",
    "test.Item_Fat_Content = test.Item_Fat_Content.replace('low fat','Low Fat')\n",
    "test.Item_Fat_Content = test.Item_Fat_Content.replace('reg','Regular')\n"
   ]
  },
  {
   "cell_type": "code",
   "execution_count": 5,
   "metadata": {
    "ExecuteTime": {
     "end_time": "2018-04-03T04:31:23.470701Z",
     "start_time": "2018-04-03T04:31:23.404994Z"
    }
   },
   "outputs": [],
   "source": [
    "# Export cleaned data to CSV file\n",
    "location_3 = r\"C:\\Users\\Latoya Clarke\\Desktop\\Data for Analysis\\Sales Data\\test_cleaned.csv\"\n",
    "test.to_csv(location_3, index=False)"
   ]
  },
  {
   "cell_type": "code",
   "execution_count": 6,
   "metadata": {
    "ExecuteTime": {
     "end_time": "2018-04-03T04:31:23.507804Z",
     "start_time": "2018-04-03T04:31:23.471678Z"
    }
   },
   "outputs": [
    {
     "data": {
      "text/html": [
       "<div>\n",
       "<style>\n",
       "    .dataframe thead tr:only-child th {\n",
       "        text-align: right;\n",
       "    }\n",
       "\n",
       "    .dataframe thead th {\n",
       "        text-align: left;\n",
       "    }\n",
       "\n",
       "    .dataframe tbody tr th {\n",
       "        vertical-align: top;\n",
       "    }\n",
       "</style>\n",
       "<table border=\"1\" class=\"dataframe\">\n",
       "  <thead>\n",
       "    <tr style=\"text-align: right;\">\n",
       "      <th></th>\n",
       "      <th>Item_Weight</th>\n",
       "      <th>Item_Visibility</th>\n",
       "      <th>Item_MRP</th>\n",
       "      <th>Item_Outlet_Sales</th>\n",
       "    </tr>\n",
       "  </thead>\n",
       "  <tbody>\n",
       "    <tr>\n",
       "      <th>count</th>\n",
       "      <td>8523.00000</td>\n",
       "      <td>8523.000000</td>\n",
       "      <td>8523.000000</td>\n",
       "      <td>8523.000000</td>\n",
       "    </tr>\n",
       "    <tr>\n",
       "      <th>mean</th>\n",
       "      <td>12.81342</td>\n",
       "      <td>0.066132</td>\n",
       "      <td>140.992782</td>\n",
       "      <td>2181.288914</td>\n",
       "    </tr>\n",
       "    <tr>\n",
       "      <th>std</th>\n",
       "      <td>4.22724</td>\n",
       "      <td>0.051598</td>\n",
       "      <td>62.275067</td>\n",
       "      <td>1706.499616</td>\n",
       "    </tr>\n",
       "    <tr>\n",
       "      <th>min</th>\n",
       "      <td>4.55500</td>\n",
       "      <td>0.000000</td>\n",
       "      <td>31.290000</td>\n",
       "      <td>33.290000</td>\n",
       "    </tr>\n",
       "    <tr>\n",
       "      <th>25%</th>\n",
       "      <td>9.31000</td>\n",
       "      <td>0.026989</td>\n",
       "      <td>93.826500</td>\n",
       "      <td>834.247400</td>\n",
       "    </tr>\n",
       "    <tr>\n",
       "      <th>50%</th>\n",
       "      <td>12.60000</td>\n",
       "      <td>0.053931</td>\n",
       "      <td>143.012800</td>\n",
       "      <td>1794.331000</td>\n",
       "    </tr>\n",
       "    <tr>\n",
       "      <th>75%</th>\n",
       "      <td>16.00000</td>\n",
       "      <td>0.094585</td>\n",
       "      <td>185.643700</td>\n",
       "      <td>3101.296400</td>\n",
       "    </tr>\n",
       "    <tr>\n",
       "      <th>max</th>\n",
       "      <td>21.35000</td>\n",
       "      <td>0.328391</td>\n",
       "      <td>266.888400</td>\n",
       "      <td>13086.964800</td>\n",
       "    </tr>\n",
       "  </tbody>\n",
       "</table>\n",
       "</div>"
      ],
      "text/plain": [
       "       Item_Weight  Item_Visibility     Item_MRP  Item_Outlet_Sales\n",
       "count   8523.00000      8523.000000  8523.000000        8523.000000\n",
       "mean      12.81342         0.066132   140.992782        2181.288914\n",
       "std        4.22724         0.051598    62.275067        1706.499616\n",
       "min        4.55500         0.000000    31.290000          33.290000\n",
       "25%        9.31000         0.026989    93.826500         834.247400\n",
       "50%       12.60000         0.053931   143.012800        1794.331000\n",
       "75%       16.00000         0.094585   185.643700        3101.296400\n",
       "max       21.35000         0.328391   266.888400       13086.964800"
      ]
     },
     "execution_count": 6,
     "metadata": {},
     "output_type": "execute_result"
    }
   ],
   "source": [
    "# Generate the summary statistics excluding Year Established\n",
    "train.drop('Outlet_Establishment_Year',axis=1).describe()"
   ]
  },
  {
   "cell_type": "markdown",
   "metadata": {},
   "source": [
    "Findings:\n",
    "    - Several items seem to have as low as 0% visibiliy and as high as 32.8%. 75% of the item visibilities are <=0.09 which is less than 1% visibility. \n",
    "    - The lowest Item_Outlet_Sales is 33.2 with a very large range. \n",
    "    - The sales between 75% - 100% inter-quartile ranges is very steep compared to the gradual increase in in the other ranges.\n",
    "\n",
    "__Plotting Numeric Distributions__"
   ]
  },
  {
   "cell_type": "code",
   "execution_count": 7,
   "metadata": {
    "ExecuteTime": {
     "end_time": "2018-04-03T04:31:24.420922Z",
     "start_time": "2018-04-03T04:31:23.509809Z"
    }
   },
   "outputs": [
    {
     "name": "stdout",
     "output_type": "stream",
     "text": [
      "Histogram Plots of numeric fields: \n"
     ]
    },
    {
     "data": {
      "image/png": "[encoded data removed]",
      "text/plain": [
       "<matplotlib.figure.Figure at 0x21472ccb550>"
      ]
     },
     "metadata": {},
     "output_type": "display_data"
    }
   ],
   "source": [
    "# plot with various axes scales\n",
    "print(\"Histogram Plots of numeric fields: \")\n",
    "plt.figure(figsize=(13,8))\n",
    "\n",
    "plt.subplot(221)\n",
    "sb.distplot(train.Item_Outlet_Sales)\n",
    "plt.title('Frequency of Item Outlet Sales')\n",
    "plt.ylabel('Frequency')\n",
    "plt.xlabel('Item_Outlet_Sales')\n",
    "plt.grid(True)\n",
    "\n",
    "plt.subplot(222)\n",
    "sb.distplot(train.Item_Visibility*100,bins=[5,10,15,20,25,30])\n",
    "plt.title('Frequency of Item Visibility')\n",
    "plt.ylabel('Frequency')\n",
    "plt.xlabel('Item_Visibility')\n",
    "plt.grid(True)\n",
    "\n",
    "plt.subplot(223)\n",
    "sb.distplot(train.Item_MRP, bins=[24,48,72, 96, 120, 144, 168,192,216, 240])\n",
    "plt.title('Frequency of Item MRP')\n",
    "plt.ylabel('Frequency')\n",
    "plt.xlabel('Item_MRP')\n",
    "plt.grid(True)\n",
    "\n",
    "plt.subplot(224)\n",
    "sb.distplot(train.Item_Weight, bins=[3,6,9,12,15,18,21,24])\n",
    "plt.title('Frequency of Item Weight')\n",
    "plt.ylabel('Frequency')\n",
    "plt.xlabel('Item_Weight')\n",
    "plt.grid(True)\n",
    "\n",
    "plt.subplots_adjust(top=1, bottom=0.08, left=0.10, right=0.95, hspace=0.5,\n",
    "                    wspace=0.5)"
   ]
  },
  {
   "cell_type": "markdown",
   "metadata": {},
   "source": [
    "Findings:\n",
    "    - The distribution of Item_Visibility and Item_Outlet_Sales are as follows from above. They are heavily skewed to the left showing a greater concentration of values in the left region. \n",
    "    - Item_Weight and Item_MRP are closer to a normal distribution thus having a more bell shaped curve with values spread out over the axes. \n",
    "\n",
    "__Plotting bargraphs of Categorical variables:__"
   ]
  },
  {
   "cell_type": "code",
   "execution_count": 8,
   "metadata": {
    "ExecuteTime": {
     "end_time": "2018-04-03T04:31:25.402322Z",
     "start_time": "2018-04-03T04:31:24.424004Z"
    },
    "scrolled": true
   },
   "outputs": [
    {
     "name": "stdout",
     "output_type": "stream",
     "text": [
      "Bar Plots of Categorical fields: \n"
     ]
    },
    {
     "data": {
      "image/png": "[encoded data removed]",
      "text/plain": [
       "<matplotlib.figure.Figure at 0x21472e0d518>"
      ]
     },
     "metadata": {},
     "output_type": "display_data"
    }
   ],
   "source": [
    "print(\"Bar Plots of Categorical fields: \")\n",
    "plt.figure(figsize=(11.7, 8.27))\n",
    "\n",
    "plt.subplot(231)\n",
    "sb.countplot(data=train, x='Item_Fat_Content')\n",
    "plt.title('Frequency of Item_Fat_Content')\n",
    "plt.ylabel('Frequency')\n",
    "plt.xlabel('Item_Fat_Content')\n",
    "plt.grid(True)\n",
    "\n",
    "plt.subplot(232)\n",
    "sb.countplot(data=train, x='Outlet_Size')\n",
    "plt.title('Frequency of Outlet_Size')\n",
    "plt.ylabel('Frequency')\n",
    "plt.xlabel('Outlet_Size')\n",
    "plt.grid(True)\n",
    "\n",
    "plt.subplot(233)\n",
    "sb.countplot(data=train, x='Outlet_Location_Type')\n",
    "plt.title('Frequency of Outlet_Location_Type')\n",
    "plt.ylabel('Frequency')\n",
    "plt.xlabel('Outlet_Location_Type')\n",
    "plt.grid(True)\n",
    "\n",
    "plt.subplot(234)\n",
    "sb.countplot(data=train, x='Outlet_Type')\n",
    "plt.title('Frequency of Outlet_Type')\n",
    "plt.ylabel('Frequency')\n",
    "plt.xlabel('Outlet_Type')\n",
    "plt.grid(True)\n",
    "\n",
    "plt.subplot(235)\n",
    "sb.countplot(data=train, x='Item_Type')\n",
    "plt.title('Frequency of Item_Type')\n",
    "plt.ylabel('Frequency')\n",
    "plt.xlabel('Item_Type')\n",
    "plt.grid(True)\n",
    "\n",
    "plt.subplots_adjust(top=1, bottom=0.08, left=0.10, right=0.95, hspace=0.5,\n",
    "                    wspace=0.5)"
   ]
  },
  {
   "cell_type": "markdown",
   "metadata": {},
   "source": [
    "Findings:\n",
    "    - Low Fat products were more frequently purchased as opposed to the Regular products.\n",
    "    - Most frequent purchases were Fruits & Vegetables, Snacks, Frozen Foods and Household. Starchy Foods, Seafood, Others and Breakfast were unpopular for common list of food categories.\n",
    "    - The medium size outlets recorded more sales than the other sizes. SuperMarket Type1 had the greatest sales frequency and all other Outlet Sizes had approximately equal sales frequency. \n",
    "    - Tier 3 had the greatest frequency of over 3400.\n"
   ]
  },
  {
   "cell_type": "code",
   "execution_count": 9,
   "metadata": {
    "ExecuteTime": {
     "end_time": "2018-04-03T04:31:25.763235Z",
     "start_time": "2018-04-03T04:31:25.409092Z"
    }
   },
   "outputs": [
    {
     "name": "stdout",
     "output_type": "stream",
     "text": [
      "Average Amount of Items Purchased: \n"
     ]
    },
    {
     "data": {
      "text/plain": [
       "<matplotlib.axes._subplots.AxesSubplot at 0x21472cb4b70>"
      ]
     },
     "execution_count": 9,
     "metadata": {},
     "output_type": "execute_result"
    },
    {
     "data": {
      "image/png": "[encoded data removed]",
      "text/plain": [
       "<matplotlib.figure.Figure at 0x21472ccbc88>"
      ]
     },
     "metadata": {},
     "output_type": "display_data"
    }
   ],
   "source": [
    "# finding number of items sold per line \n",
    "train['Sales_Item_Ratio'] = round(train['Item_Outlet_Sales']/train['Item_MRP'],1)\n",
    "\n",
    "print('Average Amount of Items Purchased: ')\n",
    "sb.set_style('whitegrid')\n",
    "fig, ax = plt.subplots()\n",
    "plt.title('Distribution of Average Amount of Items Purchased')\n",
    "fig.set_size_inches(10, 7.5)\n",
    "sb.distplot(train.Sales_Item_Ratio,ax=ax)"
   ]
  },
  {
   "cell_type": "markdown",
   "metadata": {
    "ExecuteTime": {
     "end_time": "2018-04-02T15:10:40.345127Z",
     "start_time": "2018-04-02T15:10:40.337104Z"
    }
   },
   "source": [
    "Findings:\n",
    "    - The Sales to Price ratio gives the number of items sold.\n",
    "    - The Distribution of the number of items sold over the period slightly left shewed with mean of 15 units of item."
   ]
  },
  {
   "cell_type": "markdown",
   "metadata": {},
   "source": [
    "### Multivariate Analysis"
   ]
  },
  {
   "cell_type": "markdown",
   "metadata": {},
   "source": [
    "#### Item Sales Investigations"
   ]
  },
  {
   "cell_type": "code",
   "execution_count": 10,
   "metadata": {
    "ExecuteTime": {
     "end_time": "2018-04-03T04:31:25.786989Z",
     "start_time": "2018-04-03T04:31:25.766092Z"
    }
   },
   "outputs": [
    {
     "data": {
      "text/html": [
       "<div>\n",
       "<style>\n",
       "    .dataframe thead tr:only-child th {\n",
       "        text-align: right;\n",
       "    }\n",
       "\n",
       "    .dataframe thead th {\n",
       "        text-align: left;\n",
       "    }\n",
       "\n",
       "    .dataframe tbody tr th {\n",
       "        vertical-align: top;\n",
       "    }\n",
       "</style>\n",
       "<table border=\"1\" class=\"dataframe\">\n",
       "  <thead>\n",
       "    <tr style=\"text-align: right;\">\n",
       "      <th></th>\n",
       "      <th>Item_Weight</th>\n",
       "      <th>Item_Visibility</th>\n",
       "      <th>Item_MRP</th>\n",
       "      <th>Outlet_Establishment_Year</th>\n",
       "      <th>Item_Outlet_Sales</th>\n",
       "      <th>Sales_Item_Ratio</th>\n",
       "    </tr>\n",
       "  </thead>\n",
       "  <tbody>\n",
       "    <tr>\n",
       "      <th>Item_Weight</th>\n",
       "      <td>1.000000</td>\n",
       "      <td>-0.014168</td>\n",
       "      <td>0.024951</td>\n",
       "      <td>0.007739</td>\n",
       "      <td>0.009693</td>\n",
       "      <td>-0.011886</td>\n",
       "    </tr>\n",
       "    <tr>\n",
       "      <th>Item_Visibility</th>\n",
       "      <td>-0.014168</td>\n",
       "      <td>1.000000</td>\n",
       "      <td>-0.001315</td>\n",
       "      <td>-0.074834</td>\n",
       "      <td>-0.128625</td>\n",
       "      <td>-0.160985</td>\n",
       "    </tr>\n",
       "    <tr>\n",
       "      <th>Item_MRP</th>\n",
       "      <td>0.024951</td>\n",
       "      <td>-0.001315</td>\n",
       "      <td>1.000000</td>\n",
       "      <td>0.005020</td>\n",
       "      <td>0.567574</td>\n",
       "      <td>0.011173</td>\n",
       "    </tr>\n",
       "    <tr>\n",
       "      <th>Outlet_Establishment_Year</th>\n",
       "      <td>0.007739</td>\n",
       "      <td>-0.074834</td>\n",
       "      <td>0.005020</td>\n",
       "      <td>1.000000</td>\n",
       "      <td>-0.049135</td>\n",
       "      <td>-0.074545</td>\n",
       "    </tr>\n",
       "    <tr>\n",
       "      <th>Item_Outlet_Sales</th>\n",
       "      <td>0.009693</td>\n",
       "      <td>-0.128625</td>\n",
       "      <td>0.567574</td>\n",
       "      <td>-0.049135</td>\n",
       "      <td>1.000000</td>\n",
       "      <td>0.759326</td>\n",
       "    </tr>\n",
       "    <tr>\n",
       "      <th>Sales_Item_Ratio</th>\n",
       "      <td>-0.011886</td>\n",
       "      <td>-0.160985</td>\n",
       "      <td>0.011173</td>\n",
       "      <td>-0.074545</td>\n",
       "      <td>0.759326</td>\n",
       "      <td>1.000000</td>\n",
       "    </tr>\n",
       "  </tbody>\n",
       "</table>\n",
       "</div>"
      ],
      "text/plain": [
       "                           Item_Weight  Item_Visibility  Item_MRP  \\\n",
       "Item_Weight                   1.000000        -0.014168  0.024951   \n",
       "Item_Visibility              -0.014168         1.000000 -0.001315   \n",
       "Item_MRP                      0.024951        -0.001315  1.000000   \n",
       "Outlet_Establishment_Year     0.007739        -0.074834  0.005020   \n",
       "Item_Outlet_Sales             0.009693        -0.128625  0.567574   \n",
       "Sales_Item_Ratio             -0.011886        -0.160985  0.011173   \n",
       "\n",
       "                           Outlet_Establishment_Year  Item_Outlet_Sales  \\\n",
       "Item_Weight                                 0.007739           0.009693   \n",
       "Item_Visibility                            -0.074834          -0.128625   \n",
       "Item_MRP                                    0.005020           0.567574   \n",
       "Outlet_Establishment_Year                   1.000000          -0.049135   \n",
       "Item_Outlet_Sales                          -0.049135           1.000000   \n",
       "Sales_Item_Ratio                           -0.074545           0.759326   \n",
       "\n",
       "                           Sales_Item_Ratio  \n",
       "Item_Weight                       -0.011886  \n",
       "Item_Visibility                   -0.160985  \n",
       "Item_MRP                           0.011173  \n",
       "Outlet_Establishment_Year         -0.074545  \n",
       "Item_Outlet_Sales                  0.759326  \n",
       "Sales_Item_Ratio                   1.000000  "
      ]
     },
     "execution_count": 10,
     "metadata": {},
     "output_type": "execute_result"
    }
   ],
   "source": [
    "#Test for linear relation with Sales\n",
    "train.corr()"
   ]
  },
  {
   "cell_type": "markdown",
   "metadata": {
    "ExecuteTime": {
     "end_time": "2018-04-02T12:01:39.407428Z",
     "start_time": "2018-04-02T12:01:39.402415Z"
    }
   },
   "source": [
    "Findings:\n",
    "    - Item MRP shows a moderately positive correlation with Item_Outlet_Sales"
   ]
  },
  {
   "cell_type": "code",
   "execution_count": 11,
   "metadata": {
    "ExecuteTime": {
     "end_time": "2018-04-03T04:31:32.782129Z",
     "start_time": "2018-04-03T04:31:25.789640Z"
    }
   },
   "outputs": [
    {
     "name": "stdout",
     "output_type": "stream",
     "text": [
      "Applying Chi Squared on Item Variables vs Sales: \n",
      "\n",
      "Item_Type\n",
      "P-Value: 1.0335983028373673e-28\n",
      "Statistically significant association exist!\n",
      "\n",
      "\n",
      "Item_Weight\n",
      "P-Value: 1.39305746739762e-234\n",
      "Statistically significant association exist!\n",
      "\n",
      "\n",
      "Item_Visibility\n",
      "P-Value: 0.030842455275371192\n",
      "Statistically significant association exist!\n",
      "\n",
      "\n",
      "Item_MRP\n",
      "P-Value: 0.0\n",
      "Statistically significant association exist!\n",
      "\n",
      "\n"
     ]
    }
   ],
   "source": [
    "# Use Chi Squared Test to find differences in item variables and sales.\n",
    "fields =['Item_Type','Item_Weight','Item_Visibility', 'Item_MRP']\n",
    "\n",
    "print('Applying Chi Squared on Item Variables vs Sales: \\n')\n",
    "for field in fields:\n",
    "    contingencyTable = pd.crosstab(train['Item_Outlet_Sales'],train[field])\n",
    "    chi2, p, dof, expected = sp.stats.chi2_contingency(contingencyTable)\n",
    "    \n",
    "    if p <= 0.05:\n",
    "        print(field)\n",
    "        print('P-Value:',p)\n",
    "        print('Statistically significant association exist!')   \n",
    "    print('\\n')"
   ]
  },
  {
   "cell_type": "markdown",
   "metadata": {
    "ExecuteTime": {
     "end_time": "2018-04-02T11:50:39.596477Z",
     "start_time": "2018-04-02T11:50:39.591466Z"
    }
   },
   "source": [
    "Findings:\n",
    "    - All item attributes has an impact on the Item_Outlet_Sales"
   ]
  },
  {
   "cell_type": "code",
   "execution_count": 12,
   "metadata": {
    "ExecuteTime": {
     "end_time": "2018-04-03T04:31:33.024353Z",
     "start_time": "2018-04-03T04:31:32.785447Z"
    }
   },
   "outputs": [
    {
     "name": "stdout",
     "output_type": "stream",
     "text": [
      "Average Number of Products Sold: \n"
     ]
    },
    {
     "data": {
      "image/png": "[encoded data removed]",
      "text/plain": [
       "<matplotlib.figure.Figure at 0x214730c9240>"
      ]
     },
     "metadata": {},
     "output_type": "display_data"
    }
   ],
   "source": [
    "print(\"Average Number of Products Sold: \")\n",
    "by_Item = train.groupby('Item_Type')\n",
    "\n",
    "vals = ['Baking Goods','Breads','Breakfast','Canned','Dairy','Frozen Foods','Fruits and Vegetables','Hard Drinks','Health and Hygiene','Household','Meat','Others','Seafood','Snack Foods','Soft Drinks','Starchy Foods']\n",
    "\n",
    "fig, ax = plt.subplots()\n",
    "plt.title('Item Sales vs mean Items Sold')\n",
    "plt.xlabel('Mean Units Sold')\n",
    "plt.ylabel('Item Outlet Sales')\n",
    "fig.set_size_inches(10, 7.5)\n",
    "plt.scatter(x=by_Item.Sales_Item_Ratio.mean(), y=by_Item.Item_Outlet_Sales.mean())\n",
    "for i, txt in enumerate(vals):\n",
    "    ax.annotate(txt, (by_Item.Sales_Item_Ratio.mean()[i],by_Item.Item_Outlet_Sales.mean()[i]))"
   ]
  },
  {
   "cell_type": "markdown",
   "metadata": {},
   "source": [
    "Findings:\n",
    "    - More  and  were sold than any other category of item.\n",
    "    - Seafood, Breakfast, Starchy Foods, Fruit & Vegetable, Snack Foods & Household were most sold in volume."
   ]
  },
  {
   "cell_type": "code",
   "execution_count": 13,
   "metadata": {
    "ExecuteTime": {
     "end_time": "2018-04-03T04:31:33.278631Z",
     "start_time": "2018-04-03T04:31:33.026895Z"
    }
   },
   "outputs": [
    {
     "name": "stdout",
     "output_type": "stream",
     "text": [
      "Average % Visibility by Product: \n"
     ]
    },
    {
     "data": {
      "image/png": "[encoded data removed]",
      "text/plain": [
       "<matplotlib.figure.Figure at 0x21400038c18>"
      ]
     },
     "metadata": {},
     "output_type": "display_data"
    }
   ],
   "source": [
    "print(\"Average % Visibility by Product: \")\n",
    "z = by_Item.Item_Visibility.mean()\n",
    "fig, ax = plt.subplots()\n",
    "plt.title('Item Sales vs Mean Item Visibility')\n",
    "plt.xlabel('Item Visibility')\n",
    "plt.ylabel('Item Outlet Sales')\n",
    "fig.set_size_inches(10, 7.5)\n",
    "plt.scatter(x=z, y=by_Item.Item_Outlet_Sales.mean())\n",
    "for i, txt in enumerate(vals):\n",
    "    ax.annotate(txt, (z[i],by_Item.Item_Outlet_Sales.mean()[i]))"
   ]
  },
  {
   "cell_type": "markdown",
   "metadata": {},
   "source": [
    "Findings:\n",
    "    - Similarly the item sales increases when the aggregated item visibility increases.\n",
    "    - Breakfast, Seafood and Dairy were the most visible items in stores."
   ]
  },
  {
   "cell_type": "code",
   "execution_count": 14,
   "metadata": {
    "ExecuteTime": {
     "end_time": "2018-04-03T04:31:33.528254Z",
     "start_time": "2018-04-03T04:31:33.280611Z"
    }
   },
   "outputs": [
    {
     "name": "stdout",
     "output_type": "stream",
     "text": [
      "Item Sales to Item Weight: \n"
     ]
    },
    {
     "data": {
      "image/png": "[encoded data removed]",
      "text/plain": [
       "<matplotlib.figure.Figure at 0x214001d2b00>"
      ]
     },
     "metadata": {},
     "output_type": "display_data"
    }
   ],
   "source": [
    "print('Item Sales to Item Weight: ')\n",
    "fig, ax = plt.subplots()\n",
    "plt.title('Item Sales vs mean Item Weight')\n",
    "plt.xlabel('Mean Item Weight')\n",
    "plt.ylabel('Item Outlet Sales')\n",
    "fig.set_size_inches(10, 7.5)\n",
    "plt.scatter(x=by_Item.Item_Weight.mean(), y=by_Item.Item_Outlet_Sales.mean())\n",
    "for i, txt in enumerate(vals):\n",
    "    ax.annotate(txt, (by_Item.Item_Weight.mean()[i],by_Item.Item_Outlet_Sales.mean()[i]))"
   ]
  },
  {
   "cell_type": "markdown",
   "metadata": {
    "ExecuteTime": {
     "end_time": "2018-04-02T15:10:19.145143Z",
     "start_time": "2018-04-02T15:10:19.138125Z"
    }
   },
   "source": [
    "12Findings:\n",
    "    - Starchy foods were the 2nd heaviest sets of items and generated the most mean sales while Others is the heaviest with the lowest mean sales.\n",
    "    - The mean item weights are all between 11 - 14"
   ]
  },
  {
   "cell_type": "markdown",
   "metadata": {},
   "source": [
    "#### Outlet Sales Investigation"
   ]
  },
  {
   "cell_type": "code",
   "execution_count": 15,
   "metadata": {
    "ExecuteTime": {
     "end_time": "2018-04-03T04:31:33.558635Z",
     "start_time": "2018-04-03T04:31:33.530261Z"
    }
   },
   "outputs": [
    {
     "name": "stdout",
     "output_type": "stream",
     "text": [
      "Average Sales by: \n",
      "\n",
      "\n",
      "Outlet_Type\n",
      "Grocery Store        3.680343e+05\n",
      "Supermarket Type1    1.291734e+07\n",
      "Supermarket Type2    1.851823e+06\n",
      "Supermarket Type3    3.453926e+06\n",
      "Name: Item_Outlet_Sales, dtype: float64\n",
      "\n",
      "\n",
      "Outlet_Size\n",
      "High      2.142664e+06\n",
      "Medium    1.188225e+07\n",
      "Small     4.566212e+06\n",
      "Name: Item_Outlet_Sales, dtype: float64\n",
      "\n",
      "\n",
      "Outlet_Location_Type\n",
      "Tier 1    4.482059e+06\n",
      "Tier 2    6.472314e+06\n",
      "Tier 3    7.636753e+06\n",
      "Name: Item_Outlet_Sales, dtype: float64\n",
      "\n",
      "\n",
      "Outlet_Establishment_Year\n",
      "1985    3.633620e+06\n",
      "1987    2.142664e+06\n",
      "1997    2.118395e+06\n",
      "1998    1.883402e+05\n",
      "1999    2.183970e+06\n",
      "2002    2.036725e+06\n",
      "2004    2.268123e+06\n",
      "2007    2.167465e+06\n",
      "2009    1.851823e+06\n",
      "Name: Item_Outlet_Sales, dtype: float64\n"
     ]
    }
   ],
   "source": [
    "outlets =['Outlet_Type','Outlet_Size','Outlet_Location_Type','Outlet_Establishment_Year']\n",
    "print(\"Average Sales by: \")\n",
    "\n",
    "for outlet in outlets:\n",
    "    print('\\n')\n",
    "    by_Item = train.groupby(outlet)\n",
    "    print(by_Item.Item_Outlet_Sales.sum())"
   ]
  },
  {
   "cell_type": "markdown",
   "metadata": {},
   "source": [
    "Findings:\n",
    "    - Type1 Supermarkets recorded the highest sales with a magnitude 10x the others.\n",
    "    - Type3 Supermarkets performed second best\n",
    "    - Medium sized Outlets also recorded the highest sales with a 10x magnitude.\n",
    "    - Tier 3 recorded the greatest sales\n",
    "    - Establishment in 1998 surprizingly had the lowest sales \n",
    "    - The Oldest Establishment (1985) recorded the greatest sale over the period."
   ]
  },
  {
   "cell_type": "code",
   "execution_count": 16,
   "metadata": {
    "ExecuteTime": {
     "end_time": "2018-04-03T04:31:33.819672Z",
     "start_time": "2018-04-03T04:31:33.562613Z"
    },
    "scrolled": true
   },
   "outputs": [
    {
     "name": "stdout",
     "output_type": "stream",
     "text": [
      "Applying Chi Squared on Outlet Variables vs Sales (95% Confidence Level): \n",
      "\n",
      "\n",
      "Outlet_Type\n",
      "P-Value: 3.4371967318312466e-121\n",
      "Statistically significant association exist!\n",
      "\n",
      "\n",
      "Outlet_Location_Type\n",
      "P-Value: 0.035581810296713895\n",
      "Statistically significant association exist!\n",
      "\n",
      "\n",
      "Outlet_Establishment_Year\n",
      "P-Value: 3.8385761155747724e-08\n",
      "Statistically significant association exist!\n"
     ]
    }
   ],
   "source": [
    "# Two-way chisquare test for the relationship between variables\n",
    "fields =['Outlet_Type','Outlet_Location_Type','Outlet_Size','Outlet_Establishment_Year']\n",
    "\n",
    "\n",
    "print('Applying Chi Squared on Outlet Variables vs Sales (95% Confidence Level): ')\n",
    "for field in fields:\n",
    "    contingencyTable = pd.crosstab(train['Item_Outlet_Sales'],train[field])\n",
    "    chi2, p, dof, expected = sp.stats.chi2_contingency(contingencyTable)\n",
    "    \n",
    "    if p <= 0.05:\n",
    "        print('\\n')\n",
    "        print(field)\n",
    "        print('P-Value:',p)\n",
    "        print('Statistically significant association exist!')   "
   ]
  },
  {
   "cell_type": "markdown",
   "metadata": {
    "ExecuteTime": {
     "end_time": "2018-04-02T02:38:46.288014Z",
     "start_time": "2018-04-02T02:38:46.275157Z"
    }
   },
   "source": [
    "Findings:\n",
    "    - Outlet size has no effect on Item_Outlet_Sales\n",
    "    - All other Outlet variables have an effect on Sales"
   ]
  },
  {
   "cell_type": "code",
   "execution_count": 17,
   "metadata": {
    "ExecuteTime": {
     "end_time": "2018-04-03T04:31:34.435066Z",
     "start_time": "2018-04-03T04:31:33.821678Z"
    }
   },
   "outputs": [
    {
     "name": "stdout",
     "output_type": "stream",
     "text": [
      "Barplot of Sales per Outlet Location Type arranged by Outlet Type:\n"
     ]
    },
    {
     "data": {
      "text/plain": [
       "<matplotlib.axes._subplots.AxesSubplot at 0x21472cc1080>"
      ]
     },
     "execution_count": 17,
     "metadata": {},
     "output_type": "execute_result"
    },
    {
     "data": {
      "image/png": "[encoded data removed]",
      "text/plain": [
       "<matplotlib.figure.Figure at 0x2140004cb38>"
      ]
     },
     "metadata": {},
     "output_type": "display_data"
    }
   ],
   "source": [
    "print('Barplot of Sales per Outlet Location Type arranged by Outlet Type:')\n",
    "\n",
    "fig, ax = plt.subplots()\n",
    "plt.title('Item Sales vs mean Item Weight')\n",
    "fig.set_size_inches(10, 7.5)\n",
    "sb.barplot(hue='Outlet_Type', y='Item_Outlet_Sales', data=train, x='Outlet_Location_Type')"
   ]
  },
  {
   "cell_type": "markdown",
   "metadata": {},
   "source": [
    "Findings:\n",
    "    - In Tier 1 & Tier2, Type1 Supermarkets are the top performers. \n",
    "    - Tier3 has Type3 Supermarkets as the top performer with Type1 in second. \n",
    "    - Tier3 has sales in all Outlet types."
   ]
  },
  {
   "cell_type": "code",
   "execution_count": 18,
   "metadata": {
    "ExecuteTime": {
     "end_time": "2018-04-03T04:31:35.198040Z",
     "start_time": "2018-04-03T04:31:34.437954Z"
    }
   },
   "outputs": [
    {
     "data": {
      "text/plain": [
       "<matplotlib.axes._subplots.AxesSubplot at 0x21400379b00>"
      ]
     },
     "execution_count": 18,
     "metadata": {},
     "output_type": "execute_result"
    },
    {
     "data": {
      "image/png": "[encoded data removed]",
      "text/plain": [
       "<matplotlib.figure.Figure at 0x21400524588>"
      ]
     },
     "metadata": {},
     "output_type": "display_data"
    }
   ],
   "source": [
    "# Establishment \n",
    "fig, ax = plt.subplots()\n",
    "plt.title('Item Sales vs Outlet_Establishment_Year by Outlet Type')\n",
    "fig.set_size_inches(10, 7.5)\n",
    "sb.barplot(x='Outlet_Establishment_Year',y='Item_Outlet_Sales',data=train, hue='Outlet_Type')"
   ]
  },
  {
   "cell_type": "markdown",
   "metadata": {},
   "source": [
    "Findings:\n",
    "    - More Supermarkets Type1 were established than any other store.\n",
    "    - The only sales generating Type3 Supermarket was established in 1985.\n",
    "    - Type2 Supermarkets were established in 2009.\n",
    "    - Grocery stores were also established as early as 1985."
   ]
  },
  {
   "cell_type": "code",
   "execution_count": 19,
   "metadata": {
    "ExecuteTime": {
     "end_time": "2018-04-03T04:31:35.915277Z",
     "start_time": "2018-04-03T04:31:35.201045Z"
    }
   },
   "outputs": [
    {
     "data": {
      "text/plain": [
       "<matplotlib.axes._subplots.AxesSubplot at 0x214004ee710>"
      ]
     },
     "execution_count": 19,
     "metadata": {},
     "output_type": "execute_result"
    },
    {
     "data": {
      "image/png": "[encoded data removed]",
      "text/plain": [
       "<matplotlib.figure.Figure at 0x21400426cf8>"
      ]
     },
     "metadata": {},
     "output_type": "display_data"
    }
   ],
   "source": [
    "fig, ax = plt.subplots()\n",
    "plt.title('Item Sales vs Outlet Establishment Year by Outlet Size')\n",
    "fig.set_size_inches(10, 7.5)\n",
    "sb.barplot(x='Outlet_Establishment_Year',y='Item_Outlet_Sales',data=train, hue='Outlet_Size')"
   ]
  },
  {
   "cell_type": "markdown",
   "metadata": {},
   "source": [
    "Findings:\n",
    "    - Medium sized Outlets are more prevalent and is one of the oldest stores established.\n",
    "    - The high sized sales generating outlets were established in 1987.\n",
    "    - The 2nd most prevalent store size are small being established as far back as 1985."
   ]
  },
  {
   "cell_type": "code",
   "execution_count": 20,
   "metadata": {
    "ExecuteTime": {
     "end_time": "2018-04-03T04:31:36.733013Z",
     "start_time": "2018-04-03T04:31:35.918284Z"
    }
   },
   "outputs": [
    {
     "data": {
      "text/plain": [
       "<matplotlib.axes._subplots.AxesSubplot at 0x214009211d0>"
      ]
     },
     "execution_count": 20,
     "metadata": {},
     "output_type": "execute_result"
    },
    {
     "data": {
      "image/png": "[encoded data removed]",
      "text/plain": [
       "<matplotlib.figure.Figure at 0x2140098a9e8>"
      ]
     },
     "metadata": {},
     "output_type": "display_data"
    }
   ],
   "source": [
    "fig, ax = plt.subplots()\n",
    "plt.title('Item Sales vs Outlet Establishment Year byOutlet_Location_Type')\n",
    "fig.set_size_inches(10, 7.5)\n",
    "sb.barplot(x='Outlet_Establishment_Year',y='Item_Outlet_Sales',data=train, hue='Outlet_Location_Type')"
   ]
  },
  {
   "cell_type": "markdown",
   "metadata": {},
   "source": [
    "Findings:\n",
    "    - Tier1 & Tier3 were the first to be established.\n",
    "    - Tier3 in the oldest outlets were the greatest sales earners.\n",
    "    - Tier2 Outlets were established as of 2002."
   ]
  },
  {
   "cell_type": "markdown",
   "metadata": {
    "ExecuteTime": {
     "end_time": "2018-03-27T05:13:13.038232Z",
     "start_time": "2018-03-27T05:13:13.035220Z"
    }
   },
   "source": [
    "## Conclusion"
   ]
  },
  {
   "cell_type": "markdown",
   "metadata": {},
   "source": [
    "    It can be concluded that the Item Properties useful in the following ranges:\n",
    "    Visibility between range 0.6 - 0.8, Item Weight between 12.5 -13,5 and mean sales between 2200 - 2300. The five (5) most purchased items were Fruits & Vegetables, Snacks, Frozen Fruits and Household while Seafood, Breakfast and Others were the least in sales. The Chi Squared test also showed that there is the all the different features had differed impact on the item outlet sales.\n",
    "    \n",
    "    It can also be concluded that Outlet type properties such as Supermarket Type1 are the largest sales by volume as this type generate high sales in all areas/tiers as more Type1 Supermarkets are present. Outlets regardless of year of establishment generally generate similar sales revenue with the only outliers being the outlets establishments created in 1998 which has the lowest sales for the period due to only a grocery store being established generating sales and 1985 that generated the highest sales revenue with a high sales Type3 Supermarket and a grocery store. Medium sized outlets are also most frequent and oldest thus having the greatest sales revenue. Chi Squared test showed that Outlet Size do not impact the sales revenue. Tier 3 locations have a composition of all outlet types thus would lead to Tier3 locations having the greatest sales revenues. "
   ]
  },
  {
   "cell_type": "markdown",
   "metadata": {
    "ExecuteTime": {
     "end_time": "2018-03-27T05:12:51.499090Z",
     "start_time": "2018-03-27T05:12:51.492313Z"
    }
   },
   "source": [
    "# Big Mart Sales III Prediction "
   ]
  },
  {
   "cell_type": "markdown",
   "metadata": {},
   "source": [
    "## Feature Engineering"
   ]
  },
  {
   "cell_type": "markdown",
   "metadata": {},
   "source": [
    "### Variable Transformation"
   ]
  },
  {
   "cell_type": "markdown",
   "metadata": {},
   "source": [
    "In data modelling, transformation refers to the replacement of a variable by a function. In other words, transformation is a process that changes the distribution or relationship of a variable with others."
   ]
  },
  {
   "cell_type": "code",
   "execution_count": 21,
   "metadata": {
    "ExecuteTime": {
     "end_time": "2018-04-03T04:31:36.758279Z",
     "start_time": "2018-04-03T04:31:36.736094Z"
    }
   },
   "outputs": [
    {
     "name": "stdout",
     "output_type": "stream",
     "text": [
      "Normalizing the Item_MRP field....\n",
      "Normalization Complete!\n"
     ]
    }
   ],
   "source": [
    "# Normalizing Item MRP\n",
    "print('Normalizing the Item_MRP field....')\n",
    "from sklearn import preprocessing\n",
    "x = train[['Item_MRP']].values.astype(float)\n",
    "min_max_scaler = preprocessing.MinMaxScaler()\n",
    "\n",
    "# Create an object to transform the data to fit minmax processor\n",
    "x_scaled = min_max_scaler.fit_transform(x)\n",
    "\n",
    "# Run the normalizer on the dataframe\n",
    "train['Normalized'] = pd.DataFrame(x_scaled) \n",
    "print('Normalization Complete!')"
   ]
  },
  {
   "cell_type": "code",
   "execution_count": 22,
   "metadata": {
    "ExecuteTime": {
     "end_time": "2018-04-03T04:31:36.868353Z",
     "start_time": "2018-04-03T04:31:36.760556Z"
    }
   },
   "outputs": [
    {
     "name": "stdout",
     "output_type": "stream",
     "text": [
      "Transforming features and labels....\n",
      "Transformation completed, X shape: (8523, 21) and Y shape (8523,)\n"
     ]
    }
   ],
   "source": [
    "# Defining X and y variables and tranforming X values to sklearn friendly format\n",
    "print('Transforming features and labels....')\n",
    "y = np.array(train.Item_Outlet_Sales)\n",
    "new_train =train.drop(['Sales_Item_Ratio','Item_Identifier','Outlet_Identifier','Item_Outlet_Sales'],axis=1)\n",
    "\n",
    "train_selected = new_train.drop(['Item_MRP','Outlet_Size','Item_Weight','Outlet_Establishment_Year','Outlet_Location_Type','Item_Visibility','Item_Fat_Content'], axis = 1)\n",
    "X= train_selected.to_dict(orient='records')\n",
    "\n",
    "from sklearn.feature_extraction import DictVectorizer\n",
    "vec = DictVectorizer()\n",
    "X = vec.fit_transform(X).toarray()\n",
    "print('Transformation completed, X shape: {} and Y shape {}'.format(X.shape,y.shape) )\n"
   ]
  },
  {
   "cell_type": "markdown",
   "metadata": {},
   "source": [
    "### Variable Creation"
   ]
  },
  {
   "cell_type": "markdown",
   "metadata": {},
   "source": [
    "    - No derivative features were created"
   ]
  },
  {
   "cell_type": "markdown",
   "metadata": {},
   "source": [
    "## Model Development"
   ]
  },
  {
   "cell_type": "markdown",
   "metadata": {},
   "source": [
    "    - In progress"
   ]
  },
  {
   "cell_type": "markdown",
   "metadata": {},
   "source": [
    "### Cross Validation"
   ]
  },
  {
   "cell_type": "markdown",
   "metadata": {},
   "source": [
    "Spliting the data into training and testing "
   ]
  },
  {
   "cell_type": "code",
   "execution_count": 34,
   "metadata": {
    "ExecuteTime": {
     "end_time": "2018-04-03T04:32:19.521845Z",
     "start_time": "2018-04-03T04:32:19.513715Z"
    }
   },
   "outputs": [
    {
     "name": "stdout",
     "output_type": "stream",
     "text": [
      "The data has been split using 96% for training and 4% for testing\n"
     ]
    }
   ],
   "source": [
    "#Splitting the data for training and testing\n",
    "from sklearn.model_selection import train_test_split\n",
    "X_train, X_test, y_train, y_test = train_test_split(X, y, test_size = 0.04, random_state =247)\n",
    "\n",
    "print(\"The data has been split using 96% for training and 4% for testing\")"
   ]
  },
  {
   "cell_type": "markdown",
   "metadata": {},
   "source": [
    "### Model Exploration"
   ]
  },
  {
   "cell_type": "code",
   "execution_count": 35,
   "metadata": {
    "ExecuteTime": {
     "end_time": "2018-04-03T04:32:22.174645Z",
     "start_time": "2018-04-03T04:32:22.162044Z"
    }
   },
   "outputs": [],
   "source": [
    "# Load all necessary modules needed\n",
    "from sklearn.ensemble import RandomForestRegressor as RFR\n",
    "from sklearn.linear_model import LinearRegression as LNR\n",
    "from sklearn.tree import DecisionTreeRegressor as DTR\n",
    "from sklearn.ensemble import AdaBoostRegressor as ABR\n",
    "from sklearn.ensemble import GradientBoostingRegressor as GBR\n",
    "from sklearn.neural_network import MLPRegressor as NNR\n",
    "from sklearn.linear_model import BayesianRidge as BR\n",
    "from sklearn.metrics import accuracy_score\n",
    "from sklearn.metrics import mean_squared_error\n",
    "from math import sqrt"
   ]
  },
  {
   "cell_type": "code",
   "execution_count": 36,
   "metadata": {
    "ExecuteTime": {
     "end_time": "2018-04-03T04:32:23.544140Z",
     "start_time": "2018-04-03T04:32:23.181205Z"
    }
   },
   "outputs": [
    {
     "name": "stdout",
     "output_type": "stream",
     "text": [
      "Gradient Boosting Regression Score:\n",
      "RMS Evaluation:  1026.0666845458122\n",
      "Prediction/Fit Run Time: 0.35329747200012207\n"
     ]
    }
   ],
   "source": [
    "# Testing Gradient Boosting Regression Model\n",
    "\n",
    "print (\"Gradient Boosting Regression Score:\")\n",
    "params = {'n_estimators': 50}\n",
    "model= GBR(**params)\n",
    "start_time = time.time()\n",
    "model.fit(X_train, y_train)\n",
    "predicted = model.predict(X_test)\n",
    "elapsed_time = time.time() - start_time\n",
    "z = sqrt(mean_squared_error(y_test, predicted))\n",
    "print('RMS Evaluation:  {}'.format(z) )\n",
    "print('Prediction/Fit Run Time: {}'.format(elapsed_time))"
   ]
  },
  {
   "cell_type": "code",
   "execution_count": 37,
   "metadata": {
    "ExecuteTime": {
     "end_time": "2018-04-03T04:32:24.879468Z",
     "start_time": "2018-04-03T04:32:24.864400Z"
    }
   },
   "outputs": [
    {
     "name": "stdout",
     "output_type": "stream",
     "text": [
      "Linear Regression:\n",
      "RMS Evaluation:  1069.0836571937903\n",
      "Prediction/Fit Run Time: 0.006036281585693359\n"
     ]
    }
   ],
   "source": [
    "# Testing Linear Regression Model\n",
    "\n",
    "print (\"Linear Regression:\")\n",
    "model= LNR()\n",
    "start_time = time.time()\n",
    "model.fit(X_train, y_train)\n",
    "predicted = model.predict(X_test)\n",
    "elapsed_time = time.time() - start_time\n",
    "z = sqrt(mean_squared_error(y_test, predicted))\n",
    "print('RMS Evaluation:  {}'.format(z) )\n",
    "print('Prediction/Fit Run Time: {}'.format(elapsed_time))"
   ]
  },
  {
   "cell_type": "code",
   "execution_count": 38,
   "metadata": {
    "ExecuteTime": {
     "end_time": "2018-04-03T04:32:26.057454Z",
     "start_time": "2018-04-03T04:32:26.014999Z"
    }
   },
   "outputs": [
    {
     "name": "stdout",
     "output_type": "stream",
     "text": [
      "Random Forest Regression:\n",
      "RMS Evaluation:  1196.7495836410446\n",
      "Prediction/Fit Run Time: 0.028601408004760742\n"
     ]
    }
   ],
   "source": [
    "# Testing Random Forest Regression\n",
    "\n",
    "print (\"Random Forest Regression:\")\n",
    "model= RFR(n_estimators = 5, max_depth = 3)\n",
    "start_time = time.time()\n",
    "model.fit(X_train, y_train)\n",
    "predicted = model.predict(X_test)\n",
    "elapsed_time = time.time() - start_time\n",
    "z = sqrt(mean_squared_error(y_test, predicted))\n",
    "print('RMS Evaluation:  {}'.format(z) )\n",
    "print('Prediction/Fit Run Time: {}'.format(elapsed_time))"
   ]
  },
  {
   "cell_type": "code",
   "execution_count": 39,
   "metadata": {
    "ExecuteTime": {
     "end_time": "2018-04-03T04:32:26.892868Z",
     "start_time": "2018-04-03T04:32:26.874759Z"
    }
   },
   "outputs": [
    {
     "name": "stdout",
     "output_type": "stream",
     "text": [
      "Decision Tree Regression:\n",
      "RMS Evaluation:  1198.7827088865874\n",
      "Prediction/Fit Run Time: 0.008080720901489258\n"
     ]
    }
   ],
   "source": [
    "# Testing Decision Tree Regression\n",
    "print (\"Decision Tree Regression:\")\n",
    "model= DTR(max_depth = 3)\n",
    "start_time = time.time()\n",
    "model.fit(X_train, y_train)\n",
    "predicted = model.predict(X_test)\n",
    "elapsed_time = time.time() - start_time\n",
    "z = sqrt(mean_squared_error(y_test, predicted))\n",
    "print('RMS Evaluation:  {}'.format(z) )\n",
    "print('Prediction/Fit Run Time: {}'.format(elapsed_time))"
   ]
  },
  {
   "cell_type": "code",
   "execution_count": 40,
   "metadata": {
    "ExecuteTime": {
     "end_time": "2018-04-03T04:32:27.732629Z",
     "start_time": "2018-04-03T04:32:27.713064Z"
    }
   },
   "outputs": [
    {
     "name": "stdout",
     "output_type": "stream",
     "text": [
      "Bayesian Ridge:\n",
      "RMS Evaluation:  1070.600823832843\n",
      "Prediction/Fit Run Time: 0.009569168090820312\n"
     ]
    }
   ],
   "source": [
    "# Testing the Bayesian Bridge Model \n",
    "\n",
    "print (\"Bayesian Ridge:\")\n",
    "model= BR()\n",
    "start_time = time.time()\n",
    "model.fit(X_train, y_train)\n",
    "predicted = model.predict(X_test)\n",
    "elapsed_time = time.time() - start_time\n",
    "z = sqrt(mean_squared_error(y_test, predicted))\n",
    "print('RMS Evaluation:  {}'.format(z) )\n",
    "print('Prediction/Fit Run Time: {}'.format(elapsed_time))"
   ]
  },
  {
   "cell_type": "code",
   "execution_count": 41,
   "metadata": {
    "ExecuteTime": {
     "end_time": "2018-04-03T04:32:42.295228Z",
     "start_time": "2018-04-03T04:32:28.800161Z"
    }
   },
   "outputs": [
    {
     "name": "stdout",
     "output_type": "stream",
     "text": [
      "Neutral Network Regression:\n",
      "RMS Evaluation:  1121.3921735485026\n",
      "Prediction/Fit Run Time: 13.484991550445557\n"
     ]
    },
    {
     "name": "stderr",
     "output_type": "stream",
     "text": [
      "C:\\Users\\Latoya Clarke\\Anaconda3-5\\lib\\site-packages\\sklearn\\neural_network\\multilayer_perceptron.py:564: ConvergenceWarning: Stochastic Optimizer: Maximum iterations (200) reached and the optimization hasn't converged yet.\n",
      "  % self.max_iter, ConvergenceWarning)\n"
     ]
    }
   ],
   "source": [
    "# Testing multilayer Perceptron Regression\n",
    "\n",
    "print (\"Neutral Network Regression:\")\n",
    "model= NNR()\n",
    "start_time = time.time()\n",
    "model.fit(X_train, y_train)\n",
    "predicted = model.predict(X_test)\n",
    "elapsed_time = time.time() - start_time\n",
    "z = sqrt(mean_squared_error(y_test, predicted))\n",
    "print('RMS Evaluation:  {}'.format(z) )\n",
    "print('Prediction/Fit Run Time: {}'.format(elapsed_time))"
   ]
  },
  {
   "cell_type": "markdown",
   "metadata": {},
   "source": [
    "### Model Selection"
   ]
  },
  {
   "cell_type": "markdown",
   "metadata": {},
   "source": [
    "    - In progress"
   ]
  },
  {
   "cell_type": "markdown",
   "metadata": {
    "ExecuteTime": {
     "end_time": "2018-03-27T05:39:06.841433Z",
     "start_time": "2018-03-27T05:39:06.837617Z"
    }
   },
   "source": [
    "### Model Optimization"
   ]
  },
  {
   "cell_type": "markdown",
   "metadata": {},
   "source": [
    "    - In progress"
   ]
  },
  {
   "cell_type": "markdown",
   "metadata": {},
   "source": [
    "### Model Evaluation"
   ]
  },
  {
   "cell_type": "markdown",
   "metadata": {},
   "source": [
    "    - In progress"
   ]
  },
  {
   "cell_type": "markdown",
   "metadata": {},
   "source": [
    "### Model Finalization"
   ]
  },
  {
   "cell_type": "markdown",
   "metadata": {},
   "source": [
    "    - In progress"
   ]
  },
  {
   "cell_type": "markdown",
   "metadata": {},
   "source": [
    "## Product Deployment"
   ]
  },
  {
   "cell_type": "markdown",
   "metadata": {},
   "source": [
    "### Exporting Predictions"
   ]
  },
  {
   "cell_type": "code",
   "execution_count": 31,
   "metadata": {
    "ExecuteTime": {
     "end_time": "2018-04-03T04:31:50.976837Z",
     "start_time": "2018-04-03T04:31:50.913968Z"
    }
   },
   "outputs": [
    {
     "name": "stdout",
     "output_type": "stream",
     "text": [
      "Loading in the test dataset...\n"
     ]
    },
    {
     "data": {
      "text/html": [
       "<div>\n",
       "<style>\n",
       "    .dataframe thead tr:only-child th {\n",
       "        text-align: right;\n",
       "    }\n",
       "\n",
       "    .dataframe thead th {\n",
       "        text-align: left;\n",
       "    }\n",
       "\n",
       "    .dataframe tbody tr th {\n",
       "        vertical-align: top;\n",
       "    }\n",
       "</style>\n",
       "<table border=\"1\" class=\"dataframe\">\n",
       "  <thead>\n",
       "    <tr style=\"text-align: right;\">\n",
       "      <th></th>\n",
       "      <th>Item_Identifier</th>\n",
       "      <th>Item_Weight</th>\n",
       "      <th>Item_Fat_Content</th>\n",
       "      <th>Item_Visibility</th>\n",
       "      <th>Item_Type</th>\n",
       "      <th>Item_MRP</th>\n",
       "      <th>Outlet_Identifier</th>\n",
       "      <th>Outlet_Establishment_Year</th>\n",
       "      <th>Outlet_Size</th>\n",
       "      <th>Outlet_Location_Type</th>\n",
       "      <th>Outlet_Type</th>\n",
       "    </tr>\n",
       "  </thead>\n",
       "  <tbody>\n",
       "    <tr>\n",
       "      <th>2996</th>\n",
       "      <td>NCT53</td>\n",
       "      <td>5.4</td>\n",
       "      <td>Low Fat</td>\n",
       "      <td>0.048214</td>\n",
       "      <td>Health and Hygiene</td>\n",
       "      <td>162.8526</td>\n",
       "      <td>OUT045</td>\n",
       "      <td>2002</td>\n",
       "      <td>Medium</td>\n",
       "      <td>Tier 2</td>\n",
       "      <td>Supermarket Type1</td>\n",
       "    </tr>\n",
       "    <tr>\n",
       "      <th>1918</th>\n",
       "      <td>FDU45</td>\n",
       "      <td>15.6</td>\n",
       "      <td>Regular</td>\n",
       "      <td>0.035578</td>\n",
       "      <td>Snack Foods</td>\n",
       "      <td>112.6518</td>\n",
       "      <td>OUT045</td>\n",
       "      <td>2002</td>\n",
       "      <td>Medium</td>\n",
       "      <td>Tier 2</td>\n",
       "      <td>Supermarket Type1</td>\n",
       "    </tr>\n",
       "    <tr>\n",
       "      <th>1777</th>\n",
       "      <td>NCK18</td>\n",
       "      <td>9.6</td>\n",
       "      <td>Low Fat</td>\n",
       "      <td>0.006736</td>\n",
       "      <td>Household</td>\n",
       "      <td>166.4184</td>\n",
       "      <td>OUT017</td>\n",
       "      <td>2007</td>\n",
       "      <td>Medium</td>\n",
       "      <td>Tier 2</td>\n",
       "      <td>Supermarket Type1</td>\n",
       "    </tr>\n",
       "    <tr>\n",
       "      <th>4087</th>\n",
       "      <td>FDX55</td>\n",
       "      <td>15.1</td>\n",
       "      <td>Low Fat</td>\n",
       "      <td>0.055160</td>\n",
       "      <td>Fruits and Vegetables</td>\n",
       "      <td>217.8166</td>\n",
       "      <td>OUT013</td>\n",
       "      <td>1987</td>\n",
       "      <td>High</td>\n",
       "      <td>Tier 3</td>\n",
       "      <td>Supermarket Type1</td>\n",
       "    </tr>\n",
       "  </tbody>\n",
       "</table>\n",
       "</div>"
      ],
      "text/plain": [
       "     Item_Identifier  Item_Weight Item_Fat_Content  Item_Visibility  \\\n",
       "2996           NCT53          5.4          Low Fat         0.048214   \n",
       "1918           FDU45         15.6          Regular         0.035578   \n",
       "1777           NCK18          9.6          Low Fat         0.006736   \n",
       "4087           FDX55         15.1          Low Fat         0.055160   \n",
       "\n",
       "                  Item_Type  Item_MRP Outlet_Identifier  \\\n",
       "2996     Health and Hygiene  162.8526            OUT045   \n",
       "1918            Snack Foods  112.6518            OUT045   \n",
       "1777              Household  166.4184            OUT017   \n",
       "4087  Fruits and Vegetables  217.8166            OUT013   \n",
       "\n",
       "      Outlet_Establishment_Year Outlet_Size Outlet_Location_Type  \\\n",
       "2996                       2002      Medium               Tier 2   \n",
       "1918                       2002      Medium               Tier 2   \n",
       "1777                       2007      Medium               Tier 2   \n",
       "4087                       1987        High               Tier 3   \n",
       "\n",
       "            Outlet_Type  \n",
       "2996  Supermarket Type1  \n",
       "1918  Supermarket Type1  \n",
       "1777  Supermarket Type1  \n",
       "4087  Supermarket Type1  "
      ]
     },
     "execution_count": 31,
     "metadata": {},
     "output_type": "execute_result"
    }
   ],
   "source": [
    "# Read and Transform variables for testing\n",
    "print('Loading in the test dataset...')\n",
    "test = pd.read_csv(r\"C:\\Users\\Latoya Clarke\\Desktop\\Data for Analysis\\Sales Data\\test_cleaned.csv\")\n",
    "test.sample(4)"
   ]
  },
  {
   "cell_type": "code",
   "execution_count": 32,
   "metadata": {
    "ExecuteTime": {
     "end_time": "2018-04-03T04:31:51.141764Z",
     "start_time": "2018-04-03T04:31:50.979850Z"
    }
   },
   "outputs": [
    {
     "name": "stdout",
     "output_type": "stream",
     "text": [
      "\n",
      "Transforming data......\n",
      "\n",
      "Test features (X) before: \n",
      "        Item_Type        Outlet_Type  Normalized\n",
      "5654  Snack Foods  Supermarket Type1    0.479909\n",
      "4259  Hard Drinks  Supermarket Type1    0.013057\n",
      "1081        Dairy  Supermarket Type1    0.245361\n",
      "\n",
      "Test features (X) after: \n",
      "[0.         0.         0.         0.         0.         0.\n",
      " 0.         0.         0.         0.         0.         0.\n",
      " 0.         1.         0.         0.         0.52448781 0.\n",
      " 1.         0.         0.        ]\n",
      "\n",
      "Predicting from Testing Data....\n",
      "\n",
      "Values Predicted:  [1923.74643136 1641.1220312  1501.83699814 ... 1974.04405198 3261.1839979\n",
      " 1573.3488268 ]\n"
     ]
    }
   ],
   "source": [
    "print(\"\\nTransforming data......\")\n",
    "from sklearn import preprocessing\n",
    "x = test[['Item_MRP']].values.astype(float)\n",
    "min_max_scaler = preprocessing.MinMaxScaler()\n",
    "\n",
    "# Create an object to transform the data to fit minmax processor\n",
    "x_scaled = min_max_scaler.fit_transform(x)\n",
    "\n",
    "# Run the normalizer on the dataframe\n",
    "test['Normalized'] = pd.DataFrame(x_scaled) \n",
    "\n",
    "new_test =test.drop(['Item_Identifier','Outlet_Identifier',],axis=1)\n",
    "\n",
    "test_selected = new_test.drop(['Item_MRP','Outlet_Size','Item_Weight','Outlet_Establishment_Year','Outlet_Location_Type','Item_Visibility','Item_Fat_Content'], axis = 1)\n",
    "X_2= test_selected.to_dict(orient='records')\n",
    "\n",
    "from sklearn.feature_extraction import DictVectorizer\n",
    "vec = DictVectorizer()\n",
    "test_X = vec.fit_transform(X_2).toarray()\n",
    "\n",
    "print('\\nTest features (X) before: ')\n",
    "print(test_selected.sample(3))\n",
    "print('\\nTest features (X) after: ')\n",
    "print(test_X[3])\n",
    "\n",
    "print('\\nPredicting from Testing Data....')\n",
    "pred_y = model.predict(test_X)\n",
    "print('\\nValues Predicted: ',pred_y)"
   ]
  },
  {
   "cell_type": "markdown",
   "metadata": {},
   "source": [
    "Export to CSV"
   ]
  },
  {
   "cell_type": "code",
   "execution_count": 33,
   "metadata": {
    "ExecuteTime": {
     "end_time": "2018-04-03T04:31:51.199226Z",
     "start_time": "2018-04-03T04:31:51.145535Z"
    }
   },
   "outputs": [
    {
     "name": "stdout",
     "output_type": "stream",
     "text": [
      "Exporting Predicted data to file...\n",
      "Exported predicted data to file \"predictions.csv\"\n"
     ]
    }
   ],
   "source": [
    "print('Exporting Predicted data to file...')\n",
    "test['Item_Outlet_Sales'] = pred_y\n",
    "test[['Item_Identifier','Outlet_Identifier','Item_Outlet_Sales']].to_csv(r\"C:\\Users\\Latoya Clarke\\Desktop\\Data for Analysis\\Sales Data\\predictions.csv\", index=False)\n",
    "print('Exported predicted data to file \"predictions.csv\"')"
   ]
  }
 ],
 "metadata": {
  "kernelspec": {
   "display_name": "Python 3",
   "language": "python",
   "name": "python3"
  },
  "language_info": {
   "codemirror_mode": {
    "name": "ipython",
    "version": 3
   },
   "file_extension": ".py",
   "mimetype": "text/x-python",
   "name": "python",
   "nbconvert_exporter": "python",
   "pygments_lexer": "ipython3",
   "version": "3.6.3"
  }
 },
 "nbformat": 4,
 "nbformat_minor": 2
}
