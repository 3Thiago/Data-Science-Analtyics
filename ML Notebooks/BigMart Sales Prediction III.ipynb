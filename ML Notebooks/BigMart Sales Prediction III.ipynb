{
 "cells": [
  {
   "cell_type": "markdown",
   "metadata": {},
   "source": [
    "# Big Mart Sales III Analysis"
   ]
  },
  {
   "cell_type": "markdown",
   "metadata": {
    "ExecuteTime": {
     "end_time": "2018-04-02T22:02:18.753607Z",
     "start_time": "2018-04-02T22:02:18.734199Z"
    }
   },
   "source": [
    "Predictions from this analysis is at 197th (out of 1488) Position:\n",
    "    [Big Mart Sales Leaderboard](https://datahack.analyticsvidhya.com/contest/practice-problem-big-mart-sales-iii/lb?page=1)\n",
    "    - Gradient Boosting Regression Algorithm: n_estimator = 50, random_state = 359 \n",
    "    - Modelling Accuracy: 989.0451317473423\n",
    "    - Competition Testing Accuracy: 1149.05893503744\n",
    "    - Train_Test_Split: test_size= 0.05\n",
    "    "
   ]
  },
  {
   "cell_type": "markdown",
   "metadata": {},
   "source": [
    "#### List of Researchers\n",
    "\n",
    "Shamar Morgan (B.Eng)<br>\n",
    "Email: bromantkd@gmail.com <br>\n",
    "Github: [shamar1234](https://github.com/shamar1234) <br>\n",
    "Kaggle: [smorgan](https://www.kaggle.com/broman) <br>\n",
    "Twitter: [@sham_morgan](https://twitter.com/Sham_Morgan) <br>"
   ]
  },
  {
   "cell_type": "markdown",
   "metadata": {},
   "source": [
    "## Introduction\n",
    "Big Mart is a chain of stores in several different locations in the United States where they sell a variety of products. They desire to increase sales of these products using predictive analysis. \n",
    "\n",
    "Big Mart wants to try to figure out the properties of the items and Outlets that allow for successful sales. They have provided some datasets containing the attributes of each product and store that have been defined. Their aim is to build a predictive model and find out the the sales of each product at a particular store."
   ]
  },
  {
   "cell_type": "markdown",
   "metadata": {},
   "source": [
    "#### Data Features: \n",
    "    Item_Identifier: Unique product ID\n",
    "    Item_Weight: Weight of product\n",
    "    Item_Fat_Content: Whether the product is low fat or not.\n",
    "    Item_Visibility: The % of total display area of all products in a store allocated to  the particular product\n",
    "    Item_Type: The category to which the product belongs\n",
    "    Item_MRP: Maximum Retail Price (list price) of the product\n",
    "    Outlet_Identifier: Unique store ID\n",
    "    Outlet_Establishment_Year: The year in which store was established\n",
    "    Outlet_Size: The size of the store in terms of ground area covered\n",
    "    Outlet_Location_Type: The type of city in which the store is located\n",
    "    Outlet_Type: Whether the outlet is just a grocery store or some sort of supermarket\n",
    "    Item_Outlet_Sales: Sales of the product in the particulat store. This is the outcome  variable to be predicted."
   ]
  },
  {
   "cell_type": "markdown",
   "metadata": {},
   "source": [
    "## Hypothesis\n",
    "__Outlet Theory__:\n",
    "Large Outlets in more densely populated areas will have greater sales of all items.<br>\n",
    "Outlets that have existed for a longer time have greater customer loyal and retention. \n",
    "The Supermarkets will attract more customers as opposed to grocery stores due to a wider variety of produtcs and usually cheaper bulk products. \n",
    "\n",
    "__Item Theory__: Products that are basic necessities and needs constant replenishing will have a higher sales. Products will greater visibility also show be purchased more as retail chains usually place products with higher sales in more visible areas. Most customers tend to be weight centric and will opt for low fat products once presented the opportunity. Product weight has no bearings on the purchase of products and sales due to pricing this highly subjective therefore should have little effect of sales of items. "
   ]
  },
  {
   "cell_type": "markdown",
   "metadata": {},
   "source": [
    "## Libraries\n",
    "The libraries used in this research is as follows:"
   ]
  },
  {
   "cell_type": "code",
   "execution_count": 1,
   "metadata": {
    "ExecuteTime": {
     "end_time": "2018-04-06T09:36:08.748145Z",
     "start_time": "2018-04-06T09:36:04.609846Z"
    },
    "scrolled": false
   },
   "outputs": [
    {
     "name": "stdout",
     "output_type": "stream",
     "text": [
      "Python version 3.6.3 |Anaconda custom (64-bit)| (default, Oct 15 2017, 03:27:45) [MSC v.1900 64 bit (AMD64)]\n",
      "IPython version:  6.1.0\n",
      "Numpy version:    1.14.2\n",
      "Scipy version:  0.19.1\n",
      "Pandas version:   0.20.3\n",
      "Sklearn version:  0.19.1\n",
      "Seaborn version:   0.8.0\n",
      "Maplotlib version:  2.1.0\n"
     ]
    }
   ],
   "source": [
    "# Import important libraries\n",
    "\n",
    "# Looking at Python Version\n",
    "import sys \n",
    "print('Python version ' + sys.version)\n",
    "\n",
    "# IPython is what you are using now to run the notebook\n",
    "import IPython\n",
    "print(\"IPython version: %6.6s\" % IPython.__version__)\n",
    "\n",
    "# Numpy is a library for working with Arrays\n",
    "import numpy as np\n",
    "print( \"Numpy version:    %6.6s\" % np.__version__)\n",
    "\n",
    "# SciPy implements many different numerical algorithms\n",
    "import scipy as sp\n",
    "print( \"Scipy version:  %6.6s\" % sp.__version__)\n",
    "\n",
    "# Pandas makes working with data frames easier\n",
    "import pandas as pd\n",
    "print( \"Pandas version:   %6.6s\" % pd.__version__)\n",
    "\n",
    "#sklearn is a library for machine learning algorithms\n",
    "import sklearn\n",
    "print( \"Sklearn version:  %6.6s\" % sklearn.__version__)\n",
    "\n",
    "#Seaborn is used for create beautiful static plots\n",
    "import seaborn as sb\n",
    "print( \"Seaborn version:  %6.6s\" % sb.__version__)\n",
    "\n",
    "# Matplotlib is used for creating quick plots\n",
    "import matplotlib\n",
    "import matplotlib.pyplot as plt\n",
    "\n",
    "# time used for timing run times of algorithms\n",
    "import time\n",
    "\n",
    "# Matplotlib inline is used to contain graphs inside workbook\n",
    "%matplotlib inline \n",
    "print( \"Maplotlib version: %6.6s\" % matplotlib.__version__)"
   ]
  },
  {
   "cell_type": "markdown",
   "metadata": {},
   "source": [
    "## External Dependencies"
   ]
  },
  {
   "cell_type": "markdown",
   "metadata": {},
   "source": [
    "Data set for analysis can be found at : [Big Mart Sales Prediction](https://datahack.analyticsvidhya.com/contest/practice-problem-big-mart-sales-iii/)"
   ]
  },
  {
   "cell_type": "markdown",
   "metadata": {},
   "source": [
    "## Data Acquisition"
   ]
  },
  {
   "cell_type": "markdown",
   "metadata": {},
   "source": [
    "Loading training dataset into workspace"
   ]
  },
  {
   "cell_type": "code",
   "execution_count": 2,
   "metadata": {
    "ExecuteTime": {
     "end_time": "2018-04-06T09:36:08.839414Z",
     "start_time": "2018-04-06T09:36:08.749147Z"
    },
    "scrolled": true
   },
   "outputs": [
    {
     "name": "stdout",
     "output_type": "stream",
     "text": [
      "{'encoding': 'ascii', 'confidence': 1.0, 'language': ''}\n",
      "\n",
      "Training Sample:\n"
     ]
    },
    {
     "data": {
      "text/html": [
       "<div>\n",
       "<style>\n",
       "    .dataframe thead tr:only-child th {\n",
       "        text-align: right;\n",
       "    }\n",
       "\n",
       "    .dataframe thead th {\n",
       "        text-align: left;\n",
       "    }\n",
       "\n",
       "    .dataframe tbody tr th {\n",
       "        vertical-align: top;\n",
       "    }\n",
       "</style>\n",
       "<table border=\"1\" class=\"dataframe\">\n",
       "  <thead>\n",
       "    <tr style=\"text-align: right;\">\n",
       "      <th></th>\n",
       "      <th>Item_Identifier</th>\n",
       "      <th>Item_Weight</th>\n",
       "      <th>Item_Fat_Content</th>\n",
       "      <th>Item_Visibility</th>\n",
       "      <th>Item_Type</th>\n",
       "      <th>Item_MRP</th>\n",
       "      <th>Outlet_Identifier</th>\n",
       "      <th>Outlet_Establishment_Year</th>\n",
       "      <th>Outlet_Size</th>\n",
       "      <th>Outlet_Location_Type</th>\n",
       "      <th>Outlet_Type</th>\n",
       "      <th>Item_Outlet_Sales</th>\n",
       "    </tr>\n",
       "  </thead>\n",
       "  <tbody>\n",
       "    <tr>\n",
       "      <th>345</th>\n",
       "      <td>DRI37</td>\n",
       "      <td>15.85</td>\n",
       "      <td>Low Fat</td>\n",
       "      <td>0.107765</td>\n",
       "      <td>Soft Drinks</td>\n",
       "      <td>59.5904</td>\n",
       "      <td>OUT049</td>\n",
       "      <td>1999</td>\n",
       "      <td>Medium</td>\n",
       "      <td>Tier 1</td>\n",
       "      <td>Supermarket Type1</td>\n",
       "      <td>703.0848</td>\n",
       "    </tr>\n",
       "    <tr>\n",
       "      <th>1320</th>\n",
       "      <td>FDM39</td>\n",
       "      <td>6.42</td>\n",
       "      <td>Low Fat</td>\n",
       "      <td>0.053554</td>\n",
       "      <td>Dairy</td>\n",
       "      <td>178.6002</td>\n",
       "      <td>OUT049</td>\n",
       "      <td>1999</td>\n",
       "      <td>Medium</td>\n",
       "      <td>Tier 1</td>\n",
       "      <td>Supermarket Type1</td>\n",
       "      <td>3582.0040</td>\n",
       "    </tr>\n",
       "    <tr>\n",
       "      <th>2311</th>\n",
       "      <td>FDR60</td>\n",
       "      <td>14.30</td>\n",
       "      <td>Low Fat</td>\n",
       "      <td>0.130390</td>\n",
       "      <td>Baking Goods</td>\n",
       "      <td>77.2328</td>\n",
       "      <td>OUT035</td>\n",
       "      <td>2004</td>\n",
       "      <td>Small</td>\n",
       "      <td>Tier 2</td>\n",
       "      <td>Supermarket Type1</td>\n",
       "      <td>231.6984</td>\n",
       "    </tr>\n",
       "    <tr>\n",
       "      <th>7256</th>\n",
       "      <td>DRJ39</td>\n",
       "      <td>20.25</td>\n",
       "      <td>Low Fat</td>\n",
       "      <td>0.036400</td>\n",
       "      <td>Dairy</td>\n",
       "      <td>219.3482</td>\n",
       "      <td>OUT045</td>\n",
       "      <td>2002</td>\n",
       "      <td>NaN</td>\n",
       "      <td>Tier 2</td>\n",
       "      <td>Supermarket Type1</td>\n",
       "      <td>8323.8316</td>\n",
       "    </tr>\n",
       "    <tr>\n",
       "      <th>961</th>\n",
       "      <td>FDZ56</td>\n",
       "      <td>16.25</td>\n",
       "      <td>Low Fat</td>\n",
       "      <td>0.025716</td>\n",
       "      <td>Fruits and Vegetables</td>\n",
       "      <td>168.1474</td>\n",
       "      <td>OUT013</td>\n",
       "      <td>1987</td>\n",
       "      <td>High</td>\n",
       "      <td>Tier 3</td>\n",
       "      <td>Supermarket Type1</td>\n",
       "      <td>1516.0266</td>\n",
       "    </tr>\n",
       "    <tr>\n",
       "      <th>5694</th>\n",
       "      <td>FDR44</td>\n",
       "      <td>6.11</td>\n",
       "      <td>Regular</td>\n",
       "      <td>0.102901</td>\n",
       "      <td>Fruits and Vegetables</td>\n",
       "      <td>128.4968</td>\n",
       "      <td>OUT035</td>\n",
       "      <td>2004</td>\n",
       "      <td>Small</td>\n",
       "      <td>Tier 2</td>\n",
       "      <td>Supermarket Type1</td>\n",
       "      <td>1435.4648</td>\n",
       "    </tr>\n",
       "    <tr>\n",
       "      <th>2508</th>\n",
       "      <td>FDL04</td>\n",
       "      <td>NaN</td>\n",
       "      <td>Low Fat</td>\n",
       "      <td>0.111381</td>\n",
       "      <td>Frozen Foods</td>\n",
       "      <td>106.7622</td>\n",
       "      <td>OUT027</td>\n",
       "      <td>1985</td>\n",
       "      <td>Medium</td>\n",
       "      <td>Tier 3</td>\n",
       "      <td>Supermarket Type3</td>\n",
       "      <td>2964.1416</td>\n",
       "    </tr>\n",
       "    <tr>\n",
       "      <th>6584</th>\n",
       "      <td>FDE17</td>\n",
       "      <td>20.10</td>\n",
       "      <td>Regular</td>\n",
       "      <td>0.000000</td>\n",
       "      <td>Frozen Foods</td>\n",
       "      <td>152.2366</td>\n",
       "      <td>OUT010</td>\n",
       "      <td>1998</td>\n",
       "      <td>NaN</td>\n",
       "      <td>Tier 3</td>\n",
       "      <td>Grocery Store</td>\n",
       "      <td>151.1366</td>\n",
       "    </tr>\n",
       "  </tbody>\n",
       "</table>\n",
       "</div>"
      ],
      "text/plain": [
       "     Item_Identifier  Item_Weight Item_Fat_Content  Item_Visibility  \\\n",
       "345            DRI37        15.85          Low Fat         0.107765   \n",
       "1320           FDM39         6.42          Low Fat         0.053554   \n",
       "2311           FDR60        14.30          Low Fat         0.130390   \n",
       "7256           DRJ39        20.25          Low Fat         0.036400   \n",
       "961            FDZ56        16.25          Low Fat         0.025716   \n",
       "5694           FDR44         6.11          Regular         0.102901   \n",
       "2508           FDL04          NaN          Low Fat         0.111381   \n",
       "6584           FDE17        20.10          Regular         0.000000   \n",
       "\n",
       "                  Item_Type  Item_MRP Outlet_Identifier  \\\n",
       "345             Soft Drinks   59.5904            OUT049   \n",
       "1320                  Dairy  178.6002            OUT049   \n",
       "2311           Baking Goods   77.2328            OUT035   \n",
       "7256                  Dairy  219.3482            OUT045   \n",
       "961   Fruits and Vegetables  168.1474            OUT013   \n",
       "5694  Fruits and Vegetables  128.4968            OUT035   \n",
       "2508           Frozen Foods  106.7622            OUT027   \n",
       "6584           Frozen Foods  152.2366            OUT010   \n",
       "\n",
       "      Outlet_Establishment_Year Outlet_Size Outlet_Location_Type  \\\n",
       "345                        1999      Medium               Tier 1   \n",
       "1320                       1999      Medium               Tier 1   \n",
       "2311                       2004       Small               Tier 2   \n",
       "7256                       2002         NaN               Tier 2   \n",
       "961                        1987        High               Tier 3   \n",
       "5694                       2004       Small               Tier 2   \n",
       "2508                       1985      Medium               Tier 3   \n",
       "6584                       1998         NaN               Tier 3   \n",
       "\n",
       "            Outlet_Type  Item_Outlet_Sales  \n",
       "345   Supermarket Type1           703.0848  \n",
       "1320  Supermarket Type1          3582.0040  \n",
       "2311  Supermarket Type1           231.6984  \n",
       "7256  Supermarket Type1          8323.8316  \n",
       "961   Supermarket Type1          1516.0266  \n",
       "5694  Supermarket Type1          1435.4648  \n",
       "2508  Supermarket Type3          2964.1416  \n",
       "6584      Grocery Store           151.1366  "
      ]
     },
     "execution_count": 2,
     "metadata": {},
     "output_type": "execute_result"
    }
   ],
   "source": [
    "# Acquiring dataset from local machine\n",
    "location = r\"C:\\Users\\Latoya Clarke\\Desktop\\Data for Analysis\\bigmart_train.csv\"\n",
    "location_test =r\"C:\\Users\\Latoya Clarke\\Desktop\\Data for Analysis\\bigmart_test.csv\"\n",
    "# checks encoding of dataset\n",
    "%run char_encode.py\n",
    "encoder = char_encode(location)\n",
    "\n",
    "#loading training & testing data\n",
    "train = pd.read_csv(location,encoding=encoder)\n",
    "test = pd.read_csv(location_test, encoding=encoder)\n",
    "\n",
    "print (\"\\nTraining Sample:\")\n",
    "train.sample(8)"
   ]
  },
  {
   "cell_type": "markdown",
   "metadata": {},
   "source": [
    "##  Data Exploration"
   ]
  },
  {
   "cell_type": "markdown",
   "metadata": {},
   "source": [
    "### Univariate Analysis"
   ]
  },
  {
   "cell_type": "markdown",
   "metadata": {
    "ExecuteTime": {
     "end_time": "2018-04-01T05:46:06.006701Z",
     "start_time": "2018-04-01T05:46:06.002909Z"
    }
   },
   "source": [
    "Looking through the general information on the dataset:"
   ]
  },
  {
   "cell_type": "code",
   "execution_count": 3,
   "metadata": {
    "ExecuteTime": {
     "end_time": "2018-04-06T09:36:08.861493Z",
     "start_time": "2018-04-06T09:36:08.840390Z"
    }
   },
   "outputs": [
    {
     "name": "stdout",
     "output_type": "stream",
     "text": [
      "General Train information: \n",
      "<class 'pandas.core.frame.DataFrame'>\n",
      "RangeIndex: 8523 entries, 0 to 8522\n",
      "Data columns (total 12 columns):\n",
      "Item_Identifier              8523 non-null object\n",
      "Item_Weight                  7060 non-null float64\n",
      "Item_Fat_Content             8523 non-null object\n",
      "Item_Visibility              8523 non-null float64\n",
      "Item_Type                    8523 non-null object\n",
      "Item_MRP                     8523 non-null float64\n",
      "Outlet_Identifier            8523 non-null object\n",
      "Outlet_Establishment_Year    8523 non-null int64\n",
      "Outlet_Size                  6113 non-null object\n",
      "Outlet_Location_Type         8523 non-null object\n",
      "Outlet_Type                  8523 non-null object\n",
      "Item_Outlet_Sales            8523 non-null float64\n",
      "dtypes: float64(4), int64(1), object(7)\n",
      "memory usage: 799.1+ KB\n",
      "\n",
      "General Test information: \n",
      "<class 'pandas.core.frame.DataFrame'>\n",
      "RangeIndex: 5681 entries, 0 to 5680\n",
      "Data columns (total 11 columns):\n",
      "Item_Identifier              5681 non-null object\n",
      "Item_Weight                  4705 non-null float64\n",
      "Item_Fat_Content             5681 non-null object\n",
      "Item_Visibility              5681 non-null float64\n",
      "Item_Type                    5681 non-null object\n",
      "Item_MRP                     5681 non-null float64\n",
      "Outlet_Identifier            5681 non-null object\n",
      "Outlet_Establishment_Year    5681 non-null int64\n",
      "Outlet_Size                  4075 non-null object\n",
      "Outlet_Location_Type         5681 non-null object\n",
      "Outlet_Type                  5681 non-null object\n",
      "dtypes: float64(3), int64(1), object(7)\n",
      "memory usage: 488.3+ KB\n"
     ]
    }
   ],
   "source": [
    "# Get the basic info on the data\n",
    "print(\"General Train information: \")\n",
    "train.info()\n",
    "print(\"\\nGeneral Test information: \")\n",
    "test.info()"
   ]
  },
  {
   "cell_type": "markdown",
   "metadata": {},
   "source": [
    "Findings:\n",
    "    - There are missing values in both the train and test dataset in the Item_Weight column and the Outlet_Size columns\n",
    "\n",
    "__Cleaning up the data for analysis__"
   ]
  },
  {
   "cell_type": "code",
   "execution_count": 4,
   "metadata": {
    "ExecuteTime": {
     "end_time": "2018-04-06T09:36:08.908581Z",
     "start_time": "2018-04-06T09:36:08.865503Z"
    }
   },
   "outputs": [
    {
     "name": "stdout",
     "output_type": "stream",
     "text": [
      "Outlet Size Missing:  False\n",
      "Item Weight Missing:  False\n"
     ]
    }
   ],
   "source": [
    "# Clean Outlet Size\n",
    "# Use the mode Outlet Size for missing values\n",
    "train_mode = train.Outlet_Size.mode()\n",
    "test_mode = test.Outlet_Size.mode()\n",
    "\n",
    "train.Outlet_Size = train.Outlet_Size.fillna(train_mode[0])\n",
    "test.Outlet_Size = test.Outlet_Size.fillna(test_mode[0])\n",
    "print(\"Outlet Size Missing: \", train.Outlet_Size.isnull().any())\n",
    "\n",
    "# Clean Item Weight\n",
    "# Use the median weight for missing values\n",
    "train.Item_Weight = train.Item_Weight.fillna(np.nanmedian(train.Item_Weight))\n",
    "test.Item_Weight = test.Item_Weight.fillna(np.nanmedian(test.Item_Weight))\n",
    "print(\"Item Weight Missing: \", train.Item_Weight.isnull().any())\n",
    "\n",
    "# Fix Fat Content variables\n",
    "train.Item_Fat_Content = train.Item_Fat_Content.replace('LF','Low Fat')\n",
    "train.Item_Fat_Content = train.Item_Fat_Content.replace('low fat','Low Fat')\n",
    "train.Item_Fat_Content = train.Item_Fat_Content.replace('reg','Regular')\n",
    "\n",
    "test.Item_Fat_Content = test.Item_Fat_Content.replace('LF','Low Fat')\n",
    "test.Item_Fat_Content = test.Item_Fat_Content.replace('low fat','Low Fat')\n",
    "test.Item_Fat_Content = test.Item_Fat_Content.replace('reg','Regular')\n"
   ]
  },
  {
   "cell_type": "code",
   "execution_count": 5,
   "metadata": {
    "ExecuteTime": {
     "end_time": "2018-04-06T09:36:08.986805Z",
     "start_time": "2018-04-06T09:36:08.910577Z"
    }
   },
   "outputs": [],
   "source": [
    "# Export cleaned data to CSV file\n",
    "location_3 = r\"C:\\Users\\Latoya Clarke\\Desktop\\Data for Analysis\\bigmart_test_cleaned.csv\"\n",
    "test.to_csv(location_3, index=False)"
   ]
  },
  {
   "cell_type": "code",
   "execution_count": 6,
   "metadata": {
    "ExecuteTime": {
     "end_time": "2018-04-06T09:36:09.014860Z",
     "start_time": "2018-04-06T09:36:08.988791Z"
    }
   },
   "outputs": [
    {
     "data": {
      "text/html": [
       "<div>\n",
       "<style>\n",
       "    .dataframe thead tr:only-child th {\n",
       "        text-align: right;\n",
       "    }\n",
       "\n",
       "    .dataframe thead th {\n",
       "        text-align: left;\n",
       "    }\n",
       "\n",
       "    .dataframe tbody tr th {\n",
       "        vertical-align: top;\n",
       "    }\n",
       "</style>\n",
       "<table border=\"1\" class=\"dataframe\">\n",
       "  <thead>\n",
       "    <tr style=\"text-align: right;\">\n",
       "      <th></th>\n",
       "      <th>Item_Weight</th>\n",
       "      <th>Item_Visibility</th>\n",
       "      <th>Item_MRP</th>\n",
       "      <th>Item_Outlet_Sales</th>\n",
       "    </tr>\n",
       "  </thead>\n",
       "  <tbody>\n",
       "    <tr>\n",
       "      <th>count</th>\n",
       "      <td>8523.00000</td>\n",
       "      <td>8523.000000</td>\n",
       "      <td>8523.000000</td>\n",
       "      <td>8523.000000</td>\n",
       "    </tr>\n",
       "    <tr>\n",
       "      <th>mean</th>\n",
       "      <td>12.81342</td>\n",
       "      <td>0.066132</td>\n",
       "      <td>140.992782</td>\n",
       "      <td>2181.288914</td>\n",
       "    </tr>\n",
       "    <tr>\n",
       "      <th>std</th>\n",
       "      <td>4.22724</td>\n",
       "      <td>0.051598</td>\n",
       "      <td>62.275067</td>\n",
       "      <td>1706.499616</td>\n",
       "    </tr>\n",
       "    <tr>\n",
       "      <th>min</th>\n",
       "      <td>4.55500</td>\n",
       "      <td>0.000000</td>\n",
       "      <td>31.290000</td>\n",
       "      <td>33.290000</td>\n",
       "    </tr>\n",
       "    <tr>\n",
       "      <th>25%</th>\n",
       "      <td>9.31000</td>\n",
       "      <td>0.026989</td>\n",
       "      <td>93.826500</td>\n",
       "      <td>834.247400</td>\n",
       "    </tr>\n",
       "    <tr>\n",
       "      <th>50%</th>\n",
       "      <td>12.60000</td>\n",
       "      <td>0.053931</td>\n",
       "      <td>143.012800</td>\n",
       "      <td>1794.331000</td>\n",
       "    </tr>\n",
       "    <tr>\n",
       "      <th>75%</th>\n",
       "      <td>16.00000</td>\n",
       "      <td>0.094585</td>\n",
       "      <td>185.643700</td>\n",
       "      <td>3101.296400</td>\n",
       "    </tr>\n",
       "    <tr>\n",
       "      <th>max</th>\n",
       "      <td>21.35000</td>\n",
       "      <td>0.328391</td>\n",
       "      <td>266.888400</td>\n",
       "      <td>13086.964800</td>\n",
       "    </tr>\n",
       "  </tbody>\n",
       "</table>\n",
       "</div>"
      ],
      "text/plain": [
       "       Item_Weight  Item_Visibility     Item_MRP  Item_Outlet_Sales\n",
       "count   8523.00000      8523.000000  8523.000000        8523.000000\n",
       "mean      12.81342         0.066132   140.992782        2181.288914\n",
       "std        4.22724         0.051598    62.275067        1706.499616\n",
       "min        4.55500         0.000000    31.290000          33.290000\n",
       "25%        9.31000         0.026989    93.826500         834.247400\n",
       "50%       12.60000         0.053931   143.012800        1794.331000\n",
       "75%       16.00000         0.094585   185.643700        3101.296400\n",
       "max       21.35000         0.328391   266.888400       13086.964800"
      ]
     },
     "execution_count": 6,
     "metadata": {},
     "output_type": "execute_result"
    }
   ],
   "source": [
    "# Generate the summary statistics excluding Year Established\n",
    "train.drop('Outlet_Establishment_Year',axis=1).describe()"
   ]
  },
  {
   "cell_type": "markdown",
   "metadata": {},
   "source": [
    "Findings:\n",
    "    - Several items seem to have as low as 0% visibiliy and as high as 32.8%. 75% of the  item visibilities are <=0.09 which is less than 1% visibility. \n",
    "    - The lowest Item_Outlet_Sales is 33.2 with a very large range. \n",
    "    - The sales between 75% - 100% inter-quartile ranges is very steep compared to the    gradual increase in in the other ranges.\n",
    "\n",
    "__Plotting Numeric Distributions__"
   ]
  },
  {
   "cell_type": "code",
   "execution_count": 7,
   "metadata": {
    "ExecuteTime": {
     "end_time": "2018-04-06T09:36:09.722972Z",
     "start_time": "2018-04-06T09:36:09.018868Z"
    }
   },
   "outputs": [
    {
     "name": "stdout",
     "output_type": "stream",
     "text": [
      "Histogram Plots of numeric fields: \n"
     ]
    },
    {
     "data": {
      "image/png": "[encoded data removed]",
      "text/plain": [
       "<matplotlib.figure.Figure at 0x1852769f438>"
      ]
     },
     "metadata": {},
     "output_type": "display_data"
    }
   ],
   "source": [
    "# plot with various axes scales\n",
    "print(\"Histogram Plots of numeric fields: \")\n",
    "plt.figure(figsize=(13,8))\n",
    "\n",
    "plt.subplot(221)\n",
    "sb.distplot(train.Item_Outlet_Sales)\n",
    "plt.title('Frequency of Item Outlet Sales')\n",
    "plt.ylabel('Frequency')\n",
    "plt.xlabel('Item_Outlet_Sales')\n",
    "plt.grid(True)\n",
    "\n",
    "plt.subplot(222)\n",
    "sb.distplot(train.Item_Visibility*100,bins=[5,10,15,20,25,30])\n",
    "plt.title('Frequency of Item Visibility')\n",
    "plt.ylabel('Frequency')\n",
    "plt.xlabel('Item_Visibility')\n",
    "plt.grid(True)\n",
    "\n",
    "plt.subplot(223)\n",
    "sb.distplot(train.Item_MRP, bins=[24,48,72, 96, 120, 144, 168,192,216, 240])\n",
    "plt.title('Frequency of Item MRP')\n",
    "plt.ylabel('Frequency')\n",
    "plt.xlabel('Item_MRP')\n",
    "plt.grid(True)\n",
    "\n",
    "plt.subplot(224)\n",
    "sb.distplot(train.Item_Weight, bins=[3,6,9,12,15,18,21,24])\n",
    "plt.title('Frequency of Item Weight')\n",
    "plt.ylabel('Frequency')\n",
    "plt.xlabel('Item_Weight')\n",
    "plt.grid(True)\n",
    "\n",
    "plt.subplots_adjust(top=1, bottom=0.08, left=0.10, right=0.95, hspace=0.5,\n",
    "                    wspace=0.5)"
   ]
  },
  {
   "cell_type": "markdown",
   "metadata": {},
   "source": [
    "Findings:\n",
    "    - The distribution of Item_Visibility and Item_Outlet_Sales are as follows from above. They are heavily skewed to the left showing a greater concentration of values in the left region. \n",
    "    - Item_Weight and Item_MRP are closer to a normal distribution thus having a more bell shaped curve with values spread out over the axes. \n",
    "\n",
    "__Plotting bargraphs of Categorical variables:__"
   ]
  },
  {
   "cell_type": "code",
   "execution_count": 8,
   "metadata": {
    "ExecuteTime": {
     "end_time": "2018-04-06T09:36:10.426313Z",
     "start_time": "2018-04-06T09:36:09.724990Z"
    },
    "scrolled": true
   },
   "outputs": [
    {
     "name": "stdout",
     "output_type": "stream",
     "text": [
      "Bar Plots of Categorical fields: \n"
     ]
    },
    {
     "data": {
      "image/png": "[encoded data removed]",
      "text/plain": [
       "<matplotlib.figure.Figure at 0x185277ed710>"
      ]
     },
     "metadata": {},
     "output_type": "display_data"
    }
   ],
   "source": [
    "print(\"Bar Plots of Categorical fields: \")\n",
    "plt.figure(figsize=(11.7, 8.27))\n",
    "\n",
    "plt.subplot(231)\n",
    "sb.countplot(data=train, x='Item_Fat_Content')\n",
    "plt.title('Frequency of Item_Fat_Content')\n",
    "plt.ylabel('Frequency')\n",
    "plt.xlabel('Item_Fat_Content')\n",
    "plt.grid(True)\n",
    "\n",
    "plt.subplot(232)\n",
    "sb.countplot(data=train, x='Outlet_Size')\n",
    "plt.title('Frequency of Outlet_Size')\n",
    "plt.ylabel('Frequency')\n",
    "plt.xlabel('Outlet_Size')\n",
    "plt.grid(True)\n",
    "\n",
    "plt.subplot(233)\n",
    "sb.countplot(data=train, x='Outlet_Location_Type')\n",
    "plt.title('Frequency of Outlet_Location_Type')\n",
    "plt.ylabel('Frequency')\n",
    "plt.xlabel('Outlet_Location_Type')\n",
    "plt.grid(True)\n",
    "\n",
    "plt.subplot(234)\n",
    "sb.countplot(data=train, x='Outlet_Type')\n",
    "plt.title('Frequency of Outlet_Type')\n",
    "plt.ylabel('Frequency')\n",
    "plt.xlabel('Outlet_Type')\n",
    "plt.grid(True)\n",
    "\n",
    "plt.subplot(235)\n",
    "sb.countplot(data=train, x='Item_Type')\n",
    "plt.title('Frequency of Item_Type')\n",
    "plt.ylabel('Frequency')\n",
    "plt.xlabel('Item_Type')\n",
    "plt.grid(True)\n",
    "\n",
    "plt.subplots_adjust(top=1, bottom=0.08, left=0.10, right=0.95, hspace=0.5,\n",
    "                    wspace=0.5)"
   ]
  },
  {
   "cell_type": "markdown",
   "metadata": {},
   "source": [
    "Findings:\n",
    "    - Low Fat products were more frequently purchased as opposed to the Regular products.\n",
    "    - Most frequent purchases were Fruits & Vegetables, Snacks, Frozen Foods and            Household. Starchy Foods, Seafood, Others and Breakfast were unpopular for common   list of food categories.\n",
    "    - The medium size outlets recorded more sales than the other sizes. SuperMarket Type1 had the greatest sales frequency and all other Outlet Sizes had approximately equal  sales frequency. \n",
    "    - Tier 3 had the greatest frequency of over 3400.\n"
   ]
  },
  {
   "cell_type": "code",
   "execution_count": 9,
   "metadata": {
    "ExecuteTime": {
     "end_time": "2018-04-06T09:36:10.664925Z",
     "start_time": "2018-04-06T09:36:10.428297Z"
    }
   },
   "outputs": [
    {
     "name": "stdout",
     "output_type": "stream",
     "text": [
      "Average Amount of Items Purchased: \n"
     ]
    },
    {
     "data": {
      "text/plain": [
       "<matplotlib.axes._subplots.AxesSubplot at 0x18515a4a2b0>"
      ]
     },
     "execution_count": 9,
     "metadata": {},
     "output_type": "execute_result"
    },
    {
     "data": {
      "image/png": "[encoded data removed]",
      "text/plain": [
       "<matplotlib.figure.Figure at 0x18527684dd8>"
      ]
     },
     "metadata": {},
     "output_type": "display_data"
    }
   ],
   "source": [
    "# finding number of items sold per line \n",
    "train['Sales_Item_Ratio'] = round(train['Item_Outlet_Sales']/train['Item_MRP'],1)\n",
    "\n",
    "print('Average Amount of Items Purchased: ')\n",
    "sb.set_style('whitegrid')\n",
    "fig, ax = plt.subplots()\n",
    "plt.title('Distribution of Average Amount of Items Purchased')\n",
    "fig.set_size_inches(10, 7.5)\n",
    "sb.distplot(train.Sales_Item_Ratio,ax=ax)"
   ]
  },
  {
   "cell_type": "markdown",
   "metadata": {
    "ExecuteTime": {
     "end_time": "2018-04-02T15:10:40.345127Z",
     "start_time": "2018-04-02T15:10:40.337104Z"
    }
   },
   "source": [
    "Findings:\n",
    "    - The Sales to Price ratio gives the number of items sold.\n",
    "    - The Distribution of the number of items sold over the period slightly left shewed   with mean of 15 units of item."
   ]
  },
  {
   "cell_type": "markdown",
   "metadata": {},
   "source": [
    "### Multivariate Analysis"
   ]
  },
  {
   "cell_type": "markdown",
   "metadata": {},
   "source": [
    "#### Item Sales Investigations"
   ]
  },
  {
   "cell_type": "code",
   "execution_count": 10,
   "metadata": {
    "ExecuteTime": {
     "end_time": "2018-04-06T09:36:10.683981Z",
     "start_time": "2018-04-06T09:36:10.666958Z"
    }
   },
   "outputs": [
    {
     "data": {
      "text/html": [
       "<div>\n",
       "<style>\n",
       "    .dataframe thead tr:only-child th {\n",
       "        text-align: right;\n",
       "    }\n",
       "\n",
       "    .dataframe thead th {\n",
       "        text-align: left;\n",
       "    }\n",
       "\n",
       "    .dataframe tbody tr th {\n",
       "        vertical-align: top;\n",
       "    }\n",
       "</style>\n",
       "<table border=\"1\" class=\"dataframe\">\n",
       "  <thead>\n",
       "    <tr style=\"text-align: right;\">\n",
       "      <th></th>\n",
       "      <th>Item_Weight</th>\n",
       "      <th>Item_Visibility</th>\n",
       "      <th>Item_MRP</th>\n",
       "      <th>Outlet_Establishment_Year</th>\n",
       "      <th>Item_Outlet_Sales</th>\n",
       "      <th>Sales_Item_Ratio</th>\n",
       "    </tr>\n",
       "  </thead>\n",
       "  <tbody>\n",
       "    <tr>\n",
       "      <th>Item_Weight</th>\n",
       "      <td>1.000000</td>\n",
       "      <td>-0.014168</td>\n",
       "      <td>0.024951</td>\n",
       "      <td>0.007739</td>\n",
       "      <td>0.009693</td>\n",
       "      <td>-0.011886</td>\n",
       "    </tr>\n",
       "    <tr>\n",
       "      <th>Item_Visibility</th>\n",
       "      <td>-0.014168</td>\n",
       "      <td>1.000000</td>\n",
       "      <td>-0.001315</td>\n",
       "      <td>-0.074834</td>\n",
       "      <td>-0.128625</td>\n",
       "      <td>-0.160985</td>\n",
       "    </tr>\n",
       "    <tr>\n",
       "      <th>Item_MRP</th>\n",
       "      <td>0.024951</td>\n",
       "      <td>-0.001315</td>\n",
       "      <td>1.000000</td>\n",
       "      <td>0.005020</td>\n",
       "      <td>0.567574</td>\n",
       "      <td>0.011173</td>\n",
       "    </tr>\n",
       "    <tr>\n",
       "      <th>Outlet_Establishment_Year</th>\n",
       "      <td>0.007739</td>\n",
       "      <td>-0.074834</td>\n",
       "      <td>0.005020</td>\n",
       "      <td>1.000000</td>\n",
       "      <td>-0.049135</td>\n",
       "      <td>-0.074545</td>\n",
       "    </tr>\n",
       "    <tr>\n",
       "      <th>Item_Outlet_Sales</th>\n",
       "      <td>0.009693</td>\n",
       "      <td>-0.128625</td>\n",
       "      <td>0.567574</td>\n",
       "      <td>-0.049135</td>\n",
       "      <td>1.000000</td>\n",
       "      <td>0.759326</td>\n",
       "    </tr>\n",
       "    <tr>\n",
       "      <th>Sales_Item_Ratio</th>\n",
       "      <td>-0.011886</td>\n",
       "      <td>-0.160985</td>\n",
       "      <td>0.011173</td>\n",
       "      <td>-0.074545</td>\n",
       "      <td>0.759326</td>\n",
       "      <td>1.000000</td>\n",
       "    </tr>\n",
       "  </tbody>\n",
       "</table>\n",
       "</div>"
      ],
      "text/plain": [
       "                           Item_Weight  Item_Visibility  Item_MRP  \\\n",
       "Item_Weight                   1.000000        -0.014168  0.024951   \n",
       "Item_Visibility              -0.014168         1.000000 -0.001315   \n",
       "Item_MRP                      0.024951        -0.001315  1.000000   \n",
       "Outlet_Establishment_Year     0.007739        -0.074834  0.005020   \n",
       "Item_Outlet_Sales             0.009693        -0.128625  0.567574   \n",
       "Sales_Item_Ratio             -0.011886        -0.160985  0.011173   \n",
       "\n",
       "                           Outlet_Establishment_Year  Item_Outlet_Sales  \\\n",
       "Item_Weight                                 0.007739           0.009693   \n",
       "Item_Visibility                            -0.074834          -0.128625   \n",
       "Item_MRP                                    0.005020           0.567574   \n",
       "Outlet_Establishment_Year                   1.000000          -0.049135   \n",
       "Item_Outlet_Sales                          -0.049135           1.000000   \n",
       "Sales_Item_Ratio                           -0.074545           0.759326   \n",
       "\n",
       "                           Sales_Item_Ratio  \n",
       "Item_Weight                       -0.011886  \n",
       "Item_Visibility                   -0.160985  \n",
       "Item_MRP                           0.011173  \n",
       "Outlet_Establishment_Year         -0.074545  \n",
       "Item_Outlet_Sales                  0.759326  \n",
       "Sales_Item_Ratio                   1.000000  "
      ]
     },
     "execution_count": 10,
     "metadata": {},
     "output_type": "execute_result"
    }
   ],
   "source": [
    "#Test for linear relation with Sales\n",
    "train.corr()"
   ]
  },
  {
   "cell_type": "markdown",
   "metadata": {
    "ExecuteTime": {
     "end_time": "2018-04-02T12:01:39.407428Z",
     "start_time": "2018-04-02T12:01:39.402415Z"
    }
   },
   "source": [
    "Findings:\n",
    "    - Item MRP shows a moderately positive linear relationship with Item_Outlet_Sales"
   ]
  },
  {
   "cell_type": "code",
   "execution_count": 11,
   "metadata": {
    "ExecuteTime": {
     "end_time": "2018-04-06T09:36:10.751153Z",
     "start_time": "2018-04-06T09:36:10.689996Z"
    }
   },
   "outputs": [
    {
     "name": "stdout",
     "output_type": "stream",
     "text": [
      "Applying Chi Squared on Item Type vs Sales: \n",
      "\n",
      "Item_Type\n",
      "P-Value: 1.0335983028373673e-28\n",
      "Statistically significant association exist!\n",
      "\n",
      "\n"
     ]
    }
   ],
   "source": [
    "# Use Chi Squared Test to find differences in item variables and sales.\n",
    "fields =['Item_Type']\n",
    "\n",
    "print('Applying Chi Squared on Item Type vs Sales: \\n')\n",
    "for field in fields:\n",
    "    contingencyTable = pd.crosstab(train['Item_Outlet_Sales'],train[field])\n",
    "    chi2, p, dof, expected = sp.stats.chi2_contingency(contingencyTable)\n",
    "    \n",
    "    if p <= 0.05:\n",
    "        print(field)\n",
    "        print('P-Value:',p)\n",
    "        print('Statistically significant association exist!')   \n",
    "    print('\\n')"
   ]
  },
  {
   "cell_type": "markdown",
   "metadata": {
    "ExecuteTime": {
     "end_time": "2018-04-02T11:50:39.596477Z",
     "start_time": "2018-04-02T11:50:39.591466Z"
    }
   },
   "source": [
    "Findings:\n",
    "    - All item types has an impact on the Item_Outlet_Sales"
   ]
  },
  {
   "cell_type": "code",
   "execution_count": 12,
   "metadata": {
    "ExecuteTime": {
     "end_time": "2018-04-06T09:36:10.955696Z",
     "start_time": "2018-04-06T09:36:10.752154Z"
    }
   },
   "outputs": [
    {
     "name": "stdout",
     "output_type": "stream",
     "text": [
      "Average Number of Products Sold: \n"
     ]
    },
    {
     "data": {
      "image/png": "[encoded data removed]",
      "text/plain": [
       "<matplotlib.figure.Figure at 0x185278c6cc0>"
      ]
     },
     "metadata": {},
     "output_type": "display_data"
    }
   ],
   "source": [
    "print(\"Average Number of Products Sold: \")\n",
    "by_Item = train.groupby('Item_Type')\n",
    "\n",
    "vals = ['Baking Goods','Breads','Breakfast','Canned','Dairy','Frozen Foods','Fruits and Vegetables','Hard Drinks','Health and Hygiene','Household','Meat','Others','Seafood','Snack Foods','Soft Drinks','Starchy Foods']\n",
    "\n",
    "fig, ax = plt.subplots()\n",
    "plt.title('Item Sales vs mean Items Sold')\n",
    "plt.xlabel('Mean Units Sold')\n",
    "plt.ylabel('Item Outlet Sales')\n",
    "fig.set_size_inches(10, 7.5)\n",
    "plt.scatter(x=by_Item.Sales_Item_Ratio.mean(), y=by_Item.Item_Outlet_Sales.mean())\n",
    "for i, txt in enumerate(vals):\n",
    "    ax.annotate(txt, (by_Item.Sales_Item_Ratio.mean()[i],by_Item.Item_Outlet_Sales.mean()[i]))"
   ]
  },
  {
   "cell_type": "markdown",
   "metadata": {},
   "source": [
    "Findings:\n",
    "    - More  and  were sold than any other category of item.\n",
    "    - Seafood, Breakfast, Starchy Foods, Fruit & Vegetable, Snack Foods & Household were  most sold in volume."
   ]
  },
  {
   "cell_type": "code",
   "execution_count": 13,
   "metadata": {
    "ExecuteTime": {
     "end_time": "2018-04-06T09:36:11.172271Z",
     "start_time": "2018-04-06T09:36:10.957703Z"
    }
   },
   "outputs": [
    {
     "name": "stdout",
     "output_type": "stream",
     "text": [
      "Average % Visibility by Product: \n"
     ]
    },
    {
     "data": {
      "image/png": "[encoded data removed]",
      "text/plain": [
       "<matplotlib.figure.Figure at 0x18527f63400>"
      ]
     },
     "metadata": {},
     "output_type": "display_data"
    }
   ],
   "source": [
    "print(\"Average % Visibility by Product: \")\n",
    "z = by_Item.Item_Visibility.mean()\n",
    "fig, ax = plt.subplots()\n",
    "plt.title('Item Sales vs Mean Item Visibility')\n",
    "plt.xlabel('Item Visibility')\n",
    "plt.ylabel('Item Outlet Sales')\n",
    "fig.set_size_inches(10, 7.5)\n",
    "plt.scatter(x=z, y=by_Item.Item_Outlet_Sales.mean())\n",
    "for i, txt in enumerate(vals):\n",
    "    ax.annotate(txt, (z[i],by_Item.Item_Outlet_Sales.mean()[i]))"
   ]
  },
  {
   "cell_type": "markdown",
   "metadata": {},
   "source": [
    "Findings:\n",
    "    - Similarly the item sales increases when the aggregated item visibility increases.\n",
    "    - Breakfast, Seafood and Dairy were the most visible items in stores."
   ]
  },
  {
   "cell_type": "code",
   "execution_count": 14,
   "metadata": {
    "ExecuteTime": {
     "end_time": "2018-04-06T09:36:11.375814Z",
     "start_time": "2018-04-06T09:36:11.174277Z"
    }
   },
   "outputs": [
    {
     "name": "stdout",
     "output_type": "stream",
     "text": [
      "Item Sales to Item Weight: \n"
     ]
    },
    {
     "data": {
      "image/png": "[encoded data removed]",
      "text/plain": [
       "<matplotlib.figure.Figure at 0x18527f63550>"
      ]
     },
     "metadata": {},
     "output_type": "display_data"
    }
   ],
   "source": [
    "print('Item Sales to Item Weight: ')\n",
    "fig, ax = plt.subplots()\n",
    "plt.title('Item Sales vs mean Item Weight')\n",
    "plt.xlabel('Mean Item Weight')\n",
    "plt.ylabel('Item Outlet Sales')\n",
    "fig.set_size_inches(10, 7.5)\n",
    "plt.scatter(x=by_Item.Item_Weight.mean(), y=by_Item.Item_Outlet_Sales.mean())\n",
    "for i, txt in enumerate(vals):\n",
    "    ax.annotate(txt, (by_Item.Item_Weight.mean()[i],by_Item.Item_Outlet_Sales.mean()[i]))"
   ]
  },
  {
   "cell_type": "markdown",
   "metadata": {
    "ExecuteTime": {
     "end_time": "2018-04-02T15:10:19.145143Z",
     "start_time": "2018-04-02T15:10:19.138125Z"
    }
   },
   "source": [
    "12Findings:\n",
    "    - Starchy foods were the 2nd heaviest sets of items and generated the most mean sales while Others is the heaviest with the lowest mean sales.\n",
    "    - The mean item weights are all between 11 - 14"
   ]
  },
  {
   "cell_type": "markdown",
   "metadata": {},
   "source": [
    "#### Outlet Sales Investigation"
   ]
  },
  {
   "cell_type": "code",
   "execution_count": 15,
   "metadata": {
    "ExecuteTime": {
     "end_time": "2018-04-06T09:36:11.399881Z",
     "start_time": "2018-04-06T09:36:11.378829Z"
    }
   },
   "outputs": [
    {
     "name": "stdout",
     "output_type": "stream",
     "text": [
      "Average Sales by: \n",
      "\n",
      "\n",
      "Outlet_Type\n",
      "Grocery Store        3.680343e+05\n",
      "Supermarket Type1    1.291734e+07\n",
      "Supermarket Type2    1.851823e+06\n",
      "Supermarket Type3    3.453926e+06\n",
      "Name: Item_Outlet_Sales, dtype: float64\n",
      "\n",
      "\n",
      "Outlet_Size\n",
      "High      2.142664e+06\n",
      "Medium    1.188225e+07\n",
      "Small     4.566212e+06\n",
      "Name: Item_Outlet_Sales, dtype: float64\n",
      "\n",
      "\n",
      "Outlet_Location_Type\n",
      "Tier 1    4.482059e+06\n",
      "Tier 2    6.472314e+06\n",
      "Tier 3    7.636753e+06\n",
      "Name: Item_Outlet_Sales, dtype: float64\n",
      "\n",
      "\n",
      "Outlet_Establishment_Year\n",
      "1985    3.633620e+06\n",
      "1987    2.142664e+06\n",
      "1997    2.118395e+06\n",
      "1998    1.883402e+05\n",
      "1999    2.183970e+06\n",
      "2002    2.036725e+06\n",
      "2004    2.268123e+06\n",
      "2007    2.167465e+06\n",
      "2009    1.851823e+06\n",
      "Name: Item_Outlet_Sales, dtype: float64\n"
     ]
    }
   ],
   "source": [
    "outlets =['Outlet_Type','Outlet_Size','Outlet_Location_Type','Outlet_Establishment_Year']\n",
    "print(\"Average Sales by: \")\n",
    "\n",
    "for outlet in outlets:\n",
    "    print('\\n')\n",
    "    by_Item = train.groupby(outlet)\n",
    "    print(by_Item.Item_Outlet_Sales.sum())"
   ]
  },
  {
   "cell_type": "markdown",
   "metadata": {},
   "source": [
    "Findings:\n",
    "    - Type1 Supermarkets recorded the highest sales with a magnitude 10x the others.\n",
    "    - Type3 Supermarkets performed second best\n",
    "    - Medium sized Outlets also recorded the highest sales with a 10x magnitude.\n",
    "    - Tier 3 recorded the greatest sales\n",
    "    - Establishment in 1998 surprizingly had the lowest sales \n",
    "    - The Oldest Establishment (1985) recorded the greatest sale over the period."
   ]
  },
  {
   "cell_type": "code",
   "execution_count": 16,
   "metadata": {
    "ExecuteTime": {
     "end_time": "2018-04-06T09:36:11.560303Z",
     "start_time": "2018-04-06T09:36:11.400881Z"
    },
    "scrolled": true
   },
   "outputs": [
    {
     "name": "stdout",
     "output_type": "stream",
     "text": [
      "Applying Chi Squared on Outlet Variables vs Sales (95% Confidence Level): \n",
      "\n",
      "\n",
      "Outlet_Type\n",
      "P-Value: 3.4371967318312466e-121\n",
      "Statistically significant association exist!\n",
      "\n",
      "\n",
      "Outlet_Location_Type\n",
      "P-Value: 0.035581810296713895\n",
      "Statistically significant association exist!\n",
      "\n",
      "\n",
      "Outlet_Establishment_Year\n",
      "P-Value: 3.8385761155747724e-08\n",
      "Statistically significant association exist!\n"
     ]
    }
   ],
   "source": [
    "# Two-way chisquare test for the relationship between variables\n",
    "fields =['Outlet_Type','Outlet_Location_Type','Outlet_Size','Outlet_Establishment_Year']\n",
    "\n",
    "\n",
    "print('Applying Chi Squared on Outlet Variables vs Sales (95% Confidence Level): ')\n",
    "for field in fields:\n",
    "    contingencyTable = pd.crosstab(train['Item_Outlet_Sales'],train[field])\n",
    "    chi2, p, dof, expected = sp.stats.chi2_contingency(contingencyTable)\n",
    "    \n",
    "    if p <= 0.05:\n",
    "        print('\\n')\n",
    "        print(field)\n",
    "        print('P-Value:',p)\n",
    "        print('Statistically significant association exist!')   "
   ]
  },
  {
   "cell_type": "markdown",
   "metadata": {
    "ExecuteTime": {
     "end_time": "2018-04-02T02:38:46.288014Z",
     "start_time": "2018-04-02T02:38:46.275157Z"
    }
   },
   "source": [
    "Findings:\n",
    "    - Outlet size has no effect on Item_Outlet_Sales\n",
    "    - All other Outlet variables have an effect on Sales"
   ]
  },
  {
   "cell_type": "code",
   "execution_count": 17,
   "metadata": {
    "ExecuteTime": {
     "end_time": "2018-04-06T09:36:12.058636Z",
     "start_time": "2018-04-06T09:36:11.562310Z"
    }
   },
   "outputs": [
    {
     "name": "stdout",
     "output_type": "stream",
     "text": [
      "Barplot of Sales per Outlet Location Type arranged by Outlet Type:\n"
     ]
    },
    {
     "data": {
      "text/plain": [
       "<matplotlib.axes._subplots.AxesSubplot at 0x18515a29978>"
      ]
     },
     "execution_count": 17,
     "metadata": {},
     "output_type": "execute_result"
    },
    {
     "data": {
      "image/png": "[encoded data removed]",
      "text/plain": [
       "<matplotlib.figure.Figure at 0x185279099e8>"
      ]
     },
     "metadata": {},
     "output_type": "display_data"
    }
   ],
   "source": [
    "print('Barplot of Sales per Outlet Location Type arranged by Outlet Type:')\n",
    "\n",
    "fig, ax = plt.subplots()\n",
    "plt.title('Item Sales vs mean Item Weight')\n",
    "fig.set_size_inches(10, 7.5)\n",
    "sb.barplot(hue='Outlet_Type', y='Item_Outlet_Sales', data=train, x='Outlet_Location_Type')"
   ]
  },
  {
   "cell_type": "markdown",
   "metadata": {},
   "source": [
    "Findings:\n",
    "    - In Tier 1 & Tier2, Type1 Supermarkets are the top performers. \n",
    "    - Tier3 has Type3 Supermarkets as the top performer with Type1 in second. \n",
    "    - Tier3 has sales in all Outlet types."
   ]
  },
  {
   "cell_type": "code",
   "execution_count": 18,
   "metadata": {
    "ExecuteTime": {
     "end_time": "2018-04-06T09:36:12.669252Z",
     "start_time": "2018-04-06T09:36:12.063647Z"
    }
   },
   "outputs": [
    {
     "data": {
      "text/plain": [
       "<matplotlib.axes._subplots.AxesSubplot at 0x185279c9908>"
      ]
     },
     "execution_count": 18,
     "metadata": {},
     "output_type": "execute_result"
    },
    {
     "data": {
      "image/png": "[encoded data removed]",
      "text/plain": [
       "<matplotlib.figure.Figure at 0x185279f3978>"
      ]
     },
     "metadata": {},
     "output_type": "display_data"
    }
   ],
   "source": [
    "# Establishment \n",
    "fig, ax = plt.subplots()\n",
    "plt.title('Item Sales vs Outlet_Establishment_Year by Outlet Type')\n",
    "fig.set_size_inches(10, 7.5)\n",
    "sb.barplot(x='Outlet_Establishment_Year',y='Item_Outlet_Sales',data=train, hue='Outlet_Type')"
   ]
  },
  {
   "cell_type": "markdown",
   "metadata": {},
   "source": [
    "Findings:\n",
    "    - More Supermarkets Type1 were established than any other store.\n",
    "    - The only sales generating Type3 Supermarket was established in 1985.\n",
    "    - Type2 Supermarkets were established in 2009.\n",
    "    - Grocery stores were also established as early as 1985."
   ]
  },
  {
   "cell_type": "code",
   "execution_count": 19,
   "metadata": {
    "ExecuteTime": {
     "end_time": "2018-04-06T09:36:13.207688Z",
     "start_time": "2018-04-06T09:36:12.671260Z"
    }
   },
   "outputs": [
    {
     "data": {
      "text/plain": [
       "<matplotlib.axes._subplots.AxesSubplot at 0x1852a009940>"
      ]
     },
     "execution_count": 19,
     "metadata": {},
     "output_type": "execute_result"
    },
    {
     "data": {
      "image/png": "[encoded data removed]",
      "text/plain": [
       "<matplotlib.figure.Figure at 0x18529f83c88>"
      ]
     },
     "metadata": {},
     "output_type": "display_data"
    }
   ],
   "source": [
    "fig, ax = plt.subplots()\n",
    "plt.title('Item Sales vs Outlet Establishment Year by Outlet Size')\n",
    "fig.set_size_inches(10, 7.5)\n",
    "sb.barplot(x='Outlet_Establishment_Year',y='Item_Outlet_Sales',data=train, hue='Outlet_Size')"
   ]
  },
  {
   "cell_type": "markdown",
   "metadata": {},
   "source": [
    "Findings:\n",
    "    - Medium sized Outlets are more prevalent and is one of the oldest stores established.\n",
    "    - The high sized sales generating outlets were established in 1987.\n",
    "    - The 2nd most prevalent store size are small being established as far back as 1985."
   ]
  },
  {
   "cell_type": "code",
   "execution_count": 20,
   "metadata": {
    "ExecuteTime": {
     "end_time": "2018-04-06T09:36:13.784223Z",
     "start_time": "2018-04-06T09:36:13.210696Z"
    }
   },
   "outputs": [
    {
     "data": {
      "text/plain": [
       "<matplotlib.axes._subplots.AxesSubplot at 0x1852a091da0>"
      ]
     },
     "execution_count": 20,
     "metadata": {},
     "output_type": "execute_result"
    },
    {
     "data": {
      "image/png": "[encoded data removed]",
      "text/plain": [
       "<matplotlib.figure.Figure at 0x1852a5da828>"
      ]
     },
     "metadata": {},
     "output_type": "display_data"
    }
   ],
   "source": [
    "fig, ax = plt.subplots()\n",
    "plt.title('Item Sales vs Outlet Establishment Year byOutlet_Location_Type')\n",
    "fig.set_size_inches(10, 7.5)\n",
    "sb.barplot(x='Outlet_Establishment_Year',y='Item_Outlet_Sales',data=train, hue='Outlet_Location_Type')"
   ]
  },
  {
   "cell_type": "markdown",
   "metadata": {},
   "source": [
    "Findings:\n",
    "    - Tier1 & Tier3 were the first to be established.\n",
    "    - Tier3 in the oldest outlets were the greatest sales earners.\n",
    "    - Tier2 Outlets were established as of 2002."
   ]
  },
  {
   "cell_type": "markdown",
   "metadata": {
    "ExecuteTime": {
     "end_time": "2018-03-27T05:13:13.038232Z",
     "start_time": "2018-03-27T05:13:13.035220Z"
    }
   },
   "source": [
    "## Conclusion"
   ]
  },
  {
   "cell_type": "markdown",
   "metadata": {},
   "source": [
    "    It can be concluded that the Item Properties useful in the following ranges:\n",
    "    Visibility between range 0.6 - 0.8, Item Weight between 12.5 -13,5 and mean sales     between 2200 - 2300. The five (5) most purchased items were Fruits & Vegetables,     Snacks, Frozen Fruits and Household while Seafood, Breakfast and Others were the     least in sales. The Chi Squared test also showed that there is the all the different features had differed impact on the item outlet sales.\n",
    "    \n",
    "    It can also be concluded that Outlet type properties such as Supermarket Type1 are the largest sales by volume as this type generate high sales in all areas/tiers as more  Type1 Supermarkets are present. Outlets regardless of year of establishment generally generate similar sales revenue with the only outliers being the outlets establishment created in 1998 which has the lowest sales for the period due to only a grocery store being established generating sales and 1985 that generated the highest sales revenue with a high sales Type3 Supermarket and a grocery store. Medium sized outlets are    also most frequent and oldest thus having the greatest sales revenue. Chi Squared     test showed that Outlet Size do not impact the sales revenue. Tier 3 locations have a composition of all outlet types thus would lead to Tier3 locations having the        greatest sales revenues. "
   ]
  },
  {
   "cell_type": "markdown",
   "metadata": {
    "ExecuteTime": {
     "end_time": "2018-03-27T05:12:51.499090Z",
     "start_time": "2018-03-27T05:12:51.492313Z"
    }
   },
   "source": [
    "# Big Mart Sales III Prediction "
   ]
  },
  {
   "cell_type": "markdown",
   "metadata": {},
   "source": [
    "## Feature Engineering"
   ]
  },
  {
   "cell_type": "markdown",
   "metadata": {},
   "source": [
    "### Variable Transformation"
   ]
  },
  {
   "cell_type": "code",
   "execution_count": 21,
   "metadata": {
    "ExecuteTime": {
     "end_time": "2018-04-06T09:36:13.811306Z",
     "start_time": "2018-04-06T09:36:13.786224Z"
    }
   },
   "outputs": [
    {
     "name": "stdout",
     "output_type": "stream",
     "text": [
      "Normalizing the Item_MRP field....\n",
      "Normalization Complete!\n"
     ]
    }
   ],
   "source": [
    "# Normalizing Item MRP\n",
    "print('Normalizing the Item_MRP field....')\n",
    "from sklearn import preprocessing\n",
    "x = train[['Item_MRP']].values.astype(float)\n",
    "min_max_scaler = preprocessing.MinMaxScaler()\n",
    "\n",
    "# Create an object to transform the data to fit minmax processor\n",
    "x_scaled = min_max_scaler.fit_transform(x)\n",
    "\n",
    "# Run the normalizer on the dataframe\n",
    "train['Normalized'] = pd.DataFrame(x_scaled) \n",
    "print('Normalization Complete!')"
   ]
  },
  {
   "cell_type": "code",
   "execution_count": 22,
   "metadata": {
    "ExecuteTime": {
     "end_time": "2018-04-06T09:36:13.977748Z",
     "start_time": "2018-04-06T09:36:13.815300Z"
    }
   },
   "outputs": [
    {
     "name": "stdout",
     "output_type": "stream",
     "text": [
      "Transforming features and labels....\n",
      "Transformation completed, X shape: (8523, 21) and Y shape (8523,)\n"
     ]
    }
   ],
   "source": [
    "# Defining X and y variables and tranforming X values to sklearn friendly format\n",
    "print('Transforming features and labels....')\n",
    "y = np.array(train.Item_Outlet_Sales)\n",
    "new_train =train.drop(['Sales_Item_Ratio','Item_Identifier','Outlet_Identifier','Item_Outlet_Sales'],axis=1)\n",
    "\n",
    "train_selected = new_train.drop(['Item_MRP','Outlet_Size','Item_Weight','Outlet_Establishment_Year','Outlet_Location_Type','Item_Visibility','Item_Fat_Content'], axis = 1)\n",
    "X= train_selected.to_dict(orient='records')\n",
    "\n",
    "from sklearn.feature_extraction import DictVectorizer\n",
    "vec = DictVectorizer()\n",
    "X = vec.fit_transform(X).toarray()\n",
    "print('Transformation completed, X shape: {} and Y shape {}'.format(X.shape,y.shape) )\n"
   ]
  },
  {
   "cell_type": "markdown",
   "metadata": {},
   "source": [
    "### Variable Creation"
   ]
  },
  {
   "cell_type": "markdown",
   "metadata": {},
   "source": [
    "    - No derivative features were created"
   ]
  },
  {
   "cell_type": "markdown",
   "metadata": {},
   "source": [
    "## Model Development"
   ]
  },
  {
   "cell_type": "markdown",
   "metadata": {},
   "source": [
    "    - In progress"
   ]
  },
  {
   "cell_type": "markdown",
   "metadata": {},
   "source": [
    "### Cross Validation"
   ]
  },
  {
   "cell_type": "markdown",
   "metadata": {},
   "source": [
    "Spliting the data into training and testing "
   ]
  },
  {
   "cell_type": "code",
   "execution_count": 200,
   "metadata": {
    "ExecuteTime": {
     "end_time": "2018-04-06T12:54:58.644555Z",
     "start_time": "2018-04-06T12:54:58.632829Z"
    }
   },
   "outputs": [
    {
     "name": "stdout",
     "output_type": "stream",
     "text": [
      "The data has been split using 80% for training and 20% for testing\n",
      "Train Shape: (6818, 21), Test Shape: (1705, 21)\n",
      "Memory Storage Costs Train: 1.145424 MB, Test: 0.28644 MB \n"
     ]
    }
   ],
   "source": [
    "#Splitting the data for training and testing\n",
    "from sklearn.model_selection import train_test_split\n",
    "X_train, X_test, y_train, y_test = train_test_split(X, y, test_size = 0.2)\n",
    "\n",
    "print(\"The data has been split using 80% for training and 20% for testing\")\n",
    "print(\"Train Shape: {}, Test Shape: {}\".format(X_train.shape,X_test.shape))\n",
    "print(\"Memory Storage Costs Train: {} MB, Test: {} MB \".format((X_train.size * X_train.dtype.itemsize)/1000000, (X_test.size * X_test.dtype.itemsize)/1000000))"
   ]
  },
  {
   "cell_type": "markdown",
   "metadata": {},
   "source": [
    "### Model Exploration"
   ]
  },
  {
   "cell_type": "code",
   "execution_count": 24,
   "metadata": {
    "ExecuteTime": {
     "end_time": "2018-04-06T09:36:14.760205Z",
     "start_time": "2018-04-06T09:36:14.027865Z"
    }
   },
   "outputs": [],
   "source": [
    "# Load all necessary modules needed\n",
    "from sklearn.ensemble import RandomForestRegressor as RFR\n",
    "from sklearn.linear_model import LinearRegression as LNR\n",
    "from sklearn.tree import DecisionTreeRegressor as DTR\n",
    "from sklearn.ensemble import AdaBoostRegressor as ABR\n",
    "from sklearn.ensemble import GradientBoostingRegressor as GBR\n",
    "from sklearn.neural_network import MLPRegressor as NNR\n",
    "from sklearn.linear_model import BayesianRidge as BR\n",
    "from sklearn.metrics import accuracy_score\n",
    "from sklearn.metrics import mean_squared_error\n",
    "from math import sqrt"
   ]
  },
  {
   "cell_type": "code",
   "execution_count": 25,
   "metadata": {
    "ExecuteTime": {
     "end_time": "2018-04-06T09:36:15.233997Z",
     "start_time": "2018-04-06T09:36:14.761715Z"
    }
   },
   "outputs": [
    {
     "name": "stdout",
     "output_type": "stream",
     "text": [
      "Gradient Boosting Regression:\n",
      "RMS Evaluation:  1122.8900767785913\n",
      "Fit Run Time: 0.45919299125671387\n",
      "Prediction Run Time: 0.0020079612731933594\n"
     ]
    }
   ],
   "source": [
    "# Testing Gradient Boosting Regression Model\n",
    "\n",
    "print (\"Gradient Boosting Regression:\")\n",
    "model= GBR()\n",
    "start_time = time.time()\n",
    "model.fit(X_train, y_train)\n",
    "elapsed_time = time.time() - start_time\n",
    "start_time = time.time()\n",
    "predicted = model.predict(X_test)\n",
    "elapsed2_time = time.time() - start_time\n",
    "rms = sqrt(mean_squared_error(y_test, predicted))\n",
    "print('RMS Evaluation:  {}'.format(rms) )\n",
    "print('Fit Run Time: {}'.format(elapsed_time))\n",
    "print('Prediction Run Time: {}'.format(elapsed2_time))"
   ]
  },
  {
   "cell_type": "code",
   "execution_count": 26,
   "metadata": {
    "ExecuteTime": {
     "end_time": "2018-04-06T09:36:15.428489Z",
     "start_time": "2018-04-06T09:36:15.235978Z"
    }
   },
   "outputs": [
    {
     "name": "stdout",
     "output_type": "stream",
     "text": [
      "Linear Regression:\n",
      "RMS Evaluation:  1176.5037251734236\n",
      "Fit Run Time: 0.18045520782470703\n",
      "Prediction Run Time: 0.0010018348693847656\n"
     ]
    }
   ],
   "source": [
    "# Testing Linear Regression Model\n",
    "\n",
    "print (\"Linear Regression:\")\n",
    "model= LNR()\n",
    "start_time = time.time()\n",
    "model.fit(X_train, y_train)\n",
    "elapsed_time = time.time() - start_time\n",
    "start_time = time.time()\n",
    "predicted = model.predict(X_test)\n",
    "elapsed2_time = time.time() - start_time\n",
    "rms = sqrt(mean_squared_error(y_test, predicted))\n",
    "print('RMS Evaluation:  {}'.format(rms) )\n",
    "print('Fit Run Time: {}'.format(elapsed_time))\n",
    "print('Prediction Run Time: {}'.format(elapsed2_time))"
   ]
  },
  {
   "cell_type": "code",
   "execution_count": 27,
   "metadata": {
    "ExecuteTime": {
     "end_time": "2018-04-06T09:36:15.671166Z",
     "start_time": "2018-04-06T09:36:15.432502Z"
    }
   },
   "outputs": [
    {
     "name": "stdout",
     "output_type": "stream",
     "text": [
      "Random Forest Regression:\n",
      "RMS Evaluation:  1278.8590040488168\n",
      "Fit Run Time: 0.2185816764831543\n",
      "Prediction Run Time: 0.007025003433227539\n"
     ]
    }
   ],
   "source": [
    "# Testing Random Forest Regression\n",
    "\n",
    "print (\"Random Forest Regression:\")\n",
    "model= RFR()\n",
    "start_time = time.time()\n",
    "model.fit(X_train, y_train)\n",
    "elapsed_time = time.time() - start_time\n",
    "start_time = time.time()\n",
    "predicted = model.predict(X_test)\n",
    "elapsed2_time = time.time() - start_time\n",
    "rms = sqrt(mean_squared_error(y_test, predicted))\n",
    "print('RMS Evaluation:  {}'.format(rms) )\n",
    "print('Fit Run Time: {}'.format(elapsed_time))\n",
    "print('Prediction Run Time: {}'.format(elapsed2_time))"
   ]
  },
  {
   "cell_type": "code",
   "execution_count": 28,
   "metadata": {
    "ExecuteTime": {
     "end_time": "2018-04-06T09:36:15.720269Z",
     "start_time": "2018-04-06T09:36:15.672138Z"
    }
   },
   "outputs": [
    {
     "name": "stdout",
     "output_type": "stream",
     "text": [
      "Decision Tree Regression:\n",
      "RMS Evaluation:  1539.2288820323736\n",
      "Fit Run Time: 0.0320887565612793\n",
      "Prediction Run Time: 0.0010221004486083984\n"
     ]
    }
   ],
   "source": [
    "# Testing Decision Tree Regression\n",
    "print (\"Decision Tree Regression:\")\n",
    "model= DTR()\n",
    "start_time = time.time()\n",
    "model.fit(X_train, y_train)\n",
    "elapsed_time = time.time() - start_time\n",
    "start_time = time.time()\n",
    "predicted = model.predict(X_test)\n",
    "elapsed2_time = time.time() - start_time\n",
    "rms = sqrt(mean_squared_error(y_test, predicted))\n",
    "print('RMS Evaluation:  {}'.format(rms) )\n",
    "print('Fit Run Time: {}'.format(elapsed_time))\n",
    "print('Prediction Run Time: {}'.format(elapsed2_time))"
   ]
  },
  {
   "cell_type": "code",
   "execution_count": 29,
   "metadata": {
    "ExecuteTime": {
     "end_time": "2018-04-06T09:36:15.744329Z",
     "start_time": "2018-04-06T09:36:15.723274Z"
    }
   },
   "outputs": [
    {
     "name": "stdout",
     "output_type": "stream",
     "text": [
      "Bayesian Ridge:\n",
      "RMS Evaluation:  1176.1353282410337\n",
      "Fit Run Time: 0.00902247428894043\n",
      "Prediction Run Time: 0.0\n"
     ]
    }
   ],
   "source": [
    "# Testing the Bayesian Bridge Model \n",
    "\n",
    "print (\"Bayesian Ridge:\")\n",
    "model= BR()\n",
    "start_time = time.time()\n",
    "model.fit(X_train, y_train)\n",
    "elapsed_time = time.time() - start_time\n",
    "start_time = time.time()\n",
    "predicted = model.predict(X_test)\n",
    "elapsed2_time = time.time() - start_time\n",
    "rms = sqrt(mean_squared_error(y_test, predicted))\n",
    "print('RMS Evaluation:  {}'.format(rms) )\n",
    "print('Fit Run Time: {}'.format(elapsed_time))\n",
    "print('Prediction Run Time: {}'.format(elapsed2_time))"
   ]
  },
  {
   "cell_type": "code",
   "execution_count": 30,
   "metadata": {
    "ExecuteTime": {
     "end_time": "2018-04-06T09:36:20.801429Z",
     "start_time": "2018-04-06T09:36:15.747337Z"
    }
   },
   "outputs": [
    {
     "name": "stdout",
     "output_type": "stream",
     "text": [
      "Neutral Network Regression:\n",
      "RMS Evaluation:  1229.1648412003958\n",
      "Fit Run Time: 5.037031888961792\n",
      "Prediction Run Time: 0.003010988235473633\n"
     ]
    },
    {
     "name": "stderr",
     "output_type": "stream",
     "text": [
      "C:\\Users\\Latoya Clarke\\Anaconda3-5\\lib\\site-packages\\sklearn\\neural_network\\multilayer_perceptron.py:564: ConvergenceWarning: Stochastic Optimizer: Maximum iterations (200) reached and the optimization hasn't converged yet.\n",
      "  % self.max_iter, ConvergenceWarning)\n"
     ]
    }
   ],
   "source": [
    "# Testing multilayer Perceptron Regression\n",
    "\n",
    "print (\"Neutral Network Regression:\")\n",
    "model= NNR()\n",
    "start_time = time.time()\n",
    "model.fit(X_train, y_train)\n",
    "elapsed_time = time.time() - start_time\n",
    "start_time = time.time()\n",
    "predicted = model.predict(X_test)\n",
    "elapsed2_time = time.time() - start_time\n",
    "rms = sqrt(mean_squared_error(y_test, predicted))\n",
    "print('RMS Evaluation:  {}'.format(rms) )\n",
    "print('Fit Run Time: {}'.format(elapsed_time))\n",
    "print('Prediction Run Time: {}'.format(elapsed2_time))"
   ]
  },
  {
   "cell_type": "markdown",
   "metadata": {},
   "source": [
    "### Model Selection"
   ]
  },
  {
   "cell_type": "markdown",
   "metadata": {},
   "source": [
    "The best performing model was Gradient Boosting Regession:\n",
    "    - Training Data Size: 8182 records\n",
    "    - Memory Storage Costs Train: 1.374576 MB \n",
    "    - Fitting Time: 0.7352519035339355\n",
    "    - Prediction Time: 0.0\n",
    "    - RMS Evaluation: 1032.6091742830586"
   ]
  },
  {
   "cell_type": "code",
   "execution_count": 201,
   "metadata": {
    "ExecuteTime": {
     "end_time": "2018-04-06T12:55:09.548935Z",
     "start_time": "2018-04-06T12:55:08.944363Z"
    }
   },
   "outputs": [
    {
     "name": "stdout",
     "output_type": "stream",
     "text": [
      "Gradient Boosting Regression:\n",
      "RMS Evaluation:  1107.8551632124997\n",
      "Model Score:  0.6353470862250836\n"
     ]
    }
   ],
   "source": [
    "print (\"Gradient Boosting Regression:\")\n",
    "model= GBR()\n",
    "model.fit(X_train, y_train)\n",
    "model_score = model.score(X_train, y_train)\n",
    "predicted = model.predict(X_test)\n",
    "rms = sqrt(mean_squared_error(y_test, predicted))\n",
    "print('RMS Evaluation:  {}'.format(rms) )\n",
    "print('Model Score:  {}'.format(model_score) )"
   ]
  },
  {
   "cell_type": "markdown",
   "metadata": {
    "ExecuteTime": {
     "end_time": "2018-04-06T09:55:35.561482Z",
     "start_time": "2018-04-06T09:55:35.556467Z"
    }
   },
   "source": [
    "### Model Cross Validation Scoring"
   ]
  },
  {
   "cell_type": "code",
   "execution_count": 197,
   "metadata": {
    "ExecuteTime": {
     "end_time": "2018-04-06T12:50:10.861482Z",
     "start_time": "2018-04-06T12:50:09.971388Z"
    }
   },
   "outputs": [
    {
     "name": "stdout",
     "output_type": "stream",
     "text": [
      "RMSE : 1093.04 (+/- 109.99)\n"
     ]
    }
   ],
   "source": [
    "from sklearn.model_selection import cross_val_score\n",
    "scores = cross_val_score(model, X, y, cv=2, scoring = 'neg_mean_squared_error')\n",
    "print(\"RMSE : %0.2f (+/- %0.2f)\" % (sqrt(-1*scores.mean()), sqrt(scores.std() * 2)))"
   ]
  },
  {
   "cell_type": "markdown",
   "metadata": {
    "ExecuteTime": {
     "end_time": "2018-03-27T05:39:06.841433Z",
     "start_time": "2018-03-27T05:39:06.837617Z"
    }
   },
   "source": [
    "### Model Optimization"
   ]
  },
  {
   "cell_type": "code",
   "execution_count": 205,
   "metadata": {
    "ExecuteTime": {
     "end_time": "2018-04-06T13:12:07.405578Z",
     "start_time": "2018-04-06T13:12:04.369347Z"
    }
   },
   "outputs": [
    {
     "name": "stdout",
     "output_type": "stream",
     "text": [
      "{'n_estimators': 50, 'random_state': 247}\n"
     ]
    }
   ],
   "source": [
    "# 247, 359, 620, 1166, 1924\n",
    "from sklearn.model_selection import GridSearchCV\n",
    "params = {\"n_estimators\": [50],               \n",
    "                    \"random_state\": [247, 359, 620, 1166, 1924]\n",
    "         } \n",
    "grid = GridSearchCV(estimator=model,                      \n",
    "                    param_grid=params) \n",
    "grid.fit(X_train, y_train) \n",
    "print(grid.best_params_)"
   ]
  },
  {
   "cell_type": "markdown",
   "metadata": {},
   "source": [
    "### Model Evaluation"
   ]
  },
  {
   "cell_type": "code",
   "execution_count": 299,
   "metadata": {
    "ExecuteTime": {
     "end_time": "2018-04-06T13:16:12.472657Z",
     "start_time": "2018-04-06T13:16:12.049533Z"
    }
   },
   "outputs": [
    {
     "name": "stdout",
     "output_type": "stream",
     "text": [
      "\n",
      "Gradient Boosting Regression:\n",
      "RMS Evaluation:  978.8109465948022\n"
     ]
    }
   ],
   "source": [
    "X_train, X_test, y_train, y_test = train_test_split(X, y, test_size = 0.05)\n",
    "\n",
    "print (\"\\nGradient Boosting Regression:\")\n",
    "model= GBR(n_estimators =50, random_state= 359)\n",
    "model.fit(X_train, y_train)\n",
    "model_score = model.score(X_train, y_train)\n",
    "predicted = model.predict(X_test)\n",
    "rms = sqrt(mean_squared_error(y_test, predicted))\n",
    "print('RMS Evaluation:  {}'.format(rms) )"
   ]
  },
  {
   "cell_type": "markdown",
   "metadata": {},
   "source": [
    "### Model Finalization"
   ]
  },
  {
   "cell_type": "markdown",
   "metadata": {},
   "source": [
    "    - In progress"
   ]
  },
  {
   "cell_type": "markdown",
   "metadata": {},
   "source": [
    "### Exporting Predictions"
   ]
  },
  {
   "cell_type": "code",
   "execution_count": 300,
   "metadata": {
    "ExecuteTime": {
     "end_time": "2018-04-06T13:16:24.207022Z",
     "start_time": "2018-04-06T13:16:24.173415Z"
    }
   },
   "outputs": [
    {
     "name": "stdout",
     "output_type": "stream",
     "text": [
      "Loading in the test dataset...\n"
     ]
    },
    {
     "data": {
      "text/html": [
       "<div>\n",
       "<style>\n",
       "    .dataframe thead tr:only-child th {\n",
       "        text-align: right;\n",
       "    }\n",
       "\n",
       "    .dataframe thead th {\n",
       "        text-align: left;\n",
       "    }\n",
       "\n",
       "    .dataframe tbody tr th {\n",
       "        vertical-align: top;\n",
       "    }\n",
       "</style>\n",
       "<table border=\"1\" class=\"dataframe\">\n",
       "  <thead>\n",
       "    <tr style=\"text-align: right;\">\n",
       "      <th></th>\n",
       "      <th>Item_Identifier</th>\n",
       "      <th>Item_Weight</th>\n",
       "      <th>Item_Fat_Content</th>\n",
       "      <th>Item_Visibility</th>\n",
       "      <th>Item_Type</th>\n",
       "      <th>Item_MRP</th>\n",
       "      <th>Outlet_Identifier</th>\n",
       "      <th>Outlet_Establishment_Year</th>\n",
       "      <th>Outlet_Size</th>\n",
       "      <th>Outlet_Location_Type</th>\n",
       "      <th>Outlet_Type</th>\n",
       "    </tr>\n",
       "  </thead>\n",
       "  <tbody>\n",
       "    <tr>\n",
       "      <th>342</th>\n",
       "      <td>FDN20</td>\n",
       "      <td>19.350</td>\n",
       "      <td>Low Fat</td>\n",
       "      <td>0.026223</td>\n",
       "      <td>Fruits and Vegetables</td>\n",
       "      <td>169.0474</td>\n",
       "      <td>OUT049</td>\n",
       "      <td>1999</td>\n",
       "      <td>Medium</td>\n",
       "      <td>Tier 1</td>\n",
       "      <td>Supermarket Type1</td>\n",
       "    </tr>\n",
       "    <tr>\n",
       "      <th>377</th>\n",
       "      <td>FDQ12</td>\n",
       "      <td>12.650</td>\n",
       "      <td>Low Fat</td>\n",
       "      <td>0.059270</td>\n",
       "      <td>Baking Goods</td>\n",
       "      <td>229.1010</td>\n",
       "      <td>OUT010</td>\n",
       "      <td>1998</td>\n",
       "      <td>Medium</td>\n",
       "      <td>Tier 3</td>\n",
       "      <td>Grocery Store</td>\n",
       "    </tr>\n",
       "    <tr>\n",
       "      <th>3897</th>\n",
       "      <td>FDP40</td>\n",
       "      <td>4.555</td>\n",
       "      <td>Regular</td>\n",
       "      <td>0.034552</td>\n",
       "      <td>Frozen Foods</td>\n",
       "      <td>112.5544</td>\n",
       "      <td>OUT017</td>\n",
       "      <td>2007</td>\n",
       "      <td>Medium</td>\n",
       "      <td>Tier 2</td>\n",
       "      <td>Supermarket Type1</td>\n",
       "    </tr>\n",
       "    <tr>\n",
       "      <th>622</th>\n",
       "      <td>FDU22</td>\n",
       "      <td>12.350</td>\n",
       "      <td>Low Fat</td>\n",
       "      <td>0.093486</td>\n",
       "      <td>Snack Foods</td>\n",
       "      <td>119.6124</td>\n",
       "      <td>OUT045</td>\n",
       "      <td>2002</td>\n",
       "      <td>Medium</td>\n",
       "      <td>Tier 2</td>\n",
       "      <td>Supermarket Type1</td>\n",
       "    </tr>\n",
       "  </tbody>\n",
       "</table>\n",
       "</div>"
      ],
      "text/plain": [
       "     Item_Identifier  Item_Weight Item_Fat_Content  Item_Visibility  \\\n",
       "342            FDN20       19.350          Low Fat         0.026223   \n",
       "377            FDQ12       12.650          Low Fat         0.059270   \n",
       "3897           FDP40        4.555          Regular         0.034552   \n",
       "622            FDU22       12.350          Low Fat         0.093486   \n",
       "\n",
       "                  Item_Type  Item_MRP Outlet_Identifier  \\\n",
       "342   Fruits and Vegetables  169.0474            OUT049   \n",
       "377            Baking Goods  229.1010            OUT010   \n",
       "3897           Frozen Foods  112.5544            OUT017   \n",
       "622             Snack Foods  119.6124            OUT045   \n",
       "\n",
       "      Outlet_Establishment_Year Outlet_Size Outlet_Location_Type  \\\n",
       "342                        1999      Medium               Tier 1   \n",
       "377                        1998      Medium               Tier 3   \n",
       "3897                       2007      Medium               Tier 2   \n",
       "622                        2002      Medium               Tier 2   \n",
       "\n",
       "            Outlet_Type  \n",
       "342   Supermarket Type1  \n",
       "377       Grocery Store  \n",
       "3897  Supermarket Type1  \n",
       "622   Supermarket Type1  "
      ]
     },
     "execution_count": 300,
     "metadata": {},
     "output_type": "execute_result"
    }
   ],
   "source": [
    "# Read and Transform variables for testing\n",
    "print('Loading in the test dataset...')\n",
    "test = pd.read_csv(r\"C:\\Users\\Latoya Clarke\\Desktop\\Data for Analysis\\bigmart_test_cleaned.csv\")\n",
    "test.sample(4)"
   ]
  },
  {
   "cell_type": "code",
   "execution_count": 301,
   "metadata": {
    "ExecuteTime": {
     "end_time": "2018-04-06T13:16:25.108350Z",
     "start_time": "2018-04-06T13:16:25.006580Z"
    }
   },
   "outputs": [
    {
     "name": "stdout",
     "output_type": "stream",
     "text": [
      "\n",
      "Transforming data......\n",
      "\n",
      "Test features (X) before: \n",
      "         Item_Type        Outlet_Type  Normalized\n",
      "5219   Snack Foods  Supermarket Type1    0.668375\n",
      "670      Breakfast  Supermarket Type1    0.026675\n",
      "1006  Frozen Foods  Supermarket Type1    0.676587\n",
      "\n",
      "Test features (X) after: \n",
      "[0.         0.         0.         0.         0.         0.\n",
      " 0.         0.         0.         0.         0.         0.\n",
      " 0.         1.         0.         0.         0.52448781 0.\n",
      " 1.         0.         0.        ]\n",
      "\n",
      "Predicting from Testing Data....\n",
      "\n",
      "Values Predicted:  [1662.09025062 1382.67766572  630.32240328 ... 1901.50751233 3519.81190294\n",
      " 1319.29747796]\n"
     ]
    }
   ],
   "source": [
    "print(\"\\nTransforming data......\")\n",
    "from sklearn import preprocessing\n",
    "x = test[['Item_MRP']].values.astype(float)\n",
    "min_max_scaler = preprocessing.MinMaxScaler()\n",
    "\n",
    "# Create an object to transform the data to fit minmax processor\n",
    "x_scaled = min_max_scaler.fit_transform(x)\n",
    "\n",
    "# Run the normalizer on the dataframe\n",
    "test['Normalized'] = pd.DataFrame(x_scaled) \n",
    "\n",
    "new_test =test.drop(['Item_Identifier','Outlet_Identifier',],axis=1)\n",
    "\n",
    "test_selected = new_test.drop(['Item_MRP','Outlet_Size','Item_Weight','Outlet_Establishment_Year','Outlet_Location_Type','Item_Visibility','Item_Fat_Content'], axis = 1)\n",
    "X_2= test_selected.to_dict(orient='records')\n",
    "\n",
    "from sklearn.feature_extraction import DictVectorizer\n",
    "vec = DictVectorizer()\n",
    "test_X = vec.fit_transform(X_2).toarray()\n",
    "\n",
    "print('\\nTest features (X) before: ')\n",
    "print(test_selected.sample(3))\n",
    "print('\\nTest features (X) after: ')\n",
    "print(test_X[3])\n",
    "\n",
    "print('\\nPredicting from Testing Data....')\n",
    "pred_y = model.predict(test_X)\n",
    "print('\\nValues Predicted: ',pred_y)"
   ]
  },
  {
   "cell_type": "markdown",
   "metadata": {},
   "source": [
    "Export to CSV"
   ]
  },
  {
   "cell_type": "code",
   "execution_count": 302,
   "metadata": {
    "ExecuteTime": {
     "end_time": "2018-04-06T13:16:26.653544Z",
     "start_time": "2018-04-06T13:16:26.607923Z"
    }
   },
   "outputs": [
    {
     "name": "stdout",
     "output_type": "stream",
     "text": [
      "Exporting Predicted data to file...\n",
      "Exported predicted data to file \"bigmart_predictions.csv\"\n"
     ]
    }
   ],
   "source": [
    "print('Exporting Predicted data to file...')\n",
    "test['Item_Outlet_Sales'] = pred_y\n",
    "test[['Item_Identifier','Outlet_Identifier','Item_Outlet_Sales']].to_csv(r\"C:\\Users\\Latoya Clarke\\Desktop\\Data for Analysis\\bigmart_predictions.csv\", index=False)\n",
    "print('Exported predicted data to file \"bigmart_predictions.csv\"')"
   ]
  },
  {
   "cell_type": "code",
   "execution_count": null,
   "metadata": {},
   "outputs": [],
   "source": []
  },
  {
   "cell_type": "code",
   "execution_count": null,
   "metadata": {},
   "outputs": [],
   "source": []
  },
  {
   "cell_type": "code",
   "execution_count": null,
   "metadata": {},
   "outputs": [],
   "source": []
  }
 ],
 "metadata": {
  "kernelspec": {
   "display_name": "Python 3",
   "language": "python",
   "name": "python3"
  },
  "language_info": {
   "codemirror_mode": {
    "name": "ipython",
    "version": 3
   },
   "file_extension": ".py",
   "mimetype": "text/x-python",
   "name": "python",
   "nbconvert_exporter": "python",
   "pygments_lexer": "ipython3",
   "version": "3.6.3"
  }
 },
 "nbformat": 4,
 "nbformat_minor": 2
}
