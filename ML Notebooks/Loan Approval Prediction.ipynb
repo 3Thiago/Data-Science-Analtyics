{
 "cells": [
  {
   "cell_type": "markdown",
   "metadata": {},
   "source": [
    "<h1><center> Loan Prediction Data Analysis"
   ]
  },
  {
   "cell_type": "code",
   "execution_count": 1,
   "metadata": {
    "ExecuteTime": {
     "end_time": "2018-04-06T13:08:47.161301Z",
     "start_time": "2018-04-06T13:08:47.141273Z"
    }
   },
   "outputs": [
    {
     "data": {
      "text/html": [
       "<script>\n",
       "    var code_show=true; //true -> hide code at first\n",
       "    \n",
       "    function code_toggle() {\n",
       "        $('div.prompt').hide(); // always hide prompt\n",
       "        \n",
       "        if (code_show){\n",
       "            $('div.input').hide();\n",
       "        } else {\n",
       "            $('div.input').show();\n",
       "        }\n",
       "        code_show = !code_show\n",
       "        \n",
       "    }\n",
       "    $( document ).ready(code_toggle);\n",
       "</script>\n",
       "<a href=\"javascript:code_toggle()\"><center>[View Code]</center></a>"
      ],
      "text/plain": [
       "<IPython.core.display.HTML object>"
      ]
     },
     "metadata": {},
     "output_type": "display_data"
    }
   ],
   "source": [
    "%%html\n",
    "<script>\n",
    "    var code_show=true; //true -> hide code at first\n",
    "    \n",
    "    function code_toggle() {\n",
    "        $('div.prompt').hide(); // always hide prompt\n",
    "        \n",
    "        if (code_show){\n",
    "            $('div.input').hide();\n",
    "        } else {\n",
    "            $('div.input').show();\n",
    "        }\n",
    "        code_show = !code_show\n",
    "        \n",
    "    }\n",
    "    $( document ).ready(code_toggle);\n",
    "</script>\n",
    "<a href=\"javascript:code_toggle()\"><center>[View Code]</center></a>"
   ]
  },
  {
   "cell_type": "markdown",
   "metadata": {},
   "source": [
    "## Problem Statement:\n",
    "\n",
    "Dream Housing Finance company deals in all home loans. They have presence across all urban, semi urban and rural areas. Customer first apply for home loan after that company validates the customer eligibility for loan.\n",
    "\n",
    "Company wants to automate the loan eligibility process (real time) based on customer detail provided while filling online application form. These details are Gender, Marital Status, Education, Number of Dependents, Income, Loan Amount, Credit History and others. To automate this process, they have given a problem to identify the customers segments, those are eligible for loan amount so that they can specifically target these customers. "
   ]
  },
  {
   "cell_type": "markdown",
   "metadata": {},
   "source": [
    "## Hypothesis:\n",
    "\n",
    "1. Married persons are more likely to be approved than single persons due to more stability in income thus decreased default risk. (**Married**)\n",
    "2. The more credit history that exists will increase the chances of a loan being approved.(**Credit History**)\n",
    "3. The higher loan amounts will be less desirable to lenders thus will dampen the chances of loans being approved.  (**Loan Amount**)\n",
    "4. A higher number of dependents will dampen the approval rates due to higher demand on household income. (**Dependents**)\n",
    "5. Persons with higher incomes are more inclined to be given a loan due to their ability to repay thus less risk involved. (**Income**)\n",
    "6. Higher Education levels should correlate to higher incomes than lower levels thus increasing chances of getting loan approved. (**Education**):\n",
    "7. Self-Employed persons are less likely to be approved for loans due to unstable, inconsistent income vs that of an employed person. (**Employment Terms**) \n",
    "8. The longer loan terms will lead to a greater likelihood of loan approval as this means that the borrower's ability to repay is greater over the life of the loan.  (**Loan Amount Term**)\n",
    "9. A higher Co-Applicant income will increase chances of loans being approved as these persons are used as collateral. (**Co-applicantIncome**)\n",
    "10. Persons in urban areas will have higher approval rates than other areas as urban areas have higher home prices than rural house prices. (**Property Area**)"
   ]
  },
  {
   "cell_type": "code",
   "execution_count": 2,
   "metadata": {
    "ExecuteTime": {
     "end_time": "2018-04-06T13:08:48.579274Z",
     "start_time": "2018-04-06T13:08:47.163304Z"
    }
   },
   "outputs": [],
   "source": [
    "#Libraries\n",
    "import numpy as np\n",
    "import pandas as pd\n",
    "import sklearn as sk\n",
    "import seaborn as sb\n",
    "%matplotlib inline"
   ]
  },
  {
   "cell_type": "markdown",
   "metadata": {},
   "source": [
    "## Data Acquisition"
   ]
  },
  {
   "cell_type": "markdown",
   "metadata": {},
   "source": [
    "Load data into a DataFrame from local machine or from the internet url"
   ]
  },
  {
   "cell_type": "code",
   "execution_count": 3,
   "metadata": {
    "ExecuteTime": {
     "end_time": "2018-04-06T13:08:48.612184Z",
     "start_time": "2018-04-06T13:08:48.582601Z"
    }
   },
   "outputs": [
    {
     "data": {
      "text/html": [
       "<div>\n",
       "<style>\n",
       "    .dataframe thead tr:only-child th {\n",
       "        text-align: right;\n",
       "    }\n",
       "\n",
       "    .dataframe thead th {\n",
       "        text-align: left;\n",
       "    }\n",
       "\n",
       "    .dataframe tbody tr th {\n",
       "        vertical-align: top;\n",
       "    }\n",
       "</style>\n",
       "<table border=\"1\" class=\"dataframe\">\n",
       "  <thead>\n",
       "    <tr style=\"text-align: right;\">\n",
       "      <th></th>\n",
       "      <th>Loan_ID</th>\n",
       "      <th>Gender</th>\n",
       "      <th>Married</th>\n",
       "      <th>Dependents</th>\n",
       "      <th>Education</th>\n",
       "      <th>Self_Employed</th>\n",
       "      <th>ApplicantIncome</th>\n",
       "      <th>CoapplicantIncome</th>\n",
       "      <th>LoanAmount</th>\n",
       "      <th>Loan_Amount_Term</th>\n",
       "      <th>Credit_History</th>\n",
       "      <th>Property_Area</th>\n",
       "      <th>Loan_Status</th>\n",
       "    </tr>\n",
       "  </thead>\n",
       "  <tbody>\n",
       "    <tr>\n",
       "      <th>0</th>\n",
       "      <td>LP001002</td>\n",
       "      <td>Male</td>\n",
       "      <td>No</td>\n",
       "      <td>0</td>\n",
       "      <td>Graduate</td>\n",
       "      <td>No</td>\n",
       "      <td>5849</td>\n",
       "      <td>0.0</td>\n",
       "      <td>NaN</td>\n",
       "      <td>360.0</td>\n",
       "      <td>1.0</td>\n",
       "      <td>Urban</td>\n",
       "      <td>Y</td>\n",
       "    </tr>\n",
       "    <tr>\n",
       "      <th>1</th>\n",
       "      <td>LP001003</td>\n",
       "      <td>Male</td>\n",
       "      <td>Yes</td>\n",
       "      <td>1</td>\n",
       "      <td>Graduate</td>\n",
       "      <td>No</td>\n",
       "      <td>4583</td>\n",
       "      <td>1508.0</td>\n",
       "      <td>128.0</td>\n",
       "      <td>360.0</td>\n",
       "      <td>1.0</td>\n",
       "      <td>Rural</td>\n",
       "      <td>N</td>\n",
       "    </tr>\n",
       "    <tr>\n",
       "      <th>2</th>\n",
       "      <td>LP001005</td>\n",
       "      <td>Male</td>\n",
       "      <td>Yes</td>\n",
       "      <td>0</td>\n",
       "      <td>Graduate</td>\n",
       "      <td>Yes</td>\n",
       "      <td>3000</td>\n",
       "      <td>0.0</td>\n",
       "      <td>66.0</td>\n",
       "      <td>360.0</td>\n",
       "      <td>1.0</td>\n",
       "      <td>Urban</td>\n",
       "      <td>Y</td>\n",
       "    </tr>\n",
       "    <tr>\n",
       "      <th>3</th>\n",
       "      <td>LP001006</td>\n",
       "      <td>Male</td>\n",
       "      <td>Yes</td>\n",
       "      <td>0</td>\n",
       "      <td>Not Graduate</td>\n",
       "      <td>No</td>\n",
       "      <td>2583</td>\n",
       "      <td>2358.0</td>\n",
       "      <td>120.0</td>\n",
       "      <td>360.0</td>\n",
       "      <td>1.0</td>\n",
       "      <td>Urban</td>\n",
       "      <td>Y</td>\n",
       "    </tr>\n",
       "    <tr>\n",
       "      <th>4</th>\n",
       "      <td>LP001008</td>\n",
       "      <td>Male</td>\n",
       "      <td>No</td>\n",
       "      <td>0</td>\n",
       "      <td>Graduate</td>\n",
       "      <td>No</td>\n",
       "      <td>6000</td>\n",
       "      <td>0.0</td>\n",
       "      <td>141.0</td>\n",
       "      <td>360.0</td>\n",
       "      <td>1.0</td>\n",
       "      <td>Urban</td>\n",
       "      <td>Y</td>\n",
       "    </tr>\n",
       "  </tbody>\n",
       "</table>\n",
       "</div>"
      ],
      "text/plain": [
       "    Loan_ID Gender Married Dependents     Education Self_Employed  \\\n",
       "0  LP001002   Male      No          0      Graduate            No   \n",
       "1  LP001003   Male     Yes          1      Graduate            No   \n",
       "2  LP001005   Male     Yes          0      Graduate           Yes   \n",
       "3  LP001006   Male     Yes          0  Not Graduate            No   \n",
       "4  LP001008   Male      No          0      Graduate            No   \n",
       "\n",
       "   ApplicantIncome  CoapplicantIncome  LoanAmount  Loan_Amount_Term  \\\n",
       "0             5849                0.0         NaN             360.0   \n",
       "1             4583             1508.0       128.0             360.0   \n",
       "2             3000                0.0        66.0             360.0   \n",
       "3             2583             2358.0       120.0             360.0   \n",
       "4             6000                0.0       141.0             360.0   \n",
       "\n",
       "   Credit_History Property_Area Loan_Status  \n",
       "0             1.0         Urban           Y  \n",
       "1             1.0         Rural           N  \n",
       "2             1.0         Urban           Y  \n",
       "3             1.0         Urban           Y  \n",
       "4             1.0         Urban           Y  "
      ]
     },
     "execution_count": 3,
     "metadata": {},
     "output_type": "execute_result"
    }
   ],
   "source": [
    "# Importing data into workspace\n",
    "location =r\"C:\\Users\\Latoya Clarke\\Desktop\\Data for Analysis\\loan_train.csv\"\n",
    "location2 =r\"C:\\Users\\Latoya Clarke\\Desktop\\Data for Analysis\\loan_test.csv\"\n",
    "loan = pd.read_csv(location)\n",
    "test = pd.read_csv(location2)\n",
    "loan.head()\n",
    "\n",
    "#This output shows 12 data columns with loan amount having missing values"
   ]
  },
  {
   "cell_type": "markdown",
   "metadata": {},
   "source": [
    "##  Data Exploration"
   ]
  },
  {
   "cell_type": "markdown",
   "metadata": {},
   "source": [
    "### Variable Identification"
   ]
  },
  {
   "cell_type": "markdown",
   "metadata": {},
   "source": [
    "1. Target Variable: **Loan_Status**\n",
    "\n",
    "2. Predictor Variables: **Married, Dependents, Education, Self_Employed, ApplicantIncome, CoapplicantIncome, LoanAmount, LoanAmount_Term, Credit_History, Property_Area** "
   ]
  },
  {
   "cell_type": "markdown",
   "metadata": {},
   "source": [
    "### Univariate Analysis"
   ]
  },
  {
   "cell_type": "markdown",
   "metadata": {},
   "source": [
    "At this stage, we explore variables one by one. Method to perform uni-variate analysis will depend on whether the variable type is categorical or continuous.\n",
    "\n",
    "Continuous Variables:- In case of continuous variables, we need to understand the central tendency and spread of the variable. These are measured using various statistical metrics visualization methods.\n",
    "\n",
    "Categorical Variables:- For categorical variables, we’ll use frequency table to understand distribution of each category. We can also read as percentage of values under each category. It can be be measured using two metrics, Count and Count% against each category. Bar chart can be used as visualization."
   ]
  },
  {
   "cell_type": "code",
   "execution_count": 4,
   "metadata": {
    "ExecuteTime": {
     "end_time": "2018-04-06T13:08:48.634744Z",
     "start_time": "2018-04-06T13:08:48.617696Z"
    }
   },
   "outputs": [
    {
     "name": "stdout",
     "output_type": "stream",
     "text": [
      "<class 'pandas.core.frame.DataFrame'>\n",
      "RangeIndex: 614 entries, 0 to 613\n",
      "Data columns (total 13 columns):\n",
      "Loan_ID              614 non-null object\n",
      "Gender               601 non-null object\n",
      "Married              611 non-null object\n",
      "Dependents           599 non-null object\n",
      "Education            614 non-null object\n",
      "Self_Employed        582 non-null object\n",
      "ApplicantIncome      614 non-null int64\n",
      "CoapplicantIncome    614 non-null float64\n",
      "LoanAmount           592 non-null float64\n",
      "Loan_Amount_Term     600 non-null float64\n",
      "Credit_History       564 non-null float64\n",
      "Property_Area        614 non-null object\n",
      "Loan_Status          614 non-null object\n",
      "dtypes: float64(4), int64(1), object(8)\n",
      "memory usage: 62.4+ KB\n"
     ]
    }
   ],
   "source": [
    "#General information on dataset\n",
    "loan.info()\n",
    "\n",
    "# 6/13 columns have missing values\n",
    "#Applicant income is an int datatype which means applicants state absolute values for their incomes.\n",
    "# while all other monies are of float datatypes."
   ]
  },
  {
   "cell_type": "code",
   "execution_count": 5,
   "metadata": {
    "ExecuteTime": {
     "end_time": "2018-04-06T13:08:48.677401Z",
     "start_time": "2018-04-06T13:08:48.640255Z"
    }
   },
   "outputs": [
    {
     "data": {
      "text/html": [
       "<div>\n",
       "<style>\n",
       "    .dataframe thead tr:only-child th {\n",
       "        text-align: right;\n",
       "    }\n",
       "\n",
       "    .dataframe thead th {\n",
       "        text-align: left;\n",
       "    }\n",
       "\n",
       "    .dataframe tbody tr th {\n",
       "        vertical-align: top;\n",
       "    }\n",
       "</style>\n",
       "<table border=\"1\" class=\"dataframe\">\n",
       "  <thead>\n",
       "    <tr style=\"text-align: right;\">\n",
       "      <th></th>\n",
       "      <th>ApplicantIncome</th>\n",
       "      <th>CoapplicantIncome</th>\n",
       "      <th>LoanAmount</th>\n",
       "      <th>Loan_Amount_Term</th>\n",
       "      <th>Credit_History</th>\n",
       "    </tr>\n",
       "  </thead>\n",
       "  <tbody>\n",
       "    <tr>\n",
       "      <th>count</th>\n",
       "      <td>614.000000</td>\n",
       "      <td>614.000000</td>\n",
       "      <td>592.000000</td>\n",
       "      <td>600.00000</td>\n",
       "      <td>564.000000</td>\n",
       "    </tr>\n",
       "    <tr>\n",
       "      <th>mean</th>\n",
       "      <td>5403.459283</td>\n",
       "      <td>1621.245798</td>\n",
       "      <td>146.412162</td>\n",
       "      <td>342.00000</td>\n",
       "      <td>0.842199</td>\n",
       "    </tr>\n",
       "    <tr>\n",
       "      <th>std</th>\n",
       "      <td>6109.041673</td>\n",
       "      <td>2926.248369</td>\n",
       "      <td>85.587325</td>\n",
       "      <td>65.12041</td>\n",
       "      <td>0.364878</td>\n",
       "    </tr>\n",
       "    <tr>\n",
       "      <th>min</th>\n",
       "      <td>150.000000</td>\n",
       "      <td>0.000000</td>\n",
       "      <td>9.000000</td>\n",
       "      <td>12.00000</td>\n",
       "      <td>0.000000</td>\n",
       "    </tr>\n",
       "    <tr>\n",
       "      <th>25%</th>\n",
       "      <td>2877.500000</td>\n",
       "      <td>0.000000</td>\n",
       "      <td>100.000000</td>\n",
       "      <td>360.00000</td>\n",
       "      <td>1.000000</td>\n",
       "    </tr>\n",
       "    <tr>\n",
       "      <th>50%</th>\n",
       "      <td>3812.500000</td>\n",
       "      <td>1188.500000</td>\n",
       "      <td>128.000000</td>\n",
       "      <td>360.00000</td>\n",
       "      <td>1.000000</td>\n",
       "    </tr>\n",
       "    <tr>\n",
       "      <th>75%</th>\n",
       "      <td>5795.000000</td>\n",
       "      <td>2297.250000</td>\n",
       "      <td>168.000000</td>\n",
       "      <td>360.00000</td>\n",
       "      <td>1.000000</td>\n",
       "    </tr>\n",
       "    <tr>\n",
       "      <th>max</th>\n",
       "      <td>81000.000000</td>\n",
       "      <td>41667.000000</td>\n",
       "      <td>700.000000</td>\n",
       "      <td>480.00000</td>\n",
       "      <td>1.000000</td>\n",
       "    </tr>\n",
       "  </tbody>\n",
       "</table>\n",
       "</div>"
      ],
      "text/plain": [
       "       ApplicantIncome  CoapplicantIncome  LoanAmount  Loan_Amount_Term  \\\n",
       "count       614.000000         614.000000  592.000000         600.00000   \n",
       "mean       5403.459283        1621.245798  146.412162         342.00000   \n",
       "std        6109.041673        2926.248369   85.587325          65.12041   \n",
       "min         150.000000           0.000000    9.000000          12.00000   \n",
       "25%        2877.500000           0.000000  100.000000         360.00000   \n",
       "50%        3812.500000        1188.500000  128.000000         360.00000   \n",
       "75%        5795.000000        2297.250000  168.000000         360.00000   \n",
       "max       81000.000000       41667.000000  700.000000         480.00000   \n",
       "\n",
       "       Credit_History  \n",
       "count      564.000000  \n",
       "mean         0.842199  \n",
       "std          0.364878  \n",
       "min          0.000000  \n",
       "25%          1.000000  \n",
       "50%          1.000000  \n",
       "75%          1.000000  \n",
       "max          1.000000  "
      ]
     },
     "execution_count": 5,
     "metadata": {},
     "output_type": "execute_result"
    }
   ],
   "source": [
    "loan.describe()\n",
    "\n",
    "# Credit history seems to be binary as to signify whether or not a credit history\n",
    "# Applicant Income seem to have a really large range\n",
    "# Loan terms ranges from 12 months (1 year) to 480 months (40 years)\n",
    "# Some Coapplicants may have 0 income"
   ]
  },
  {
   "cell_type": "markdown",
   "metadata": {},
   "source": [
    "### Missing Value Treatment"
   ]
  },
  {
   "cell_type": "code",
   "execution_count": 6,
   "metadata": {
    "ExecuteTime": {
     "end_time": "2018-04-06T13:08:48.723538Z",
     "start_time": "2018-04-06T13:08:48.681365Z"
    }
   },
   "outputs": [],
   "source": [
    "loan['Gender'] = loan['Gender'].fillna('Male')\n",
    "loan['Married'] = loan['Married'].fillna('Yes')\n",
    "loan['Dependents'] = loan['Dependents'].fillna(0)\n",
    "loan['Self_Employed'] = loan['Self_Employed'].fillna('No')\n",
    "loan['LoanAmount'] = loan['LoanAmount'].fillna(round(loan['LoanAmount'].mean(),1))\n",
    "loan['Loan_Amount_Term'] = loan['Loan_Amount_Term'].fillna(round(loan['Loan_Amount_Term'].mean(),1))\n",
    "loan['Credit_History'] = loan['Credit_History'].fillna(round(loan['Credit_History'].mean(),0))\n",
    "\n",
    "test['Gender'] = test['Gender'].fillna('Male')\n",
    "test['Married'] = test['Married'].fillna('Yes')\n",
    "test['Dependents'] = test['Dependents'].fillna(0)\n",
    "test['Self_Employed'] = test['Self_Employed'].fillna('No')\n",
    "test['LoanAmount'] = test['LoanAmount'].fillna(round(test['LoanAmount'].mean(),1))\n",
    "test['Loan_Amount_Term'] = test['Loan_Amount_Term'].fillna(round(test['Loan_Amount_Term'].mean(),1))\n",
    "test['Credit_History'] = test['Credit_History'].fillna(round(test['Credit_History'].mean(),0))"
   ]
  },
  {
   "cell_type": "markdown",
   "metadata": {},
   "source": [
    "### Outlier Detection and Treatment"
   ]
  },
  {
   "cell_type": "markdown",
   "metadata": {},
   "source": [
    "Outlier can be of two types: Univariate and Multivariate. Above, we have discussed the example of univariate outlier. These outliers can be found when we look at distribution of a single variable. Multi-variate outliers are outliers in an n-dimensional space.\n",
    "Outliers can drastically change the results of the data analysis and statistical modeling.\n",
    "Most commonly used method to detect outliers is visualization. We use various visualization methods, like Box-plot, Histogram, Scatter Plots."
   ]
  },
  {
   "cell_type": "markdown",
   "metadata": {},
   "source": [
    "## Feature Engineering"
   ]
  },
  {
   "cell_type": "markdown",
   "metadata": {},
   "source": [
    "Feature engineering is the science (and art) of extracting more information from existing data. You are actually making the data you already have more useful. Feature engineering itself can be divided in 2 steps:\n",
    "Variable transformation and\n",
    "Variable / Feature creation."
   ]
  },
  {
   "cell_type": "markdown",
   "metadata": {},
   "source": [
    "### Variable Transformation"
   ]
  },
  {
   "cell_type": "markdown",
   "metadata": {},
   "source": [
    "In data modelling, transformation refers to the replacement of a variable by a function. In other words, transformation is a process that changes the distribution or relationship of a variable with others."
   ]
  },
  {
   "cell_type": "markdown",
   "metadata": {},
   "source": [
    "### Variable Creation"
   ]
  },
  {
   "cell_type": "markdown",
   "metadata": {},
   "source": [
    "Feature / Variable creation is a process to generate a new variables / features based on existing variable(s)."
   ]
  },
  {
   "cell_type": "markdown",
   "metadata": {},
   "source": [
    "## Findings"
   ]
  },
  {
   "cell_type": "markdown",
   "metadata": {},
   "source": [
    "## Model Building"
   ]
  },
  {
   "cell_type": "code",
   "execution_count": 43,
   "metadata": {
    "ExecuteTime": {
     "end_time": "2018-04-06T13:24:34.954928Z",
     "start_time": "2018-04-06T13:24:34.930335Z"
    }
   },
   "outputs": [],
   "source": [
    "y = np.array(loan.Loan_Status)\n",
    "\n",
    "loan_selected = loan.drop(['Loan_ID','Loan_Status'], axis = 1)\n",
    "X= loan_selected.to_dict(orient='records')\n",
    "\n",
    "from sklearn.feature_extraction import DictVectorizer\n",
    "vec = DictVectorizer()\n",
    "X = vec.fit_transform(X).toarray()"
   ]
  },
  {
   "cell_type": "code",
   "execution_count": 89,
   "metadata": {
    "ExecuteTime": {
     "end_time": "2018-04-06T13:27:07.555447Z",
     "start_time": "2018-04-06T13:27:07.546889Z"
    }
   },
   "outputs": [],
   "source": [
    "#Splitting the data for training and testing\n",
    "from sklearn.model_selection import train_test_split\n",
    "X_train, X_test, y_train, y_test = train_test_split(X, y, test_size = 0.2,random_state =1234)"
   ]
  },
  {
   "cell_type": "code",
   "execution_count": 90,
   "metadata": {
    "ExecuteTime": {
     "end_time": "2018-04-06T13:27:08.158850Z",
     "start_time": "2018-04-06T13:27:08.152132Z"
    }
   },
   "outputs": [],
   "source": [
    "#Visualize train & test"
   ]
  },
  {
   "cell_type": "code",
   "execution_count": 91,
   "metadata": {
    "ExecuteTime": {
     "end_time": "2018-04-06T13:27:08.766277Z",
     "start_time": "2018-04-06T13:27:08.734177Z"
    }
   },
   "outputs": [
    {
     "name": "stdout",
     "output_type": "stream",
     "text": [
      "DECISION TREE: \n",
      "Model Prediction Accuracy:  66.67 %\n"
     ]
    }
   ],
   "source": [
    "from sklearn.svm import SVC\n",
    "from sklearn.ensemble import RandomForestClassifier as RFC\n",
    "from sklearn.neighbors import KNeighborsClassifier as KNN\n",
    "from sklearn.linear_model import LogisticRegression as LR\n",
    "from sklearn.ensemble import GradientBoostingClassifier as GBC\n",
    "from sklearn.tree import DecisionTreeClassifier as DT\n",
    "from sklearn.naive_bayes import GaussianNB as NB\n",
    "from sklearn.metrics import accuracy_score\n",
    "\n",
    "print(\"DECISION TREE: \")\n",
    "model = DT()\n",
    "model.fit(X_train, y_train)\n",
    "predicted= model.predict(X_test)\n",
    "print(\"Model Prediction Accuracy: \", round(100* accuracy_score(predicted, y_test),2),\"%\")"
   ]
  },
  {
   "cell_type": "code",
   "execution_count": 92,
   "metadata": {
    "ExecuteTime": {
     "end_time": "2018-04-06T13:27:09.555579Z",
     "start_time": "2018-04-06T13:27:09.535269Z"
    }
   },
   "outputs": [
    {
     "name": "stdout",
     "output_type": "stream",
     "text": [
      "KNN: \n",
      "Model Prediction Accuracy:  61.79 %\n"
     ]
    }
   ],
   "source": [
    "print(\"KNN: \")\n",
    "model = KNN() \n",
    "model.fit(X_train, y_train)\n",
    "predicted= model.predict(X_test)\n",
    "print(\"Model Prediction Accuracy: \", round(100* accuracy_score(predicted, y_test),2),\"%\")"
   ]
  },
  {
   "cell_type": "code",
   "execution_count": 93,
   "metadata": {
    "ExecuteTime": {
     "end_time": "2018-04-06T13:27:10.322226Z",
     "start_time": "2018-04-06T13:27:10.301777Z"
    }
   },
   "outputs": [
    {
     "name": "stdout",
     "output_type": "stream",
     "text": [
      "KNN: \n",
      "Model Prediction Accuracy:  61.79 %\n"
     ]
    }
   ],
   "source": [
    "print(\"KNN: \")\n",
    "model = KNN() \n",
    "model.fit(X_train, y_train)\n",
    "predicted= model.predict(X_test)\n",
    "print(\"Model Prediction Accuracy: \", round(100* accuracy_score(predicted, y_test),2),\"%\")"
   ]
  },
  {
   "cell_type": "code",
   "execution_count": 94,
   "metadata": {
    "ExecuteTime": {
     "end_time": "2018-04-06T13:27:10.994288Z",
     "start_time": "2018-04-06T13:27:10.976546Z"
    }
   },
   "outputs": [
    {
     "name": "stdout",
     "output_type": "stream",
     "text": [
      "Navie Bayes: \n",
      "Model Prediction Accuracy:  83.74 %\n"
     ]
    }
   ],
   "source": [
    "print(\"Navie Bayes: \")\n",
    "model = NB() \n",
    "model.fit(X_train, y_train)\n",
    "predicted= model.predict(X_test)\n",
    "print(\"Model Prediction Accuracy: \", round(100* accuracy_score(predicted, y_test),2),\"%\")"
   ]
  },
  {
   "cell_type": "code",
   "execution_count": 95,
   "metadata": {
    "ExecuteTime": {
     "end_time": "2018-04-06T13:27:12.045572Z",
     "start_time": "2018-04-06T13:27:11.922571Z"
    }
   },
   "outputs": [
    {
     "name": "stdout",
     "output_type": "stream",
     "text": [
      "Gradient Boosting: \n",
      "Model Prediction Accuracy:  78.86 %\n"
     ]
    }
   ],
   "source": [
    "print(\"Gradient Boosting: \")\n",
    "model = GBC() \n",
    "model.fit(X_train, y_train)\n",
    "predicted= model.predict(X_test)\n",
    "print(\"Model Prediction Accuracy: \", round(100* accuracy_score(predicted, y_test),2),\"%\")"
   ]
  },
  {
   "cell_type": "code",
   "execution_count": 96,
   "metadata": {
    "ExecuteTime": {
     "end_time": "2018-04-06T13:27:12.924636Z",
     "start_time": "2018-04-06T13:27:12.900718Z"
    }
   },
   "outputs": [
    {
     "name": "stdout",
     "output_type": "stream",
     "text": [
      "Logistic Regression: \n",
      "Model Prediction Accuracy:  86.18 %\n"
     ]
    }
   ],
   "source": [
    "print(\"Logistic Regression: \")\n",
    "model = LR() \n",
    "model.fit(X_train, y_train)\n",
    "predicted= model.predict(X_test)\n",
    "print(\"Model Prediction Accuracy: \", round(100* accuracy_score(predicted, y_test),2),\"%\")"
   ]
  },
  {
   "cell_type": "code",
   "execution_count": 97,
   "metadata": {
    "ExecuteTime": {
     "end_time": "2018-04-06T13:27:13.657114Z",
     "start_time": "2018-04-06T13:27:13.617733Z"
    }
   },
   "outputs": [
    {
     "name": "stdout",
     "output_type": "stream",
     "text": [
      "Random Forest: \n",
      "Model Prediction Accuracy:  73.98 %\n"
     ]
    }
   ],
   "source": [
    "print(\"Random Forest: \")\n",
    "model = RFC() \n",
    "model.fit(X_train, y_train)\n",
    "predicted= model.predict(X_test)\n",
    "print(\"Model Prediction Accuracy: \", round(100* accuracy_score(predicted, y_test),2),\"%\")"
   ]
  },
  {
   "cell_type": "code",
   "execution_count": 98,
   "metadata": {
    "ExecuteTime": {
     "end_time": "2018-04-06T13:27:14.662515Z",
     "start_time": "2018-04-06T13:27:14.597671Z"
    }
   },
   "outputs": [
    {
     "name": "stdout",
     "output_type": "stream",
     "text": [
      "Support Vector Machine: \n",
      "Model Prediction Accuracy:  68.29 %\n"
     ]
    }
   ],
   "source": [
    "print(\"Support Vector Machine: \")\n",
    "model = SVC() \n",
    "model.fit(X_train, y_train)\n",
    "predicted= model.predict(X_test)\n",
    "print(\"Model Prediction Accuracy: \", round(100* accuracy_score(predicted, y_test),2),\"%\")"
   ]
  },
  {
   "cell_type": "code",
   "execution_count": 107,
   "metadata": {
    "ExecuteTime": {
     "end_time": "2018-04-06T12:36:26.601186Z",
     "start_time": "2018-04-06T12:36:26.574373Z"
    }
   },
   "outputs": [
    {
     "name": "stdout",
     "output_type": "stream",
     "text": [
      "SDGC: \n",
      "Model Prediction Accuracy:  68.29 %\n"
     ]
    },
    {
     "name": "stderr",
     "output_type": "stream",
     "text": [
      "C:\\Users\\Latoya Clarke\\Anaconda3-5\\lib\\site-packages\\sklearn\\linear_model\\stochastic_gradient.py:128: FutureWarning: max_iter and tol parameters have been added in <class 'sklearn.linear_model.stochastic_gradient.SGDClassifier'> in 0.19. If both are left unset, they default to max_iter=5 and tol=None. If tol is not None, max_iter defaults to max_iter=1000. From 0.21, default max_iter will be 1000, and default tol will be 1e-3.\n",
      "  \"and default tol will be 1e-3.\" % type(self), FutureWarning)\n"
     ]
    }
   ],
   "source": [
    "from sklearn.linear_model import SGDClassifier as SGDC\n",
    "print(\"SDGC: \")\n",
    "model = SGDC() \n",
    "model.fit(X_train, y_train)\n",
    "predicted= model.predict(X_test)\n",
    "print(\"Model Prediction Accuracy: \", round(100* accuracy_score(predicted, y_test),2),\"%\")"
   ]
  },
  {
   "cell_type": "markdown",
   "metadata": {},
   "source": [
    "## Model Selection and Tuning"
   ]
  },
  {
   "cell_type": "code",
   "execution_count": 105,
   "metadata": {
    "ExecuteTime": {
     "end_time": "2018-04-06T13:31:10.983146Z",
     "start_time": "2018-04-06T13:31:10.687965Z"
    }
   },
   "outputs": [
    {
     "name": "stdout",
     "output_type": "stream",
     "text": [
      "Logistic Regression: \n",
      "Model Prediction Accuracy:  86.18 %\n"
     ]
    },
    {
     "name": "stderr",
     "output_type": "stream",
     "text": [
      "C:\\Users\\Latoya Clarke\\Anaconda3-5\\lib\\site-packages\\scipy\\optimize\\linesearch.py:414: LineSearchWarning: The line search algorithm did not converge\n",
      "  warn('The line search algorithm did not converge', LineSearchWarning)\n",
      "C:\\Users\\Latoya Clarke\\Anaconda3-5\\lib\\site-packages\\scipy\\optimize\\linesearch.py:285: LineSearchWarning: The line search algorithm did not converge\n",
      "  warn('The line search algorithm did not converge', LineSearchWarning)\n"
     ]
    }
   ],
   "source": [
    "#2042 to #792, \n",
    "\n",
    "print(\"Logistic Regression: \")\n",
    "model = LR(random_state = 1234, solver='newton-cg') \n",
    "model.fit(X_train, y_train)\n",
    "predicted= model.predict(X_test)\n",
    "print(\"Model Prediction Accuracy: \", round(100* accuracy_score(predicted, y_test),2),\"%\")"
   ]
  },
  {
   "cell_type": "markdown",
   "metadata": {},
   "source": [
    "## Predictions"
   ]
  },
  {
   "cell_type": "code",
   "execution_count": 19,
   "metadata": {
    "ExecuteTime": {
     "end_time": "2018-04-06T13:08:49.411874Z",
     "start_time": "2018-04-06T13:08:49.374709Z"
    }
   },
   "outputs": [],
   "source": [
    "test_selected = test.drop(['Loan_ID'], axis = 1)\n",
    "X_2= test_selected.to_dict(orient='records')\n",
    "\n",
    "from sklearn.feature_extraction import DictVectorizer\n",
    "vec = DictVectorizer()\n",
    "test_X = vec.fit_transform(X_2).toarray()"
   ]
  },
  {
   "cell_type": "code",
   "execution_count": 20,
   "metadata": {
    "ExecuteTime": {
     "end_time": "2018-04-06T13:08:49.448649Z",
     "start_time": "2018-04-06T13:08:49.416319Z"
    }
   },
   "outputs": [],
   "source": [
    "pred_y = model.predict(test_X)"
   ]
  },
  {
   "cell_type": "code",
   "execution_count": 21,
   "metadata": {
    "ExecuteTime": {
     "end_time": "2018-04-06T13:08:49.502295Z",
     "start_time": "2018-04-06T13:08:49.454166Z"
    }
   },
   "outputs": [],
   "source": [
    "test['Loan_Status'] = pred_y\n",
    "test[['Loan_ID','Loan_Status']].to_csv(r\"C:\\Users\\Latoya Clarke\\Desktop\\Data for Analysis\\loan_predictions.csv\", index=False)"
   ]
  },
  {
   "cell_type": "code",
   "execution_count": null,
   "metadata": {},
   "outputs": [],
   "source": []
  }
 ],
 "metadata": {
  "kernelspec": {
   "display_name": "Python 3",
   "language": "python",
   "name": "python3"
  },
  "language_info": {
   "codemirror_mode": {
    "name": "ipython",
    "version": 3
   },
   "file_extension": ".py",
   "mimetype": "text/x-python",
   "name": "python",
   "nbconvert_exporter": "python",
   "pygments_lexer": "ipython3",
   "version": "3.6.3"
  }
 },
 "nbformat": 4,
 "nbformat_minor": 2
}
